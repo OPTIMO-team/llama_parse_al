{
 "cells": [
  {
   "cell_type": "code",
   "execution_count": 1,
   "id": "605ba607",
   "metadata": {},
   "outputs": [],
   "source": [
    "from dotenv import load_dotenv\n",
    "load_dotenv()\n",
    "import nest_asyncio\n",
    "nest_asyncio.apply()\n",
    "from openai import OpenAI"
   ]
  },
  {
   "cell_type": "code",
   "execution_count": 302,
   "id": "6c1182e9",
   "metadata": {},
   "outputs": [
    {
     "name": "stdout",
     "output_type": "stream",
     "text": [
      "33\n"
     ]
    }
   ],
   "source": [
    "import os\n",
    "import pandas as pd\n",
    "files = os.listdir()\n",
    "# for i in files:\n",
    "#     if i.endswith('.xlsx'):\n",
    "#         print(i)\n",
    "import json\n",
    "filepath = 'Flow chart english.xlsx'\n",
    "os.path.exists(filepath)\n",
    "\n",
    "# Load Excel (adjust path and sheet name as needed)\n",
    "df = pd.read_excel(filepath, header=9)\n",
    "columns_to_drop = ['Process Symbols','Improve content', 'Inspection Problem Description','Improvement goals.1', \n",
    "                   'Current Level', 'Improvement goals.2', 'Unnamed: 25', 'Unnamed: 26', 'Expected', 'actual', 'BU', 'Manufacturing CoE-IE',\n",
    "                   'Number of operators', 'Average working hours at workstations (Sec.)','Unnamed: 34','Unnamed: 35',\n",
    "                   'Assignment content.1','Single time','Number of jobs','Total working hours', ' Saturation']\n",
    "df = df.drop(columns_to_drop, axis=1)\n",
    "\n",
    "print(len(df))\n",
    "# df.head()\n",
    "# print(df.to_string(index=False, max_cols=None))"
   ]
  },
  {
   "cell_type": "code",
   "execution_count": 303,
   "id": "3c84ea88",
   "metadata": {},
   "outputs": [
    {
     "name": "stdout",
     "output_type": "stream",
     "text": [
      "                                      Product Number  Workstation number                                      Workstation name  Serial number                                                                                                                                                                            Assignment content  Manual (Sec.)  Machine (Sec.)  Number of products  Working hours (Sec.)  Number of operators  Average Working hours (Sec.)  Current manual labor saturation Value Judgment Process Value Judgment unit Problem Description Improvement goals ECRS Action Item Classification Current Action Level\n",
      "                                                 NaN                 8.0                                              0/S Test            1.0                                                                                                                        Take 1 PCS product in each hand and put it on the test machine support           2.01             NaN                 1.0                  6.88                  1.0                         6.880                         0.860000                     VA                 NVA                   /                 /  NaN                          →                   M3\n",
      "                                                 NaN                 NaN                                                   NaN            2.0                                                                                                       Press the switch with both hands to test, and wait for the test machine to display PASS           2.63             NaN                 NaN                   NaN                  NaN                           NaN                              NaN                    NaN                  VA                 NaN               NaN  NaN                          ○                   M2\n",
      "                                                 NaN                 NaN                                                   NaN            3.0                                                                                                                                                Put the good products into the production line           2.24             NaN                 NaN                   NaN                  NaN                           NaN                              NaN                    NaN                 NVA                 NaN               NaN  NaN                          →                   M3\n",
      "                                                 NaN                 9.0                         Hi-pottest&Position detection            1.0                                                                                                                        Take 1 PCS product in each hand and put it on the test machine support           0.99             NaN                 1.0                  7.20                  1.0                         7.200                         0.900000                     VA                 NVA                   /                 /  NaN                          →                   M3\n",
      "                                                 NaN                 NaN                                                   NaN            2.0                                                                                                       Press the switch with both hands to test, and wait for the test machine to display PASS           2.56             NaN                 NaN                   NaN                  NaN                           NaN                              NaN                    NaN                 NVA                 NaN               NaN  NaN                          ○                   M2\n",
      "                                                 NaN                 NaN                                                   NaN            3.0                                                              Use both hands to take the tested product off and place it on the Gage board, and flip it over to confirm the length of the pin.           2.83             NaN                 NaN                   NaN                  NaN                           NaN                              NaN                    NaN                  VA                 NaN               NaN  NaN                          ○                   M2\n",
      "                                                 NaN                 NaN                                                   NaN            4.0                                                                                                                                                Put the good products into the production line           0.82             NaN                 NaN                   NaN                  NaN                           NaN                              NaN                    NaN                 NVA                 NaN               NaN  NaN                          →                   M3\n",
      "                                                 NaN                10.0                       Solder ring assembly & press-in            1.0                                                                        Take 1 PCS of good product from the upper workstation with your left hand, and take 1 Solder ring with your right hand           2.87             NaN                 1.0                  6.27                  1.0                         6.270                         0.783750                     VA                 NVA                   /                 /  NaN                          →                   M3\n",
      "                                                 NaN                 NaN                                                   NaN            2.0                                                                                                                                      Install the Solder Ring on both sides of the plasticPOST           3.16             NaN                 NaN                   NaN                  NaN                           NaN                              NaN                    NaN                  VA                 NaN               NaN  NaN                          ○                   M2\n",
      "                                                 NaN                 NaN                                                   NaN            3.0                                                            The left hand places the assembled product on the automatic press machine, and after pressing, it flows into the next work station           0.24            4.26                 NaN                   NaN                  NaN                           NaN                              NaN                    NaN                 NVA                 NaN               NaN  NaN                          →                   M3\n",
      "                                                 NaN                11.0 External GAP & appearance inspection (CCD inspection)            1.0                                                                                                                          Take 1 PCS product in your right hand and place it on the CCD holder           1.98             NaN                 1.0                  6.07                  1.0                         6.070                         0.758750                     VA                 NVA                   /                 /  NaN                          →                   M3\n",
      "                                                 NaN                 NaN                                                   NaN            2.0                                                                                              Shake the product with your left hand and confirm whether the product B/L is within the baseline           2.86             NaN                 NaN                   NaN                  NaN                           NaN                              NaN                    NaN                  VA                 NaN               NaN  NaN                          ○                   M2\n",
      "                                                 NaN                 NaN                                                   NaN            3.0                                                                                                                         The left hand takes out the good product and puts it on the flow line           1.23             NaN                 NaN                   NaN                  NaN                           NaN                              NaN                    NaN                 NVA                 NaN               NaN  NaN                          →                   M3\n",
      "                                                 NaN                12.0                                    Coplanarity test 1            1.0                                                      Take 1 PCS product with your left hand and place it on the AOI inspection machine, and press the button with your right hand to test it.           3.52             NaN                 1.0                 40.50                  6.0                         6.750                         0.843750                     VA                 NVA                   /                 /  NaN                          →                   M3\n",
      "                                                 NaN                 NaN                                                   NaN            2.0 Take the product with your left hand, pick up the tool with your right hand, make adjustments according to the defects shown on the display, and then put the product on the AOI for testing.          10.78             NaN                 NaN                   NaN                  NaN                           NaN                              NaN                    NaN                  VA                 NaN               NaN  NaN                          ○                   M2\n",
      "                                                 NaN                 NaN                                                   NaN            3.0                                                                                                                                       Repeat the above steps until all the displays are good.          23.12             NaN                 NaN                   NaN                  NaN                           NaN                              NaN                    NaN                 NVA                 NaN               NaN  NaN                          ○                   M2\n",
      "                                                 NaN                 NaN                                                   NaN            4.0                                                                                                                  Place the good quality wires in the marked plates and arrange them in order.           3.08             NaN                 NaN                   NaN                  NaN                           NaN                              NaN                    NaN                 NVA                 NaN               NaN  NaN                          →                   M3\n",
      "                                                 NaN                13.0              Internal GAP inspection (CCD inspection)            1.0                                                                                                                          Take 1 PCS product in your right hand and place it on the CCD holder           1.88             NaN                 1.0                  6.14                  1.0                         6.140                         0.767500                     VA                 NVA                   /                 /  NaN                          →                   M3\n",
      "                                                 NaN                 NaN                                                   NaN            2.0                                                                                              Shake the product with your left hand and confirm whether the product B/L is within the baseline           2.49             NaN                 NaN                   NaN                  NaN                           NaN                              NaN                    NaN                  VA                 NaN               NaN  NaN                          ○                   M2\n",
      "                                                 NaN                 NaN                                                   NaN            3.0                                                                                                                         The left hand takes out the good product and puts it on the flow line           1.77             NaN                 NaN                   NaN                  NaN                           NaN                              NaN                    NaN                 NVA                 NaN               NaN  NaN                          →                   M3\n",
      "                                                 NaN                14.0                             Coplanarity test (retest)            1.0                                                      Take 1 PCS product with your left hand and place it on the AOI inspection machine, and press the button with your right hand to test it.           3.21             NaN                 1.0                 14.00                  2.0                         7.000                         0.875000                     VA                 NVA                   /                 /  NaN                          →                   M3\n",
      "                                                 NaN                 NaN                                                   NaN            2.0 Take the product with your left hand, pick up the tool with your right hand, make adjustments according to the defects shown on the display, and then put the product on the AOI for testing.           5.24             NaN                 NaN                   NaN                  NaN                           NaN                              NaN                    NaN                  VA                 NaN               NaN  NaN                          ○                   M2\n",
      "                                                 NaN                 NaN                                                   NaN            3.0                                                                                                                                       Repeat the above steps until all the displays are good.           4.37             NaN                 NaN                   NaN                  NaN                           NaN                              NaN                    NaN                 NVA                 NaN               NaN  NaN                          ○                   M2\n",
      "                                                 NaN                 NaN                                                   NaN            4.0                                                                                                                  Place the good quality wires in the marked plates and arrange them in order.           1.18             NaN                 NaN                   NaN                  NaN                           NaN                              NaN                    NaN                 NVA                 NaN               NaN  NaN                          →                   M3\n",
      "                                                 NaN                15.0                               Long and short PIN test            1.0                                                                              Take a group of products with both hands and place them on the CCD holder and align them with the reference line           1.12             NaN                 1.0                  6.50                  2.0                         3.250                         0.406250                     VA                 NVA                   /                 /    C                          →                   M3\n",
      "                                                 NaN                 NaN                                                   NaN            2.0                           Push the product with your right hand. If the terminal of a product exceeds or falls below the reference line, pick it out and put it in the defective product box.           3.73             NaN                 NaN                   NaN                  NaN                           NaN                              NaN                    NaN                  VA                 NaN               NaN  NaN                          ○                   M2\n",
      "                                                 NaN                 NaN                                                   NaN            3.0                                                                     If the terminals are all within the reference line, they are considered good products and flow into the next workstation.           1.65             NaN                 NaN                   NaN                  NaN                           NaN                              NaN                    NaN                 NVA                 NaN               NaN  NaN                          →                   M3\n",
      "                                                 NaN                17.0                        Full inspection & TR packaging            1.0                                                                                           Use both hands to take a group of products and place them on the packaging machine at the same time           2.03             NaN                 1.0                  5.43                  2.0                         2.715                         0.339375                     VA                 NVA                   /                 /   CR                          →                   M2\n",
      "                                                 NaN                 NaN                                                   NaN            2.0                                                                                                                                                                         Appearance inspection           2.06             NaN                 NaN                   NaN                  NaN                           NaN                              NaN                    NaN                  VA                 NaN               NaN  NaN                          □                   M1\n",
      "                                                 NaN                 NaN                                                   NaN            3.0                                                                                                                             Use both hands to place the product in the packaging machine tray           1.34             NaN                 NaN                   NaN                  NaN                           NaN                              NaN                    NaN                 NVA                 NaN               NaN  NaN                          ○                   M4\n",
      "                         Overall average saturation:                 NaN                                                   NaN            NaN                                                                                                                                                                                           NaN            NaN             NaN                 NaN                 98.99                 17.0                           NaN                              NaN                    NaN                 NaN                 NaN               NaN  NaN                        NaN                  NaN\n",
      "                                                 NaN                 NaN                                                   NaN            NaN                                                                                                                                                                                           NaN            NaN             NaN                 NaN                   NaN                  7.2                           NaN                              NaN                    NaN                 NaN                 NaN               NaN  NaN                        NaN                  NaN\n",
      "Remark:Operate the machine1people+8People = 9 people                 NaN                                                   NaN            NaN                                                                                                                                                                                           NaN            NaN             NaN                 NaN                   NaN                  NaN                           NaN                              NaN                    NaN                 NaN                 NaN               NaN  NaN                        NaN                  NaN\n"
     ]
    }
   ],
   "source": [
    "df = df.rename(columns={'name': 'Product Number', \n",
    "                        'Serial number': 'Workstation number', \n",
    "                        'name.1': 'Workstation name',\n",
    "                        'Serial number.1': 'Serial number',\n",
    "                        'Unnamed: 10': 'Number of operators',\n",
    "                        'Unnamed: 11': 'Average Working hours (Sec.)',\n",
    "                        'Unnamed: 12': 'Current manual labor saturation',\n",
    "                        'Process': 'Value Judgment Process',\n",
    "                        'unit': 'Value Judgment unit',\n",
    "                        })\n",
    "print(df.to_string(index=False, max_cols=None))"
   ]
  },
  {
   "cell_type": "markdown",
   "id": "1189502b",
   "metadata": {},
   "source": []
  },
  {
   "cell_type": "code",
   "execution_count": 304,
   "id": "aa99d302",
   "metadata": {},
   "outputs": [
    {
     "name": "stderr",
     "output_type": "stream",
     "text": [
      "C:\\Users\\Muhammad Al-Amin\\AppData\\Local\\Temp\\ipykernel_19464\\3090147063.py:1: FutureWarning: Series.fillna with 'method' is deprecated and will raise in a future version. Use obj.ffill() or obj.bfill() instead.\n",
      "  df['Workstation number'] = df['Workstation number'].fillna(method='ffill')\n",
      "C:\\Users\\Muhammad Al-Amin\\AppData\\Local\\Temp\\ipykernel_19464\\3090147063.py:2: FutureWarning: Series.fillna with 'method' is deprecated and will raise in a future version. Use obj.ffill() or obj.bfill() instead.\n",
      "  df['Workstation name'] = df['Workstation name'].fillna(method='ffill')\n",
      "C:\\Users\\Muhammad Al-Amin\\AppData\\Local\\Temp\\ipykernel_19464\\3090147063.py:4: FutureWarning: Series.fillna with 'method' is deprecated and will raise in a future version. Use obj.ffill() or obj.bfill() instead.\n",
      "  df['Number of products'] = df['Number of products'].fillna(method='ffill')\n",
      "C:\\Users\\Muhammad Al-Amin\\AppData\\Local\\Temp\\ipykernel_19464\\3090147063.py:5: FutureWarning: Series.fillna with 'method' is deprecated and will raise in a future version. Use obj.ffill() or obj.bfill() instead.\n",
      "  df['Working hours (Sec.)'] = df['Working hours (Sec.)'].fillna(method='ffill')\n",
      "C:\\Users\\Muhammad Al-Amin\\AppData\\Local\\Temp\\ipykernel_19464\\3090147063.py:6: FutureWarning: Series.fillna with 'method' is deprecated and will raise in a future version. Use obj.ffill() or obj.bfill() instead.\n",
      "  df['Number of operators'] = df['Number of operators'].fillna(method='ffill')\n",
      "C:\\Users\\Muhammad Al-Amin\\AppData\\Local\\Temp\\ipykernel_19464\\3090147063.py:7: FutureWarning: Series.fillna with 'method' is deprecated and will raise in a future version. Use obj.ffill() or obj.bfill() instead.\n",
      "  df['Average Working hours (Sec.)'] = df['Average Working hours (Sec.)'].fillna(method='ffill')\n",
      "C:\\Users\\Muhammad Al-Amin\\AppData\\Local\\Temp\\ipykernel_19464\\3090147063.py:8: FutureWarning: Series.fillna with 'method' is deprecated and will raise in a future version. Use obj.ffill() or obj.bfill() instead.\n",
      "  df['Current manual labor saturation'] = df['Current manual labor saturation'].fillna(method='ffill')\n",
      "C:\\Users\\Muhammad Al-Amin\\AppData\\Local\\Temp\\ipykernel_19464\\3090147063.py:9: FutureWarning: Series.fillna with 'method' is deprecated and will raise in a future version. Use obj.ffill() or obj.bfill() instead.\n",
      "  df['Value Judgment Process'] = df['Value Judgment Process'].fillna(method='ffill')\n",
      "C:\\Users\\Muhammad Al-Amin\\AppData\\Local\\Temp\\ipykernel_19464\\3090147063.py:10: FutureWarning: Series.fillna with 'method' is deprecated and will raise in a future version. Use obj.ffill() or obj.bfill() instead.\n",
      "  df['ECRS'] = df['ECRS'].fillna(method='ffill')\n"
     ]
    }
   ],
   "source": [
    "df['Workstation number'] = df['Workstation number'].fillna(method='ffill')\n",
    "df['Workstation name'] = df['Workstation name'].fillna(method='ffill')\n",
    "df['Machine (Sec.)'] = df['Machine (Sec.)'].fillna(0)\n",
    "df['Number of products'] = df['Number of products'].fillna(method='ffill')\n",
    "df['Working hours (Sec.)'] = df['Working hours (Sec.)'].fillna(method='ffill')\n",
    "df['Number of operators'] = df['Number of operators'].fillna(method='ffill')\n",
    "df['Average Working hours (Sec.)'] = df['Average Working hours (Sec.)'].fillna(method='ffill')\n",
    "df['Current manual labor saturation'] = df['Current manual labor saturation'].fillna(method='ffill')\n",
    "df['Value Judgment Process'] = df['Value Judgment Process'].fillna(method='ffill')\n",
    "df['ECRS'] = df['ECRS'].fillna(method='ffill')"
   ]
  },
  {
   "cell_type": "code",
   "execution_count": 305,
   "id": "9eee6b94",
   "metadata": {},
   "outputs": [],
   "source": [
    "product_number = '3S6A013-00518-7F'\n",
    "edition = 'B'\n",
    "updated  = 263822\n",
    "approved_by = 'approved by'\n",
    "reviewer = 'reviewed by'\n",
    "prepared_by = 'prepared by'\n",
    "responsible_person = 'responsible person'\n",
    "\n",
    "# Apply header metadata to all rows\n",
    "df[\"Product Number\"] = product_number\n",
    "df[\"Edition\"] = edition\n",
    "df[\"Updated\"] = updated\n",
    "df[\"Approved by\"] = approved_by\n",
    "df[\"Reviewer\"] = reviewer\n",
    "df[\"Prepared by\"] = prepared_by\n",
    "df[\"Responsible Person\"] = responsible_person"
   ]
  },
  {
   "cell_type": "code",
   "execution_count": 306,
   "id": "850ba7f5",
   "metadata": {},
   "outputs": [
    {
     "name": "stdout",
     "output_type": "stream",
     "text": [
      "  Product Number  Workstation number                                      Workstation name  Serial number                                                                                                                                                                            Assignment content  Manual (Sec.)  Machine (Sec.)  Number of products  Working hours (Sec.)  Number of operators  Average Working hours (Sec.)  Current manual labor saturation Value Judgment Process Value Judgment unit Problem Description Improvement goals ECRS Action Item Classification Current Action Level Edition  Updated Approved by    Reviewer Prepared by Responsible Person\n",
      "3S6A013-00518-7F                 8.0                                              0/S Test            1.0                                                                                                                        Take 1 PCS product in each hand and put it on the test machine support           2.01            0.00                 1.0                  6.88                  1.0                         6.880                         0.860000                     VA                 NVA                   /                 /  NaN                          →                   M3       B   263822 approved by reviewed by prepared by responsible person\n",
      "3S6A013-00518-7F                 8.0                                              0/S Test            2.0                                                                                                       Press the switch with both hands to test, and wait for the test machine to display PASS           2.63            0.00                 1.0                  6.88                  1.0                         6.880                         0.860000                     VA                  VA                 NaN               NaN  NaN                          ○                   M2       B   263822 approved by reviewed by prepared by responsible person\n",
      "3S6A013-00518-7F                 8.0                                              0/S Test            3.0                                                                                                                                                Put the good products into the production line           2.24            0.00                 1.0                  6.88                  1.0                         6.880                         0.860000                     VA                 NVA                 NaN               NaN  NaN                          →                   M3       B   263822 approved by reviewed by prepared by responsible person\n",
      "3S6A013-00518-7F                 9.0                         Hi-pottest&Position detection            1.0                                                                                                                        Take 1 PCS product in each hand and put it on the test machine support           0.99            0.00                 1.0                  7.20                  1.0                         7.200                         0.900000                     VA                 NVA                   /                 /  NaN                          →                   M3       B   263822 approved by reviewed by prepared by responsible person\n",
      "3S6A013-00518-7F                 9.0                         Hi-pottest&Position detection            2.0                                                                                                       Press the switch with both hands to test, and wait for the test machine to display PASS           2.56            0.00                 1.0                  7.20                  1.0                         7.200                         0.900000                     VA                 NVA                 NaN               NaN  NaN                          ○                   M2       B   263822 approved by reviewed by prepared by responsible person\n",
      "3S6A013-00518-7F                 9.0                         Hi-pottest&Position detection            3.0                                                              Use both hands to take the tested product off and place it on the Gage board, and flip it over to confirm the length of the pin.           2.83            0.00                 1.0                  7.20                  1.0                         7.200                         0.900000                     VA                  VA                 NaN               NaN  NaN                          ○                   M2       B   263822 approved by reviewed by prepared by responsible person\n",
      "3S6A013-00518-7F                 9.0                         Hi-pottest&Position detection            4.0                                                                                                                                                Put the good products into the production line           0.82            0.00                 1.0                  7.20                  1.0                         7.200                         0.900000                     VA                 NVA                 NaN               NaN  NaN                          →                   M3       B   263822 approved by reviewed by prepared by responsible person\n",
      "3S6A013-00518-7F                10.0                       Solder ring assembly & press-in            1.0                                                                        Take 1 PCS of good product from the upper workstation with your left hand, and take 1 Solder ring with your right hand           2.87            0.00                 1.0                  6.27                  1.0                         6.270                         0.783750                     VA                 NVA                   /                 /  NaN                          →                   M3       B   263822 approved by reviewed by prepared by responsible person\n",
      "3S6A013-00518-7F                10.0                       Solder ring assembly & press-in            2.0                                                                                                                                      Install the Solder Ring on both sides of the plasticPOST           3.16            0.00                 1.0                  6.27                  1.0                         6.270                         0.783750                     VA                  VA                 NaN               NaN  NaN                          ○                   M2       B   263822 approved by reviewed by prepared by responsible person\n",
      "3S6A013-00518-7F                10.0                       Solder ring assembly & press-in            3.0                                                            The left hand places the assembled product on the automatic press machine, and after pressing, it flows into the next work station           0.24            4.26                 1.0                  6.27                  1.0                         6.270                         0.783750                     VA                 NVA                 NaN               NaN  NaN                          →                   M3       B   263822 approved by reviewed by prepared by responsible person\n",
      "3S6A013-00518-7F                11.0 External GAP & appearance inspection (CCD inspection)            1.0                                                                                                                          Take 1 PCS product in your right hand and place it on the CCD holder           1.98            0.00                 1.0                  6.07                  1.0                         6.070                         0.758750                     VA                 NVA                   /                 /  NaN                          →                   M3       B   263822 approved by reviewed by prepared by responsible person\n",
      "3S6A013-00518-7F                11.0 External GAP & appearance inspection (CCD inspection)            2.0                                                                                              Shake the product with your left hand and confirm whether the product B/L is within the baseline           2.86            0.00                 1.0                  6.07                  1.0                         6.070                         0.758750                     VA                  VA                 NaN               NaN  NaN                          ○                   M2       B   263822 approved by reviewed by prepared by responsible person\n",
      "3S6A013-00518-7F                11.0 External GAP & appearance inspection (CCD inspection)            3.0                                                                                                                         The left hand takes out the good product and puts it on the flow line           1.23            0.00                 1.0                  6.07                  1.0                         6.070                         0.758750                     VA                 NVA                 NaN               NaN  NaN                          →                   M3       B   263822 approved by reviewed by prepared by responsible person\n",
      "3S6A013-00518-7F                12.0                                    Coplanarity test 1            1.0                                                      Take 1 PCS product with your left hand and place it on the AOI inspection machine, and press the button with your right hand to test it.           3.52            0.00                 1.0                 40.50                  6.0                         6.750                         0.843750                     VA                 NVA                   /                 /  NaN                          →                   M3       B   263822 approved by reviewed by prepared by responsible person\n",
      "3S6A013-00518-7F                12.0                                    Coplanarity test 1            2.0 Take the product with your left hand, pick up the tool with your right hand, make adjustments according to the defects shown on the display, and then put the product on the AOI for testing.          10.78            0.00                 1.0                 40.50                  6.0                         6.750                         0.843750                     VA                  VA                 NaN               NaN  NaN                          ○                   M2       B   263822 approved by reviewed by prepared by responsible person\n",
      "3S6A013-00518-7F                12.0                                    Coplanarity test 1            3.0                                                                                                                                       Repeat the above steps until all the displays are good.          23.12            0.00                 1.0                 40.50                  6.0                         6.750                         0.843750                     VA                 NVA                 NaN               NaN  NaN                          ○                   M2       B   263822 approved by reviewed by prepared by responsible person\n",
      "3S6A013-00518-7F                12.0                                    Coplanarity test 1            4.0                                                                                                                  Place the good quality wires in the marked plates and arrange them in order.           3.08            0.00                 1.0                 40.50                  6.0                         6.750                         0.843750                     VA                 NVA                 NaN               NaN  NaN                          →                   M3       B   263822 approved by reviewed by prepared by responsible person\n",
      "3S6A013-00518-7F                13.0              Internal GAP inspection (CCD inspection)            1.0                                                                                                                          Take 1 PCS product in your right hand and place it on the CCD holder           1.88            0.00                 1.0                  6.14                  1.0                         6.140                         0.767500                     VA                 NVA                   /                 /  NaN                          →                   M3       B   263822 approved by reviewed by prepared by responsible person\n",
      "3S6A013-00518-7F                13.0              Internal GAP inspection (CCD inspection)            2.0                                                                                              Shake the product with your left hand and confirm whether the product B/L is within the baseline           2.49            0.00                 1.0                  6.14                  1.0                         6.140                         0.767500                     VA                  VA                 NaN               NaN  NaN                          ○                   M2       B   263822 approved by reviewed by prepared by responsible person\n",
      "3S6A013-00518-7F                13.0              Internal GAP inspection (CCD inspection)            3.0                                                                                                                         The left hand takes out the good product and puts it on the flow line           1.77            0.00                 1.0                  6.14                  1.0                         6.140                         0.767500                     VA                 NVA                 NaN               NaN  NaN                          →                   M3       B   263822 approved by reviewed by prepared by responsible person\n",
      "3S6A013-00518-7F                14.0                             Coplanarity test (retest)            1.0                                                      Take 1 PCS product with your left hand and place it on the AOI inspection machine, and press the button with your right hand to test it.           3.21            0.00                 1.0                 14.00                  2.0                         7.000                         0.875000                     VA                 NVA                   /                 /  NaN                          →                   M3       B   263822 approved by reviewed by prepared by responsible person\n",
      "3S6A013-00518-7F                14.0                             Coplanarity test (retest)            2.0 Take the product with your left hand, pick up the tool with your right hand, make adjustments according to the defects shown on the display, and then put the product on the AOI for testing.           5.24            0.00                 1.0                 14.00                  2.0                         7.000                         0.875000                     VA                  VA                 NaN               NaN  NaN                          ○                   M2       B   263822 approved by reviewed by prepared by responsible person\n",
      "3S6A013-00518-7F                14.0                             Coplanarity test (retest)            3.0                                                                                                                                       Repeat the above steps until all the displays are good.           4.37            0.00                 1.0                 14.00                  2.0                         7.000                         0.875000                     VA                 NVA                 NaN               NaN  NaN                          ○                   M2       B   263822 approved by reviewed by prepared by responsible person\n",
      "3S6A013-00518-7F                14.0                             Coplanarity test (retest)            4.0                                                                                                                  Place the good quality wires in the marked plates and arrange them in order.           1.18            0.00                 1.0                 14.00                  2.0                         7.000                         0.875000                     VA                 NVA                 NaN               NaN  NaN                          →                   M3       B   263822 approved by reviewed by prepared by responsible person\n",
      "3S6A013-00518-7F                15.0                               Long and short PIN test            1.0                                                                              Take a group of products with both hands and place them on the CCD holder and align them with the reference line           1.12            0.00                 1.0                  6.50                  2.0                         3.250                         0.406250                     VA                 NVA                   /                 /    C                          →                   M3       B   263822 approved by reviewed by prepared by responsible person\n",
      "3S6A013-00518-7F                15.0                               Long and short PIN test            2.0                           Push the product with your right hand. If the terminal of a product exceeds or falls below the reference line, pick it out and put it in the defective product box.           3.73            0.00                 1.0                  6.50                  2.0                         3.250                         0.406250                     VA                  VA                 NaN               NaN    C                          ○                   M2       B   263822 approved by reviewed by prepared by responsible person\n",
      "3S6A013-00518-7F                15.0                               Long and short PIN test            3.0                                                                     If the terminals are all within the reference line, they are considered good products and flow into the next workstation.           1.65            0.00                 1.0                  6.50                  2.0                         3.250                         0.406250                     VA                 NVA                 NaN               NaN    C                          →                   M3       B   263822 approved by reviewed by prepared by responsible person\n",
      "3S6A013-00518-7F                17.0                        Full inspection & TR packaging            1.0                                                                                           Use both hands to take a group of products and place them on the packaging machine at the same time           2.03            0.00                 1.0                  5.43                  2.0                         2.715                         0.339375                     VA                 NVA                   /                 /   CR                          →                   M2       B   263822 approved by reviewed by prepared by responsible person\n",
      "3S6A013-00518-7F                17.0                        Full inspection & TR packaging            2.0                                                                                                                                                                         Appearance inspection           2.06            0.00                 1.0                  5.43                  2.0                         2.715                         0.339375                     VA                  VA                 NaN               NaN   CR                          □                   M1       B   263822 approved by reviewed by prepared by responsible person\n",
      "3S6A013-00518-7F                17.0                        Full inspection & TR packaging            3.0                                                                                                                             Use both hands to place the product in the packaging machine tray           1.34            0.00                 1.0                  5.43                  2.0                         2.715                         0.339375                     VA                 NVA                 NaN               NaN   CR                          ○                   M4       B   263822 approved by reviewed by prepared by responsible person\n"
     ]
    }
   ],
   "source": [
    "df.dropna(subset=['Serial number'], inplace=True)\n",
    "print(df.to_string(index=False, max_cols=None))"
   ]
  },
  {
   "cell_type": "code",
   "execution_count": 307,
   "id": "11131c32",
   "metadata": {},
   "outputs": [],
   "source": [
    "df['ECRS'] = df['ECRS'].fillna('N/A')"
   ]
  },
  {
   "cell_type": "code",
   "execution_count": 308,
   "id": "7b8d7714",
   "metadata": {},
   "outputs": [],
   "source": [
    "df.columns\n",
    "mapping_action_item_classification = {'→': 'Transport', '○': 'Operation', '□': 'Inspect'}\n",
    "mapping_current_action_level = {'M1': 'Manual', 'M2': 'Semi automation', 'M3': 'Automation', 'M4': 'Advanced automation'}\n",
    "df['Action Item Classification'] = df['Action Item Classification'].replace(mapping_action_item_classification)\n",
    "df['Current Action Level'] = df['Current Action Level'].replace(mapping_current_action_level)"
   ]
  },
  {
   "cell_type": "code",
   "execution_count": 309,
   "id": "880a2a0d",
   "metadata": {},
   "outputs": [],
   "source": [
    "df['Workstation number'] = df['Workstation number'].astype('Int64')\n",
    "df['Serial number'] = df['Serial number'].astype('Int64')\n",
    "df['Number of products'] = df['Number of products'].astype('Int64')\n",
    "df['Number of operators'] = df['Number of operators'].astype('Int64')"
   ]
  },
  {
   "cell_type": "code",
   "execution_count": 310,
   "id": "403cc13c",
   "metadata": {},
   "outputs": [
    {
     "name": "stdout",
     "output_type": "stream",
     "text": [
      "  Product Number  Workstation number                                      Workstation name  Serial number                                                                                                                                                                            Assignment content  Manual (Sec.)  Machine (Sec.)  Number of products  Working hours (Sec.)  Number of operators  Average Working hours (Sec.)  Current manual labor saturation Value Judgment Process Value Judgment unit Problem Description Improvement goals ECRS Action Item Classification Current Action Level Edition  Updated Approved by    Reviewer Prepared by Responsible Person\n",
      "3S6A013-00518-7F                   8                                              0/S Test              1                                                                                                                        Take 1 PCS product in each hand and put it on the test machine support           2.01            0.00                   1                  6.88                    1                         6.880                         0.860000                     VA                 NVA                   /                 /  N/A                  Transport           Automation       B   263822 approved by reviewed by prepared by responsible person\n",
      "3S6A013-00518-7F                   8                                              0/S Test              2                                                                                                       Press the switch with both hands to test, and wait for the test machine to display PASS           2.63            0.00                   1                  6.88                    1                         6.880                         0.860000                     VA                  VA                 NaN               NaN  N/A                  Operation      Semi automation       B   263822 approved by reviewed by prepared by responsible person\n",
      "3S6A013-00518-7F                   8                                              0/S Test              3                                                                                                                                                Put the good products into the production line           2.24            0.00                   1                  6.88                    1                         6.880                         0.860000                     VA                 NVA                 NaN               NaN  N/A                  Transport           Automation       B   263822 approved by reviewed by prepared by responsible person\n",
      "3S6A013-00518-7F                   9                         Hi-pottest&Position detection              1                                                                                                                        Take 1 PCS product in each hand and put it on the test machine support           0.99            0.00                   1                  7.20                    1                         7.200                         0.900000                     VA                 NVA                   /                 /  N/A                  Transport           Automation       B   263822 approved by reviewed by prepared by responsible person\n",
      "3S6A013-00518-7F                   9                         Hi-pottest&Position detection              2                                                                                                       Press the switch with both hands to test, and wait for the test machine to display PASS           2.56            0.00                   1                  7.20                    1                         7.200                         0.900000                     VA                 NVA                 NaN               NaN  N/A                  Operation      Semi automation       B   263822 approved by reviewed by prepared by responsible person\n",
      "3S6A013-00518-7F                   9                         Hi-pottest&Position detection              3                                                              Use both hands to take the tested product off and place it on the Gage board, and flip it over to confirm the length of the pin.           2.83            0.00                   1                  7.20                    1                         7.200                         0.900000                     VA                  VA                 NaN               NaN  N/A                  Operation      Semi automation       B   263822 approved by reviewed by prepared by responsible person\n",
      "3S6A013-00518-7F                   9                         Hi-pottest&Position detection              4                                                                                                                                                Put the good products into the production line           0.82            0.00                   1                  7.20                    1                         7.200                         0.900000                     VA                 NVA                 NaN               NaN  N/A                  Transport           Automation       B   263822 approved by reviewed by prepared by responsible person\n",
      "3S6A013-00518-7F                  10                       Solder ring assembly & press-in              1                                                                        Take 1 PCS of good product from the upper workstation with your left hand, and take 1 Solder ring with your right hand           2.87            0.00                   1                  6.27                    1                         6.270                         0.783750                     VA                 NVA                   /                 /  N/A                  Transport           Automation       B   263822 approved by reviewed by prepared by responsible person\n",
      "3S6A013-00518-7F                  10                       Solder ring assembly & press-in              2                                                                                                                                      Install the Solder Ring on both sides of the plasticPOST           3.16            0.00                   1                  6.27                    1                         6.270                         0.783750                     VA                  VA                 NaN               NaN  N/A                  Operation      Semi automation       B   263822 approved by reviewed by prepared by responsible person\n",
      "3S6A013-00518-7F                  10                       Solder ring assembly & press-in              3                                                            The left hand places the assembled product on the automatic press machine, and after pressing, it flows into the next work station           0.24            4.26                   1                  6.27                    1                         6.270                         0.783750                     VA                 NVA                 NaN               NaN  N/A                  Transport           Automation       B   263822 approved by reviewed by prepared by responsible person\n",
      "3S6A013-00518-7F                  11 External GAP & appearance inspection (CCD inspection)              1                                                                                                                          Take 1 PCS product in your right hand and place it on the CCD holder           1.98            0.00                   1                  6.07                    1                         6.070                         0.758750                     VA                 NVA                   /                 /  N/A                  Transport           Automation       B   263822 approved by reviewed by prepared by responsible person\n",
      "3S6A013-00518-7F                  11 External GAP & appearance inspection (CCD inspection)              2                                                                                              Shake the product with your left hand and confirm whether the product B/L is within the baseline           2.86            0.00                   1                  6.07                    1                         6.070                         0.758750                     VA                  VA                 NaN               NaN  N/A                  Operation      Semi automation       B   263822 approved by reviewed by prepared by responsible person\n",
      "3S6A013-00518-7F                  11 External GAP & appearance inspection (CCD inspection)              3                                                                                                                         The left hand takes out the good product and puts it on the flow line           1.23            0.00                   1                  6.07                    1                         6.070                         0.758750                     VA                 NVA                 NaN               NaN  N/A                  Transport           Automation       B   263822 approved by reviewed by prepared by responsible person\n",
      "3S6A013-00518-7F                  12                                    Coplanarity test 1              1                                                      Take 1 PCS product with your left hand and place it on the AOI inspection machine, and press the button with your right hand to test it.           3.52            0.00                   1                 40.50                    6                         6.750                         0.843750                     VA                 NVA                   /                 /  N/A                  Transport           Automation       B   263822 approved by reviewed by prepared by responsible person\n",
      "3S6A013-00518-7F                  12                                    Coplanarity test 1              2 Take the product with your left hand, pick up the tool with your right hand, make adjustments according to the defects shown on the display, and then put the product on the AOI for testing.          10.78            0.00                   1                 40.50                    6                         6.750                         0.843750                     VA                  VA                 NaN               NaN  N/A                  Operation      Semi automation       B   263822 approved by reviewed by prepared by responsible person\n",
      "3S6A013-00518-7F                  12                                    Coplanarity test 1              3                                                                                                                                       Repeat the above steps until all the displays are good.          23.12            0.00                   1                 40.50                    6                         6.750                         0.843750                     VA                 NVA                 NaN               NaN  N/A                  Operation      Semi automation       B   263822 approved by reviewed by prepared by responsible person\n",
      "3S6A013-00518-7F                  12                                    Coplanarity test 1              4                                                                                                                  Place the good quality wires in the marked plates and arrange them in order.           3.08            0.00                   1                 40.50                    6                         6.750                         0.843750                     VA                 NVA                 NaN               NaN  N/A                  Transport           Automation       B   263822 approved by reviewed by prepared by responsible person\n",
      "3S6A013-00518-7F                  13              Internal GAP inspection (CCD inspection)              1                                                                                                                          Take 1 PCS product in your right hand and place it on the CCD holder           1.88            0.00                   1                  6.14                    1                         6.140                         0.767500                     VA                 NVA                   /                 /  N/A                  Transport           Automation       B   263822 approved by reviewed by prepared by responsible person\n",
      "3S6A013-00518-7F                  13              Internal GAP inspection (CCD inspection)              2                                                                                              Shake the product with your left hand and confirm whether the product B/L is within the baseline           2.49            0.00                   1                  6.14                    1                         6.140                         0.767500                     VA                  VA                 NaN               NaN  N/A                  Operation      Semi automation       B   263822 approved by reviewed by prepared by responsible person\n",
      "3S6A013-00518-7F                  13              Internal GAP inspection (CCD inspection)              3                                                                                                                         The left hand takes out the good product and puts it on the flow line           1.77            0.00                   1                  6.14                    1                         6.140                         0.767500                     VA                 NVA                 NaN               NaN  N/A                  Transport           Automation       B   263822 approved by reviewed by prepared by responsible person\n",
      "3S6A013-00518-7F                  14                             Coplanarity test (retest)              1                                                      Take 1 PCS product with your left hand and place it on the AOI inspection machine, and press the button with your right hand to test it.           3.21            0.00                   1                 14.00                    2                         7.000                         0.875000                     VA                 NVA                   /                 /  N/A                  Transport           Automation       B   263822 approved by reviewed by prepared by responsible person\n",
      "3S6A013-00518-7F                  14                             Coplanarity test (retest)              2 Take the product with your left hand, pick up the tool with your right hand, make adjustments according to the defects shown on the display, and then put the product on the AOI for testing.           5.24            0.00                   1                 14.00                    2                         7.000                         0.875000                     VA                  VA                 NaN               NaN  N/A                  Operation      Semi automation       B   263822 approved by reviewed by prepared by responsible person\n",
      "3S6A013-00518-7F                  14                             Coplanarity test (retest)              3                                                                                                                                       Repeat the above steps until all the displays are good.           4.37            0.00                   1                 14.00                    2                         7.000                         0.875000                     VA                 NVA                 NaN               NaN  N/A                  Operation      Semi automation       B   263822 approved by reviewed by prepared by responsible person\n",
      "3S6A013-00518-7F                  14                             Coplanarity test (retest)              4                                                                                                                  Place the good quality wires in the marked plates and arrange them in order.           1.18            0.00                   1                 14.00                    2                         7.000                         0.875000                     VA                 NVA                 NaN               NaN  N/A                  Transport           Automation       B   263822 approved by reviewed by prepared by responsible person\n",
      "3S6A013-00518-7F                  15                               Long and short PIN test              1                                                                              Take a group of products with both hands and place them on the CCD holder and align them with the reference line           1.12            0.00                   1                  6.50                    2                         3.250                         0.406250                     VA                 NVA                   /                 /    C                  Transport           Automation       B   263822 approved by reviewed by prepared by responsible person\n",
      "3S6A013-00518-7F                  15                               Long and short PIN test              2                           Push the product with your right hand. If the terminal of a product exceeds or falls below the reference line, pick it out and put it in the defective product box.           3.73            0.00                   1                  6.50                    2                         3.250                         0.406250                     VA                  VA                 NaN               NaN    C                  Operation      Semi automation       B   263822 approved by reviewed by prepared by responsible person\n",
      "3S6A013-00518-7F                  15                               Long and short PIN test              3                                                                     If the terminals are all within the reference line, they are considered good products and flow into the next workstation.           1.65            0.00                   1                  6.50                    2                         3.250                         0.406250                     VA                 NVA                 NaN               NaN    C                  Transport           Automation       B   263822 approved by reviewed by prepared by responsible person\n",
      "3S6A013-00518-7F                  17                        Full inspection & TR packaging              1                                                                                           Use both hands to take a group of products and place them on the packaging machine at the same time           2.03            0.00                   1                  5.43                    2                         2.715                         0.339375                     VA                 NVA                   /                 /   CR                  Transport      Semi automation       B   263822 approved by reviewed by prepared by responsible person\n",
      "3S6A013-00518-7F                  17                        Full inspection & TR packaging              2                                                                                                                                                                         Appearance inspection           2.06            0.00                   1                  5.43                    2                         2.715                         0.339375                     VA                  VA                 NaN               NaN   CR                    Inspect               Manual       B   263822 approved by reviewed by prepared by responsible person\n",
      "3S6A013-00518-7F                  17                        Full inspection & TR packaging              3                                                                                                                             Use both hands to place the product in the packaging machine tray           1.34            0.00                   1                  5.43                    2                         2.715                         0.339375                     VA                 NVA                 NaN               NaN   CR                  Operation  Advanced automation       B   263822 approved by reviewed by prepared by responsible person\n"
     ]
    }
   ],
   "source": [
    "print(df.head(len(df)).to_string(index=False, max_cols=None))"
   ]
  },
  {
   "cell_type": "code",
   "execution_count": 55,
   "id": "a8e725fc",
   "metadata": {},
   "outputs": [],
   "source": [
    "# # Initialize list for documents\n",
    "# documents = []\n",
    "\n",
    "# # Group by Segment\n",
    "# for segment in df[\"Workstation number\"].unique():\n",
    "#     segment_df = df[df[\"Workstation number\"] == segment].copy()\n",
    "    \n",
    "#     # Extract process-level data\n",
    "#     workstation_number = segment_df[\"Workstation number\"].iloc[0]\n",
    "#     workstation_name = segment_df[\"Workstation name\"].iloc[0]\n",
    "#     number_of_products = segment_df[\"Number of products\"].iloc[0]\n",
    "#     working_hours_sec = segment_df[\"Working hours (Sec.)\"].iloc[0]\n",
    "#     number_of_operators = segment_df[\"Number of operators\"].iloc[0]\n",
    "#     average_working_hours_sec = segment_df[\"Average Working hours (Sec.)\"].iloc[0]\n",
    "#     current_manual_labor_saturation = segment_df[\"Current manual labor saturation\"].iloc[0]\n",
    "#     value_judgment_process = segment_df[\"Value Judgment Process\"].iloc[0]\n",
    "\n",
    "#     # Extract operations\n",
    "#     operations = []\n",
    "#     for _, row in segment_df.iterrows():\n",
    "#         operations.append({\n",
    "#             \"serial_number\": row[\"Serial number\"],\n",
    "#             \"description\": row[\"Assignment content\"],\n",
    "#             \"manual_sec\": row[\"Manual (Sec.)\"],\n",
    "#             \"machine_sec\": row[\"Machine (Sec.)\"],\n",
    "#             \"value_judgment_unit\": row[\"Value Judgment unit\"],\n",
    "#             \"action_item_classification\": row[\"Action Item Classification\"],\n",
    "#             \"current_action_level\": row[\"Current Action Level\"]\n",
    "#         })\n",
    "#         print(row[\"Current Action Level\"])"
   ]
  },
  {
   "cell_type": "code",
   "execution_count": 311,
   "id": "e7b8158c",
   "metadata": {},
   "outputs": [
    {
     "data": {
      "text/plain": [
       "Index(['Product Number', 'Workstation number', 'Workstation name',\n",
       "       'Serial number', 'Assignment content', 'Manual (Sec.)',\n",
       "       'Machine (Sec.)', 'Number of products', 'Working hours (Sec.)',\n",
       "       'Number of operators', 'Average Working hours (Sec.)',\n",
       "       'Current manual labor saturation', 'Value Judgment Process',\n",
       "       'Value Judgment unit', 'Problem Description', 'Improvement goals',\n",
       "       'ECRS', 'Action Item Classification', 'Current Action Level', 'Edition',\n",
       "       'Updated', 'Approved by', 'Reviewer', 'Prepared by',\n",
       "       'Responsible Person'],\n",
       "      dtype='object')"
      ]
     },
     "execution_count": 311,
     "metadata": {},
     "output_type": "execute_result"
    }
   ],
   "source": [
    "df.columns"
   ]
  },
  {
   "cell_type": "code",
   "execution_count": 337,
   "id": "6f2479b2",
   "metadata": {},
   "outputs": [],
   "source": [
    "texts = []\n",
    "doc_ids = []\n",
    "metadatas = []\n",
    "for i, doc in enumerate(documents):\n",
    "    # Workstation document\n",
    "    workstation_text = \"; \".join([\n",
    "        f\"Workstation Number: {doc['Workstation number']}\",\n",
    "        f\"Workstation Name: {doc['Workstation name']}\",\n",
    "        f\"Number of Products: {doc['Number of products']}\",\n",
    "        f\"Working hours (Sec.): {doc['Working hours (Sec.)']}\",\n",
    "        f\"Number of Operators: {doc['Number of operators']}\",\n",
    "        f\"Cycle Time (Sec.): {doc['Cycle Time (Sec.)']}\",\n",
    "        f\"Job saturation (%): {doc['Job saturation (%)']}\",\n",
    "        f\"Value Judgment Process: {doc['Value Judgment Process']}\",\n",
    "        f\"Improvement Goals: {doc['improvement items']['goals'] if doc['improvement items']['goals'] != '/' else 'No improvements listed'}\"\n",
    "    ])\n",
    "    texts.append(workstation_text)\n",
    "    doc_ids.append(f\"ws_{i}\")\n",
    "    metadatas.append({\n",
    "        \"product_number\": doc[\"product_number\"],\n",
    "        \"workstation_number\": str(doc[\"Workstation number\"]),\n",
    "        \"workstation_name\": doc[\"Workstation name\"],\n",
    "        \"type\": \"workstation\"\n",
    "    })\n",
    "    \n",
    "    # Operation documents\n",
    "    for j, op in enumerate(doc[\"operations\"]):\n",
    "        op_text = \"; \".join([\n",
    "            f\"Workstation Number: {doc['Workstation number']}\",\n",
    "            f\"Workstation Name: {doc['Workstation name']}\",\n",
    "            f\"Serial Number: {op['serial_number']}\",\n",
    "            f\"Description: {op['description']}\",\n",
    "            f\"Manual (sec): {op['manual_sec']}sec\",\n",
    "            f\"Machine (sec): {op['machine_sec']}sec\",\n",
    "            f\"Value Judgment Unit: {op['value_judgment_unit']}\",\n",
    "            f\"Action Item Classification: {op['action_item_classification']}\",\n",
    "            f\"Current Action Level: {op['current_action_level']}\"\n",
    "        ])\n",
    "        texts.append(op_text)\n",
    "        doc_ids.append(f\"op_{i}_{j}\")\n",
    "        metadatas.append({\n",
    "            \"product_number\": doc[\"product_number\"],\n",
    "            \"workstation_number\": str(doc[\"Workstation number\"]),\n",
    "            \"workstation_name\": doc[\"Workstation name\"],\n",
    "            \"serial_number\": str(op[\"serial_number\"]),\n",
    "            \"type\": \"operation\"\n",
    "        })"
   ]
  },
  {
   "cell_type": "code",
   "execution_count": 338,
   "id": "32af0347",
   "metadata": {},
   "outputs": [
    {
     "name": "stdout",
     "output_type": "stream",
     "text": [
      "39\n",
      "39\n",
      "39\n"
     ]
    },
    {
     "data": {
      "text/plain": [
       "'Workstation Number: 8; Workstation Name: 0/S Test; Serial Number: 1; Description: Take 1 PCS product in each hand and put it on the test machine support; Manual (sec): 2.01sec; Machine (sec): 0.0sec; Value Judgment Unit: NVA; Action Item Classification: Transport; Current Action Level: Automation'"
      ]
     },
     "execution_count": 338,
     "metadata": {},
     "output_type": "execute_result"
    }
   ],
   "source": [
    "print(len(texts))\n",
    "print(len(doc_ids))\n",
    "print(len(metadatas))\n",
    "doc_ids\n",
    "texts[1]"
   ]
  },
  {
   "cell_type": "code",
   "execution_count": 312,
   "id": "422af637",
   "metadata": {},
   "outputs": [],
   "source": [
    "# Initialize list for documents\n",
    "documents = []\n",
    "\n",
    "# Group by Segment\n",
    "for segment in df[\"Workstation number\"].unique():\n",
    "    segment_df = df[df[\"Workstation number\"] == segment].copy()\n",
    "    \n",
    "    # Extract workstation level data\n",
    "    workstation_number = segment_df[\"Workstation number\"].iloc[0]\n",
    "    workstation_name = segment_df[\"Workstation name\"].iloc[0]\n",
    "    number_of_products = segment_df[\"Number of products\"].iloc[0]\n",
    "    working_hours_sec = segment_df[\"Working hours (Sec.)\"].iloc[0]\n",
    "    number_of_operators = segment_df[\"Number of operators\"].iloc[0]\n",
    "    average_working_hours_sec = segment_df[\"Average Working hours (Sec.)\"].iloc[0]\n",
    "    current_manual_labor_saturation = segment_df[\"Current manual labor saturation\"].iloc[0]\n",
    "    value_judgment_process = segment_df[\"Value Judgment Process\"].iloc[0]\n",
    "\n",
    "    # Extract operation level data\n",
    "    operations = []\n",
    "    for _, row in segment_df.iterrows():\n",
    "        operations.append({\n",
    "            \"serial_number\": row[\"Serial number\"],\n",
    "            \"description\": row[\"Assignment content\"],\n",
    "            \"manual_sec\": row[\"Manual (Sec.)\"],\n",
    "            \"machine_sec\": row[\"Machine (Sec.)\"],\n",
    "            \"value_judgment_unit\": row[\"Value Judgment unit\"],\n",
    "            \"action_item_classification\": row[\"Action Item Classification\"],\n",
    "            \"current_action_level\": row[\"Current Action Level\"]\n",
    "        })\n",
    "        \n",
    "    # Extract improvements\n",
    "    improvements = {\n",
    "        \"problem_description\": segment_df[\"Problem Description\"].iloc[0],\n",
    "        \"goals\": segment_df[\"Improvement goals\"].iloc[0],\n",
    "        \"ecrs\": segment_df[\"ECRS\"].iloc[0],\n",
    "    }\n",
    "    \n",
    "    # Metadata\n",
    "    metadata = {\n",
    "        \"edition\": segment_df[\"Edition\"].iloc[0],\n",
    "        \"updated\": segment_df[\"Updated\"].iloc[0],\n",
    "        \"approved_by\": segment_df[\"Approved by\"].iloc[0],\n",
    "        \"reviewer\": segment_df[\"Reviewer\"].iloc[0],\n",
    "        \"prepared_by\": segment_df[\"Prepared by\"].iloc[0],\n",
    "        \"responsible_person\": segment_df[\"Responsible Person\"].iloc[0]\n",
    "    }\n",
    "\n",
    "\n",
    "# Create document\n",
    "    document = {\n",
    "        \"product_number\": segment_df[\"Product Number\"].iloc[0],\n",
    "        \"Workstation number\": workstation_number,\n",
    "        \"Workstation name\": workstation_name,\n",
    "        \"Number of products\": number_of_products,\n",
    "        \"Working hours (Sec.)\": working_hours_sec,\n",
    "        \"Number of operators\": number_of_operators,\n",
    "        \"Cycle Time (Sec.)\": average_working_hours_sec,\n",
    "        \"Job saturation (%)\": current_manual_labor_saturation,\n",
    "        \"Value Judgment Process\": value_judgment_process,\n",
    "        \"operations\": operations,\n",
    "        \"improvement items\": improvements,\n",
    "        \"metadata\": metadata\n",
    "    }\n",
    "    documents.append(document)        "
   ]
  },
  {
   "cell_type": "code",
   "execution_count": 313,
   "id": "3ad29a0a",
   "metadata": {},
   "outputs": [
    {
     "data": {
      "text/plain": [
       "{'product_number': '3S6A013-00518-7F',\n",
       " 'Workstation number': 8,\n",
       " 'Workstation name': '0/S Test',\n",
       " 'Number of products': 1,\n",
       " 'Working hours (Sec.)': 6.88,\n",
       " 'Number of operators': 1,\n",
       " 'Cycle Time (Sec.)': 6.88,\n",
       " 'Job saturation (%)': 0.86,\n",
       " 'Value Judgment Process': 'VA',\n",
       " 'operations': [{'serial_number': 1,\n",
       "   'description': 'Take 1 PCS product in each hand and put it on the test machine support',\n",
       "   'manual_sec': 2.01,\n",
       "   'machine_sec': 0.0,\n",
       "   'value_judgment_unit': 'NVA',\n",
       "   'action_item_classification': 'Transport',\n",
       "   'current_action_level': 'Automation'},\n",
       "  {'serial_number': 2,\n",
       "   'description': 'Press the switch with both hands to test, and wait for the test machine to display PASS',\n",
       "   'manual_sec': 2.63,\n",
       "   'machine_sec': 0.0,\n",
       "   'value_judgment_unit': 'VA',\n",
       "   'action_item_classification': 'Operation',\n",
       "   'current_action_level': 'Semi automation'},\n",
       "  {'serial_number': 3,\n",
       "   'description': 'Put the good products into the production line',\n",
       "   'manual_sec': 2.24,\n",
       "   'machine_sec': 0.0,\n",
       "   'value_judgment_unit': 'NVA',\n",
       "   'action_item_classification': 'Transport',\n",
       "   'current_action_level': 'Automation'}],\n",
       " 'improvement items': {'problem_description': '/',\n",
       "  'goals': '/',\n",
       "  'ecrs': 'N/A'},\n",
       " 'metadata': {'edition': 'B',\n",
       "  'updated': 263822,\n",
       "  'approved_by': 'approved by',\n",
       "  'reviewer': 'reviewed by',\n",
       "  'prepared_by': 'prepared by',\n",
       "  'responsible_person': 'responsible person'}}"
      ]
     },
     "execution_count": 313,
     "metadata": {},
     "output_type": "execute_result"
    }
   ],
   "source": [
    "documents[0]"
   ]
  },
  {
   "cell_type": "code",
   "execution_count": 189,
   "id": "a825cf8a",
   "metadata": {},
   "outputs": [],
   "source": [
    "# Saving the data in JSON format\n",
    "\n",
    "import json\n",
    "import numpy as np\n",
    "\n",
    "def convert_to_serializable(obj):\n",
    "    if isinstance(obj, np.integer):\n",
    "        return int(obj)\n",
    "    elif isinstance(obj, np.floating):\n",
    "        return float(obj)\n",
    "    elif isinstance(obj, np.ndarray):\n",
    "        return obj.tolist()  # Convert NumPy arrays to lists\n",
    "    elif isinstance(obj, dict):\n",
    "        return {k: convert_to_serializable(v) for k, v in obj.items()}\n",
    "    elif isinstance(obj, list):\n",
    "        return [convert_to_serializable(elem) for elem in obj]\n",
    "    return obj\n",
    "\n",
    "# Assuming 'documents' is your data structure\n",
    "serializable_documents = convert_to_serializable(documents)\n",
    "\n",
    "with open(\"structured_data_no_metrics.json\", \"w\") as f:\n",
    "    json.dump(serializable_documents, f, indent=2)"
   ]
  },
  {
   "cell_type": "code",
   "execution_count": 2,
   "id": "771f4430",
   "metadata": {},
   "outputs": [],
   "source": [
    "import json\n",
    "with open(\"structured_data_no_metrics.json\", \"r\") as f:\n",
    "    loaded_documents = json.load(f)"
   ]
  },
  {
   "cell_type": "code",
   "execution_count": 3,
   "id": "e8523d26",
   "metadata": {},
   "outputs": [
    {
     "name": "stdout",
     "output_type": "stream",
     "text": [
      "9\n"
     ]
    }
   ],
   "source": [
    "print(len(loaded_documents))\n"
   ]
  },
  {
   "cell_type": "code",
   "execution_count": null,
   "id": "cb3db987",
   "metadata": {},
   "outputs": [],
   "source": [
    "texts = []\n",
    "doc_ids = []\n",
    "metadatas = []\n",
    "for i, doc in enumerate(loaded_documents):\n",
    "    # Combine fields into a single text string\n",
    "    workstation_text = \", \".join([\n",
    "        f\"Workstation Number: {doc['Workstation number']}, \"\n",
    "        f\"Workstation Name: {doc['Workstation name']}, \"\n",
    "        f\"Number of Products: {doc['Number of products']}, \"\n",
    "        f\"Working hours (Sec.): {doc['Working hours (Sec.)']}, \"\n",
    "        f\"Number of Operators: {doc['Number of operators']}, \"\n",
    "        f\"Cycle Time (Sec.): {doc['Cycle Time (Sec.)']}, \"\n",
    "        f\"Job saturation (%): {doc['Job saturation (%)']}, \"\n",
    "        f\"Value Judgment Process: {doc['Value Judgment Process']}, \"])\n",
    "    \n",
    "    ops_text = \", \".join([\n",
    "        f\"Serial Number: {op['serial_number']}, \" \n",
    "        f\"Description: {op['description']}, \" \n",
    "        f\"Manual (sec): {op['manual_sec']}sec, \" \n",
    "        f\"Machine (sec): {op['machine_sec']}sec, \" \n",
    "        f\"Value Judgment Unit: {op['value_judgment_unit']}, \" \n",
    "        f\"Action Item Classification: {op['action_item_classification']}, \" \n",
    "        f\"Current Action Level: {op['current_action_level']}\"\n",
    "        for op in doc[\"operations\"]])\n",
    "    text = f\"Workstation: {workstation_text}\\nOperations: {ops_text}\\nImprovements: {doc['improvement items']['goals'] if doc['improvement items']['goals'] != '/' else 'No improvements listed'}\"\n",
    "\n",
    "    texts.append(text)\n",
    "    doc_ids.append(str(i))\n",
    "    metadatas.append({\n",
    "        \"product_number\": doc[\"product_number\"],\n",
    "        \"workstation_number\": str(doc[\"Workstation number\"]),\n",
    "        \"workstation_name\": doc[\"Workstation name\"]\n",
    "    })"
   ]
  },
  {
   "cell_type": "code",
   "execution_count": 5,
   "id": "1448c44d",
   "metadata": {},
   "outputs": [
    {
     "name": "stdout",
     "output_type": "stream",
     "text": [
      "Workstation: Workstation Number: 8, Workstation Name: 0/S Test, Number of Products: 1, Working hours (Sec.): 6.88, Number of Operators: 1, Cycle Time (Sec.): 6.88, Job saturation (%): 0.86, Value Judgment Process: VA, \n",
      "Operations: Serial Number: 1, Description: Take 1 PCS product in each hand and put it on the test machine support, Manual (sec): 2.01sec, Machine (sec): 0.0sec, Value Judgment Unit: NVA, Action Item Classification: Transport, Current Action Level: Automation, Serial Number: 2, Description: Press the switch with both hands to test, and wait for the test machine to display PASS, Manual (sec): 2.63sec, Machine (sec): 0.0sec, Value Judgment Unit: VA, Action Item Classification: Operation, Current Action Level: Semi automation, Serial Number: 3, Description: Put the good products into the production line, Manual (sec): 2.24sec, Machine (sec): 0.0sec, Value Judgment Unit: NVA, Action Item Classification: Transport, Current Action Level: Automation\n",
      "Improvements: No improvements listed\n"
     ]
    }
   ],
   "source": [
    "print(texts[0])"
   ]
  },
  {
   "cell_type": "code",
   "execution_count": 6,
   "id": "15031ab9",
   "metadata": {},
   "outputs": [
    {
     "name": "stdout",
     "output_type": "stream",
     "text": [
      "9\n",
      "9\n",
      "9\n"
     ]
    }
   ],
   "source": [
    "import textwrap\n",
    "print(len(doc_ids))\n",
    "print(len(texts))\n",
    "print(len(metadatas))"
   ]
  },
  {
   "cell_type": "code",
   "execution_count": 7,
   "id": "75e9e1cd",
   "metadata": {},
   "outputs": [],
   "source": [
    "from langchain_openai import OpenAIEmbeddings\n",
    "embed_model = OpenAIEmbeddings(model=\"text-embedding-3-small\")\n",
    "all_embeddings = embed_model.embed_documents(texts)"
   ]
  },
  {
   "cell_type": "code",
   "execution_count": 8,
   "id": "133efcbb",
   "metadata": {},
   "outputs": [
    {
     "name": "stdout",
     "output_type": "stream",
     "text": [
      "9\n",
      "9\n",
      "9\n",
      "9 1536\n"
     ]
    }
   ],
   "source": [
    "import textwrap\n",
    "print(len(doc_ids))\n",
    "print(len(metadatas))\n",
    "print(len(texts))\n",
    "\n",
    "print(len(all_embeddings), len(all_embeddings[0]))\n"
   ]
  },
  {
   "cell_type": "code",
   "execution_count": 44,
   "id": "04dfb67e",
   "metadata": {},
   "outputs": [
    {
     "name": "stdout",
     "output_type": "stream",
     "text": [
      "Workstation: Workstation Number: 17, Workstation Name: Full inspection & TR packaging, Number of Products: 1, Working hours (Sec.): 5.43, Number of Operators: 2, Cycle Time (Sec.): 2.715, Job saturation (%): 0.339375, Value Judgment Process: VA, \n",
      "Operations: Serial Number: 1, Description: Use both hands to take a group of products and place them on the packaging machine at the same time, Manual (sec): 2.03sec, Machine (sec): 0.0sec, Value Judgment Unit: NVA, Action Item Classification: Transport, Current Action Level: Semi automation, Serial Number: 2, Description: Appearance inspection, Manual (sec): 2.06sec, Machine (sec): 0.0sec, Value Judgment Unit: VA, Action Item Classification: Inspect, Current Action Level: Manual, Serial Number: 3, Description: Use both hands to place the product in the packaging machine tray, Manual (sec): 1.34sec, Machine (sec): 0.0sec, Value Judgment Unit: NVA, Action Item Classification: Operation, Current Action Level: Advanced automation\n",
      "Improvements: No improvements listed\n"
     ]
    }
   ],
   "source": [
    "print(texts[-1])"
   ]
  },
  {
   "cell_type": "code",
   "execution_count": 15,
   "id": "f6368d9c",
   "metadata": {},
   "outputs": [],
   "source": [
    "import logging\n",
    "# Configure logging\n",
    "logging.basicConfig(level=logging.INFO, format='%(asctime)s - %(levelname)s - %(message)s')\n",
    "logger = logging.getLogger(__name__)"
   ]
  },
  {
   "cell_type": "code",
   "execution_count": 9,
   "id": "b008a511",
   "metadata": {},
   "outputs": [
    {
     "ename": "NameError",
     "evalue": "name 'logger' is not defined",
     "output_type": "error",
     "traceback": [
      "\u001b[1;31m---------------------------------------------------------------------------\u001b[0m",
      "\u001b[1;31mNameError\u001b[0m                                 Traceback (most recent call last)",
      "Cell \u001b[1;32mIn[9], line 11\u001b[0m\n\u001b[0;32m     10\u001b[0m     collection \u001b[38;5;241m=\u001b[39m chroma_client\u001b[38;5;241m.\u001b[39mcreate_collection(name\u001b[38;5;241m=\u001b[39mcollection_name)\n\u001b[1;32m---> 11\u001b[0m     \u001b[43mlogger\u001b[49m\u001b[38;5;241m.\u001b[39minfo(\u001b[38;5;124mf\u001b[39m\u001b[38;5;124m\"\u001b[39m\u001b[38;5;124mCreated new collection: \u001b[39m\u001b[38;5;132;01m{\u001b[39;00mcollection_name\u001b[38;5;132;01m}\u001b[39;00m\u001b[38;5;124m\"\u001b[39m)\n\u001b[0;32m     12\u001b[0m \u001b[38;5;28;01mexcept\u001b[39;00m \u001b[38;5;167;01mException\u001b[39;00m \u001b[38;5;28;01mas\u001b[39;00m e:\n",
      "\u001b[1;31mNameError\u001b[0m: name 'logger' is not defined",
      "\nDuring handling of the above exception, another exception occurred:\n",
      "\u001b[1;31mNameError\u001b[0m                                 Traceback (most recent call last)",
      "Cell \u001b[1;32mIn[9], line 17\u001b[0m\n\u001b[0;32m     15\u001b[0m     logger\u001b[38;5;241m.\u001b[39minfo(\u001b[38;5;124mf\u001b[39m\u001b[38;5;124m\"\u001b[39m\u001b[38;5;124mCollection \u001b[39m\u001b[38;5;124m'\u001b[39m\u001b[38;5;132;01m{\u001b[39;00mcollection_name\u001b[38;5;132;01m}\u001b[39;00m\u001b[38;5;124m'\u001b[39m\u001b[38;5;124m already exists. Using existing collection.\u001b[39m\u001b[38;5;124m\"\u001b[39m)\n\u001b[0;32m     16\u001b[0m \u001b[38;5;28;01melse\u001b[39;00m:\n\u001b[1;32m---> 17\u001b[0m     \u001b[43mlogger\u001b[49m\u001b[38;5;241m.\u001b[39merror(\u001b[38;5;124mf\u001b[39m\u001b[38;5;124m\"\u001b[39m\u001b[38;5;124mFailed to create or access collection: \u001b[39m\u001b[38;5;132;01m{\u001b[39;00m\u001b[38;5;28mstr\u001b[39m(e)\u001b[38;5;132;01m}\u001b[39;00m\u001b[38;5;124m\"\u001b[39m)\n\u001b[0;32m     18\u001b[0m     \u001b[38;5;28;01mraise\u001b[39;00m\n",
      "\u001b[1;31mNameError\u001b[0m: name 'logger' is not defined"
     ]
    }
   ],
   "source": [
    "import chromadb\n",
    "# Initialize Chroma\n",
    "## Create a collection for data injection\n",
    "\n",
    "# Initialize Chroma\n",
    "collection_name = \"improvement_suggestions\"\n",
    "chroma_client = chromadb.PersistentClient(path=\"./chroma_db_6\")\n",
    "\n",
    "try:\n",
    "    collection = chroma_client.create_collection(name=collection_name)\n",
    "    logger.info(f\"Created new collection: {collection_name}\")\n",
    "except Exception as e:\n",
    "    if \"already exists\" in str(e).lower():\n",
    "        collection = chroma_client.get_collection(name=collection_name)\n",
    "        logger.info(f\"Collection '{collection_name}' already exists. Using existing collection.\")\n",
    "    else:\n",
    "        logger.error(f\"Failed to create or access collection: {str(e)}\")\n",
    "        raise"
   ]
  },
  {
   "cell_type": "code",
   "execution_count": 10,
   "id": "ec8bcc82",
   "metadata": {},
   "outputs": [
    {
     "name": "stdout",
     "output_type": "stream",
     "text": [
      "Initial count#: 0\n"
     ]
    }
   ],
   "source": [
    "initial_count = collection.count()\n",
    "print(f'Initial count#: {initial_count}')"
   ]
  },
  {
   "cell_type": "code",
   "execution_count": 22,
   "id": "c32e0217",
   "metadata": {},
   "outputs": [],
   "source": [
    "# chroma_client.delete_collection(name=collection_name)\n",
    "# collection.count()"
   ]
  },
  {
   "cell_type": "code",
   "execution_count": 11,
   "id": "0d2fa443",
   "metadata": {},
   "outputs": [
    {
     "name": "stdout",
     "output_type": "stream",
     "text": [
      "Final count#: 9\n"
     ]
    }
   ],
   "source": [
    "collection.add(ids = doc_ids, embeddings=all_embeddings, documents=texts, metadatas=metadatas)\n",
    "final_count = collection.count()\n",
    "print(f'Final count#: {final_count}')"
   ]
  },
  {
   "cell_type": "code",
   "execution_count": 234,
   "id": "7d2bac0a",
   "metadata": {},
   "outputs": [],
   "source": [
    "# Convert the text back to the JSON format to make the LLM life easy\n",
    "\n",
    "def structure_document(text: str) -> str:\n",
    "    \"\"\"Convert comma-separated document to JSON.\"\"\"\n",
    "    fields = {}\n",
    "    pairs = text.split(\", \")\n",
    "    for pair in pairs:\n",
    "        if \":\" in pair:\n",
    "            key, value = pair.split(\": \", 1)\n",
    "            fields[key.strip()] = value.strip()\n",
    "    return json.dumps(fields)\n",
    "\n",
    "# During ingestion\n",
    "structured_texts = [structure_document(text) for text in texts]"
   ]
  },
  {
   "cell_type": "code",
   "execution_count": 243,
   "id": "9cf0105a",
   "metadata": {},
   "outputs": [],
   "source": [
    "collection.add(ids = doc_ids, embeddings=all_embeddings, documents=texts, metadatas=metadatas)"
   ]
  },
  {
   "cell_type": "code",
   "execution_count": 298,
   "id": "51e87127",
   "metadata": {},
   "outputs": [
    {
     "name": "stdout",
     "output_type": "stream",
     "text": [
      "8\n"
     ]
    },
    {
     "data": {
      "text/plain": [
       "'Workstation Number: 17, Workstation Name: Full inspection & TR packaging, Number of Products: 1, Working hours (Sec.): 5.43, Number of Operators: 2, Cycle Time (Sec.): 2.715, Job saturation (%): 0.339375, Value Judgment Process: VA, . Serial Number: 1, Description: Use both hands to take a group of products and place them on the packaging machine at the same time, Manual (sec): 2.03sec, Machine (sec): 0.0sec, Value Judgment Unit: NVA, Action Item Classification: Transport, Current Action Level: Semi automation, Serial Number: 2, Description: Appearance inspection, Manual (sec): 2.06sec, Machine (sec): 0.0sec, Value Judgment Unit: VA, Action Item Classification: Inspect, Current Action Level: Manual, Serial Number: 3, Description: Use both hands to place the product in the packaging machine tray, Manual (sec): 1.34sec, Machine (sec): 0.0sec, Value Judgment Unit: NVA, Action Item Classification: Operation, Current Action Level: Advanced automation. No improvements listed.'"
      ]
     },
     "execution_count": 298,
     "metadata": {},
     "output_type": "execute_result"
    }
   ],
   "source": [
    "index = 8\n",
    "print(doc_ids[index])\n",
    "texts[index]"
   ]
  },
  {
   "cell_type": "markdown",
   "id": "c60d2c01",
   "metadata": {},
   "source": [
    "RAG"
   ]
  },
  {
   "cell_type": "code",
   "execution_count": 12,
   "id": "9d41d6a5",
   "metadata": {},
   "outputs": [
    {
     "name": "stderr",
     "output_type": "stream",
     "text": [
      "2025-04-21 10:27:02,222 - WARNING - Add of existing embedding ID: 0\n",
      "2025-04-21 10:27:02,222 - WARNING - Add of existing embedding ID: 1\n",
      "2025-04-21 10:27:02,222 - WARNING - Add of existing embedding ID: 2\n",
      "2025-04-21 10:27:02,222 - WARNING - Add of existing embedding ID: 3\n",
      "2025-04-21 10:27:02,222 - WARNING - Add of existing embedding ID: 4\n",
      "2025-04-21 10:27:02,222 - WARNING - Add of existing embedding ID: 5\n",
      "2025-04-21 10:27:02,222 - WARNING - Add of existing embedding ID: 6\n",
      "2025-04-21 10:27:02,222 - WARNING - Add of existing embedding ID: 7\n",
      "2025-04-21 10:27:02,222 - WARNING - Add of existing embedding ID: 8\n",
      "2025-04-21 10:27:02,222 - WARNING - Insert of existing embedding ID: 0\n",
      "2025-04-21 10:27:02,222 - WARNING - Insert of existing embedding ID: 1\n",
      "2025-04-21 10:27:02,222 - WARNING - Insert of existing embedding ID: 2\n",
      "2025-04-21 10:27:02,222 - WARNING - Insert of existing embedding ID: 3\n",
      "2025-04-21 10:27:02,234 - WARNING - Insert of existing embedding ID: 4\n",
      "2025-04-21 10:27:02,235 - WARNING - Insert of existing embedding ID: 5\n",
      "2025-04-21 10:27:02,236 - WARNING - Insert of existing embedding ID: 6\n",
      "2025-04-21 10:27:02,237 - WARNING - Insert of existing embedding ID: 7\n",
      "2025-04-21 10:27:02,237 - WARNING - Insert of existing embedding ID: 8\n",
      "2025-04-21 10:27:02,335 - INFO - Successfully added data to collection\n"
     ]
    }
   ],
   "source": [
    "## GROK Suggestions\n",
    "import logging\n",
    "# Configure logging\n",
    "logging.basicConfig(level=logging.INFO, format='%(asctime)s - %(levelname)s - %(message)s')\n",
    "logger = logging.getLogger(__name__)\n",
    "def validate_collection_inputs(ids, embeddings, documents, metadatas):\n",
    "    if not all([ids, embeddings, documents]):  # Check for empty inputs\n",
    "        raise ValueError(\"IDs, embeddings, and documents must not be empty\")\n",
    "    if len(ids) != len(embeddings) or len(ids) != len(documents):\n",
    "        raise ValueError(\"IDs, embeddings, and documents must have the same length\")\n",
    "    if metadatas and len(metadatas) != len(ids):\n",
    "        raise ValueError(\"Metadatas length must match IDs length if provided\")\n",
    "\n",
    "try:\n",
    "    validate_collection_inputs(doc_ids, all_embeddings, texts, metadatas)\n",
    "    collection.add(ids=doc_ids, embeddings=all_embeddings, documents=texts, metadatas=metadatas)\n",
    "    logger.info(\"Successfully added data to collection\")\n",
    "except Exception as e:\n",
    "    logger.error(f\"Failed to add data to collection: {str(e)}\")\n",
    "    raise"
   ]
  },
  {
   "cell_type": "code",
   "execution_count": null,
   "id": "15da141a",
   "metadata": {},
   "outputs": [],
   "source": []
  },
  {
   "cell_type": "code",
   "execution_count": 13,
   "id": "dd427d6e",
   "metadata": {},
   "outputs": [],
   "source": [
    "\n",
    "# import chromadb\n",
    "# # Initialize Chroma\n",
    "# ## Create a collection for data injection\n",
    "# collection_name = \"improvement_suggestions\"\n",
    "# chroma_client = chromadb.PersistentClient(path=\"./chroma_db_5\")\n",
    "\n",
    "# try:\n",
    "#     collection = chroma_client.create_collection(name=collection_name)\n",
    "# except Exception as e:\n",
    "#     if \"already exists\" in str(e):\n",
    "#         # If the collection already exists, use the existing one\n",
    "#         collection = chroma_client.get_collection(name=collection_name)\n",
    "#         print(f\"Collection '{collection_name}' already exists. Using the existing collection.\")\n",
    "#     else:\n",
    "#         # Handle other exceptions\n",
    "#         raise e\n",
    "\n",
    "\n",
    "# collection.add(ids = doc_ids, embeddings=all_embeddings, documents=texts, metadatas=metadatas)\n",
    "\n",
    "\n",
    "\n",
    "\n",
    "\n",
    "from langchain_openai import ChatOpenAI\n",
    "from langchain.prompts import PromptTemplate\n",
    "from langchain_core.output_parsers import StrOutputParser\n",
    "from langchain_core.runnables import RunnablePassthrough\n",
    "import textwrap\n",
    "llm = ChatOpenAI(temperature = 0, model = \"gpt-4o\",)\n",
    "\n",
    "\n",
    "template =\"\"\"You will recieve the user's question along with the search results of that question \\\n",
    "over a database. Give the user the proper answer.\n",
    "User's question: {query_texts} \n",
    "Search results: {results}\n",
    "When a question is involved regarding an operation, please fully mention that in your answer.\n",
    "\"\"\"\n",
    "prompt = PromptTemplate.from_template(template=template)\n",
    "chain = prompt | llm | StrOutputParser()"
   ]
  },
  {
   "cell_type": "code",
   "execution_count": null,
   "id": "06c5d084",
   "metadata": {},
   "outputs": [],
   "source": [
    "The workstations of this production line are:\n",
    "1. Solder ring assembly & press-in (Workstation Number: 10)\n",
    "2. Long and short PIN test (Workstation Number: 15)\n",
    "3. Full inspection & TR packaging (Workstation Number: 17)\n",
    "4. Coplanarity test 1 (Workstation Number: 12)\n",
    "5. 0/S Test (Workstation Number: 8)\n",
    "6. Internal GAP inspection (CCD inspection) (Workstation Number: 13)\n",
    "7. Hi-pottest&Position detection (Workstation Number: 9)\n",
    "8. Coplanarity test (retest) (Workstation Number: 14)"
   ]
  },
  {
   "cell_type": "code",
   "execution_count": 14,
   "id": "60401ecf",
   "metadata": {},
   "outputs": [
    {
     "name": "stderr",
     "output_type": "stream",
     "text": [
      "2025-04-21 10:27:13,967 - INFO - HTTP Request: POST https://api.openai.com/v1/embeddings \"HTTP/1.1 200 OK\"\n",
      "2025-04-21 10:27:13,967 - WARNING - Number of requested results 10 is greater than number of elements in index 9, updating n_results = 9\n",
      "2025-04-21 10:27:26,301 - INFO - HTTP Request: POST https://api.openai.com/v1/chat/completions \"HTTP/1.1 200 OK\"\n"
     ]
    },
    {
     "name": "stdout",
     "output_type": "stream",
     "text": [
      "The workstation \"Coplanarity test (retest)\" is identified as Workstation Number 14. Here is an analysis based on the ECRS (Eliminate, Combine, Rearrange, Simplify) principles, along with improvement suggestions:\n",
      "\n",
      "### Current Operations:\n",
      "1. **Operation 1:**\n",
      "   - **Description:** Take 1 PCS product with your left hand and place it on the AOI inspection machine, and press the button with your right hand to test it.\n",
      "   - **Manual Time:** 3.21 seconds\n",
      "   - **Value Judgment Unit:** NVA (Non-Value Added)\n",
      "   - **Action Item Classification:** Transport\n",
      "   - **Current Action Level:** Automation\n",
      "\n",
      "2. **Operation 2:**\n",
      "   - **Description:** Take the product with your left hand, pick up the tool with your right hand, make adjustments according to the defects shown on the display, and then put the product on the AOI for testing.\n",
      "   - **Manual Time:** 5.24 seconds\n",
      "   - **Value Judgment Unit:** VA (Value Added)\n",
      "   - **Action Item Classification:** Operation\n",
      "   - **Current Action Level:** Semi-automation\n",
      "\n",
      "3. **Operation 3:**\n",
      "   - **Description:** Repeat the above steps until all the displays are good.\n",
      "   - **Manual Time:** 4.37 seconds\n",
      "   - **Value Judgment Unit:** NVA\n",
      "   - **Action Item Classification:** Operation\n",
      "   - **Current Action Level:** Semi-automation\n",
      "\n",
      "4. **Operation 4:**\n",
      "   - **Description:** Place the good quality wires in the marked plates and arrange them in order.\n",
      "   - **Manual Time:** 1.18 seconds\n",
      "   - **Value Judgment Unit:** NVA\n",
      "   - **Action Item Classification:** Transport\n",
      "   - **Current Action Level:** Automation\n",
      "\n",
      "### Improvement Suggestions (ECRS):\n",
      "\n",
      "1. **Eliminate:**\n",
      "   - Identify any unnecessary movements or steps in the process, particularly in Operations 1 and 4, which are classified as transport and NVA. Consider if these can be automated further or eliminated.\n",
      "\n",
      "2. **Combine:**\n",
      "   - Look for opportunities to combine steps, especially in Operations 2 and 3, where adjustments and testing are repeated. Streamlining these steps could reduce manual time and improve efficiency.\n",
      "\n",
      "3. **Rearrange:**\n",
      "   - Evaluate the sequence of operations to ensure the most efficient flow. For instance, rearranging the order of operations to minimize handling time and reduce the need for repeated adjustments.\n",
      "\n",
      "4. **Simplify:**\n",
      "   - Simplify the tool usage in Operation 2 to reduce manual time. Consider implementing more advanced automation solutions to handle adjustments based on defect detection.\n",
      "\n",
      "By applying these ECRS principles, the workstation can potentially improve its efficiency, reduce cycle time, and enhance overall productivity.\n"
     ]
    }
   ],
   "source": [
    "query_texts = \"Please analyze the workstation 'Coplanarity test (retest)' and provide improvement suggestions upon ECRS\"\n",
    "query_embeddings = embed_model.embed_query(query_texts)\n",
    "# Load the chromadb collection for vector search\n",
    "vectordb = chroma_client.get_collection(name=\"improvement_suggestions\")\n",
    "# Retrieve relevant chunk\n",
    "results = vectordb.query(\n",
    "    query_embeddings = query_embeddings,\n",
    "    # n_results=1 #top_k\n",
    ")\n",
    "response = chain.invoke({'query_texts': query_texts, 'results': results})\n",
    "print(response)"
   ]
  },
  {
   "cell_type": "code",
   "execution_count": 15,
   "id": "4c98a51d",
   "metadata": {},
   "outputs": [
    {
     "data": {
      "text/plain": [
       "[[0.9521121969299092,\n",
       "  0.9976683482169735,\n",
       "  1.0560022252413304,\n",
       "  1.0590029763851334,\n",
       "  1.0741560611091794,\n",
       "  1.1206011370919342,\n",
       "  1.1276897716395842,\n",
       "  1.1339480257947283,\n",
       "  1.1751301530005756]]"
      ]
     },
     "execution_count": 15,
     "metadata": {},
     "output_type": "execute_result"
    }
   ],
   "source": [
    "results['distances']"
   ]
  },
  {
   "cell_type": "code",
   "execution_count": 377,
   "id": "95d481e0",
   "metadata": {},
   "outputs": [
    {
     "name": "stdout",
     "output_type": "stream",
     "text": [
      "ids [['op_4_2', 'op_6_2', 'op_0_0', 'ws_0', 'op_0_2', 'op_4_1', 'op_0_1', 'op_6_1', 'ws_6', 'op_4_0']]\n",
      "embeddings None\n",
      "documents [['Workstation Number: 12; Workstation Name: Coplanarity test 1; Serial Number: 3; Description: Repeat the above steps until all the displays are good.; Manual (sec): 23.12sec; Machine (sec): 0.0sec; Value Judgment Unit: NVA; Action Item Classification: Operation; Current Action Level: Semi automation', 'Workstation Number: 14; Workstation Name: Coplanarity test (retest); Serial Number: 3; Description: Repeat the above steps until all the displays are good.; Manual (sec): 4.37sec; Machine (sec): 0.0sec; Value Judgment Unit: NVA; Action Item Classification: Operation; Current Action Level: Semi automation', 'Workstation Number: 8; Workstation Name: 0/S Test; Serial Number: 1; Description: Take 1 PCS product in each hand and put it on the test machine support; Manual (sec): 2.01sec; Machine (sec): 0.0sec; Value Judgment Unit: NVA; Action Item Classification: Transport; Current Action Level: Automation', 'Workstation Number: 8; Workstation Name: 0/S Test; Number of Products: 1; Working hours (Sec.): 6.88; Number of Operators: 1; Cycle Time (Sec.): 6.88; Job saturation (%): 0.86; Value Judgment Process: VA; Improvement Goals: No improvements listed', 'Workstation Number: 8; Workstation Name: 0/S Test; Serial Number: 3; Description: Put the good products into the production line; Manual (sec): 2.24sec; Machine (sec): 0.0sec; Value Judgment Unit: NVA; Action Item Classification: Transport; Current Action Level: Automation', 'Workstation Number: 12; Workstation Name: Coplanarity test 1; Serial Number: 2; Description: Take the product with your left hand, pick up the tool with your right hand, make adjustments according to the defects shown on the display, and then put the product on the AOI for testing.; Manual (sec): 10.78sec; Machine (sec): 0.0sec; Value Judgment Unit: VA; Action Item Classification: Operation; Current Action Level: Semi automation', 'Workstation Number: 8; Workstation Name: 0/S Test; Serial Number: 2; Description: Press the switch with both hands to test, and wait for the test machine to display PASS; Manual (sec): 2.63sec; Machine (sec): 0.0sec; Value Judgment Unit: VA; Action Item Classification: Operation; Current Action Level: Semi automation', 'Workstation Number: 14; Workstation Name: Coplanarity test (retest); Serial Number: 2; Description: Take the product with your left hand, pick up the tool with your right hand, make adjustments according to the defects shown on the display, and then put the product on the AOI for testing.; Manual (sec): 5.24sec; Machine (sec): 0.0sec; Value Judgment Unit: VA; Action Item Classification: Operation; Current Action Level: Semi automation', 'Workstation Number: 14; Workstation Name: Coplanarity test (retest); Number of Products: 1; Working hours (Sec.): 14.0; Number of Operators: 2; Cycle Time (Sec.): 7.0; Job saturation (%): 0.875; Value Judgment Process: VA; Improvement Goals: No improvements listed', 'Workstation Number: 12; Workstation Name: Coplanarity test 1; Serial Number: 1; Description: Take 1 PCS product with your left hand and place it on the AOI inspection machine, and press the button with your right hand to test it.; Manual (sec): 3.52sec; Machine (sec): 0.0sec; Value Judgment Unit: NVA; Action Item Classification: Transport; Current Action Level: Automation']]\n",
      "uris None\n",
      "data None\n",
      "metadatas [[{'product_number': '3S6A013-00518-7F', 'serial_number': '3', 'type': 'operation', 'workstation_name': 'Coplanarity test 1', 'workstation_number': '12'}, {'product_number': '3S6A013-00518-7F', 'serial_number': '3', 'type': 'operation', 'workstation_name': 'Coplanarity test (retest)', 'workstation_number': '14'}, {'product_number': '3S6A013-00518-7F', 'serial_number': '1', 'type': 'operation', 'workstation_name': '0/S Test', 'workstation_number': '8'}, {'product_number': '3S6A013-00518-7F', 'type': 'workstation', 'workstation_name': '0/S Test', 'workstation_number': '8'}, {'product_number': '3S6A013-00518-7F', 'serial_number': '3', 'type': 'operation', 'workstation_name': '0/S Test', 'workstation_number': '8'}, {'product_number': '3S6A013-00518-7F', 'serial_number': '2', 'type': 'operation', 'workstation_name': 'Coplanarity test 1', 'workstation_number': '12'}, {'product_number': '3S6A013-00518-7F', 'serial_number': '2', 'type': 'operation', 'workstation_name': '0/S Test', 'workstation_number': '8'}, {'product_number': '3S6A013-00518-7F', 'serial_number': '2', 'type': 'operation', 'workstation_name': 'Coplanarity test (retest)', 'workstation_number': '14'}, {'product_number': '3S6A013-00518-7F', 'type': 'workstation', 'workstation_name': 'Coplanarity test (retest)', 'workstation_number': '14'}, {'product_number': '3S6A013-00518-7F', 'serial_number': '1', 'type': 'operation', 'workstation_name': 'Coplanarity test 1', 'workstation_number': '12'}]]\n",
      "distances [[0.8595282003303474, 0.8665119340152551, 0.8730371708866, 0.8737107567410138, 0.8846459662684315, 0.8885081417106071, 0.8887924153796779, 0.8919144540546098, 0.9129435008498955, 0.9307919865992633]]\n",
      "included [<IncludeEnum.distances: 'distances'>, <IncludeEnum.documents: 'documents'>, <IncludeEnum.metadatas: 'metadatas'>]\n"
     ]
    }
   ],
   "source": [
    "for key, value in results.items():\n",
    "    print(key, value)"
   ]
  },
  {
   "cell_type": "code",
   "execution_count": 231,
   "id": "8bb40389",
   "metadata": {},
   "outputs": [
    {
     "data": {
      "text/plain": [
       "556"
      ]
     },
     "execution_count": 231,
     "metadata": {},
     "output_type": "execute_result"
    }
   ],
   "source": [
    "len(structured_texts[0])\n",
    "len(structured_texts[1])"
   ]
  },
  {
   "cell_type": "code",
   "execution_count": 232,
   "id": "9589cd31",
   "metadata": {},
   "outputs": [
    {
     "data": {
      "text/plain": [
       "'{\"Workstation Number\": \"9\", \"Workstation Name\": \"Hi-pottest&Position detection\", \"Number of Products\": \"1\", \"Working hours (Sec.)\": \"7.2\", \"Number of Operators\": \"1\", \"Cycle Time (Sec.)\": \"7.2\", \"Job saturation (%)\": \"0.9\", \"Value Judgment Process\": \"VA\", \". Serial Number\": \"1\", \"Description\": \"Put the good products into the production line\", \"Manual (sec)\": \"0.82sec\", \"Machine (sec)\": \"0.0sec\", \"Value Judgment Unit\": \"NVA\", \"Action Item Classification\": \"Transport\", \"Current Action Level\": \"Automation. No improvements listed.\", \"Serial Number\": \"4\"}'"
      ]
     },
     "execution_count": 232,
     "metadata": {},
     "output_type": "execute_result"
    }
   ],
   "source": [
    "structured_texts[1]"
   ]
  },
  {
   "cell_type": "code",
   "execution_count": 2,
   "id": "f1441261",
   "metadata": {},
   "outputs": [
    {
     "name": "stdout",
     "output_type": "stream",
     "text": [
      "b\n",
      "a\n",
      "n\n",
      "g\n",
      "l\n",
      "a\n",
      "d\n",
      "e\n",
      "s\n",
      "h\n"
     ]
    }
   ],
   "source": [
    "word = 'bangladesh'\n",
    "for i in word:\n",
    "    print(i)"
   ]
  },
  {
   "cell_type": "code",
   "execution_count": null,
   "id": "49c22841",
   "metadata": {},
   "outputs": [],
   "source": []
  }
 ],
 "metadata": {
  "kernelspec": {
   "display_name": "lparser",
   "language": "python",
   "name": "lparser"
  }
 },
 "nbformat": 4,
 "nbformat_minor": 5
}
