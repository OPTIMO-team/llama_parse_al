{
 "cells": [
  {
   "cell_type": "code",
   "execution_count": 4,
   "id": "98bf4afe",
   "metadata": {},
   "outputs": [],
   "source": [
    "from dotenv import load_dotenv\n",
    "load_dotenv()\n",
    "import nest_asyncio\n",
    "nest_asyncio.apply()\n",
    "from openai import OpenAI\n",
    "import json"
   ]
  },
  {
   "cell_type": "code",
   "execution_count": 5,
   "id": "b4e8c09a",
   "metadata": {},
   "outputs": [],
   "source": [
    "with open(\"structured_data_no_metrics.json\", \"r\") as f:\n",
    "    loaded_documents = json.load(f)"
   ]
  },
  {
   "cell_type": "code",
   "execution_count": 6,
   "id": "8168e8ef",
   "metadata": {},
   "outputs": [],
   "source": [
    "texts = []\n",
    "doc_ids = []\n",
    "metadatas = []\n",
    "for i, doc in enumerate(loaded_documents):\n",
    "    # Combine fields into a single text string\n",
    "    workstation_text = \", \".join([\n",
    "        f\"Workstation Number: {doc['Workstation number']}, \"\n",
    "        f\"Workstation Name: {doc['Workstation name']}, \"\n",
    "        f\"Number of Products: {doc['Number of products']}, \"\n",
    "        f\"Working hours (Sec.): {doc['Working hours (Sec.)']}, \"\n",
    "        f\"Number of Operators: {doc['Number of operators']}, \"\n",
    "        f\"Cycle Time (Sec.): {doc['Cycle Time (Sec.)']}, \"\n",
    "        f\"Job saturation (%): {doc['Job saturation (%)']}, \"\n",
    "        f\"Value Judgment Process: {doc['Value Judgment Process']}, \"])\n",
    "    \n",
    "    ops_text = \", \".join([\n",
    "        f\"Serial Number: {op['serial_number']}, \" \n",
    "        f\"Description: {op['description']}, \" \n",
    "        f\"Manual (sec): {op['manual_sec']}sec, \" \n",
    "        f\"Machine (sec): {op['machine_sec']}sec, \" \n",
    "        f\"Value Judgment Unit: {op['value_judgment_unit']}, \" \n",
    "        f\"Action Item Classification: {op['action_item_classification']}, \" \n",
    "        f\"Current Action Level: {op['current_action_level']}\"\n",
    "        for op in doc[\"operations\"]])\n",
    "    text = f\"Workstation: {workstation_text}\\nOperations: {ops_text}\\nImprovements: {doc['improvement items']['goals'] if doc['improvement items']['goals'] != '/' else 'No improvements listed'}\"\n",
    "\n",
    "    texts.append(text)\n",
    "    doc_ids.append(str(i))\n",
    "    metadatas.append({\n",
    "        \"product_number\": doc[\"product_number\"],\n",
    "        \"workstation_number\": str(doc[\"Workstation number\"]),\n",
    "        \"workstation_name\": doc[\"Workstation name\"]\n",
    "    })"
   ]
  },
  {
   "cell_type": "code",
   "execution_count": 7,
   "id": "a33fc8af",
   "metadata": {},
   "outputs": [],
   "source": [
    "from langchain_openai import OpenAIEmbeddings\n",
    "embed_model = OpenAIEmbeddings(model=\"text-embedding-3-small\")\n",
    "all_embeddings = embed_model.embed_documents(texts)"
   ]
  },
  {
   "cell_type": "code",
   "execution_count": 8,
   "id": "5b8212f8",
   "metadata": {},
   "outputs": [
    {
     "name": "stdout",
     "output_type": "stream",
     "text": [
      "9\n",
      "9\n",
      "9\n",
      "9 1536\n"
     ]
    }
   ],
   "source": [
    "import textwrap\n",
    "print(len(doc_ids))\n",
    "print(len(metadatas))\n",
    "print(len(texts))\n",
    "\n",
    "print(len(all_embeddings), len(all_embeddings[0]))"
   ]
  },
  {
   "cell_type": "code",
   "execution_count": 11,
   "id": "1845d1f1",
   "metadata": {},
   "outputs": [],
   "source": [
    "import chromadb\n",
    "# Initialize Chroma\n",
    "## Create a collection for data injection\n",
    "\n",
    "# Initialize Chroma\n",
    "collection_name = \"improvement_suggestions\"\n",
    "chroma_client = chromadb.PersistentClient(path=\"./chroma_db_6\")\n",
    "\n",
    "try:\n",
    "    collection = chroma_client.create_collection(name=collection_name)\n",
    "except Exception as e:\n",
    "    if \"already exists\" in str(e).lower():\n",
    "        collection = chroma_client.get_collection(name=collection_name)\n",
    "    else:\n",
    "        raise\n",
    "\n"
   ]
  },
  {
   "cell_type": "code",
   "execution_count": 12,
   "id": "01975de4",
   "metadata": {},
   "outputs": [
    {
     "name": "stdout",
     "output_type": "stream",
     "text": [
      "Initial count#: 0\n"
     ]
    }
   ],
   "source": [
    "initial_count = collection.count()\n",
    "print(f'Initial count#: {initial_count}')"
   ]
  },
  {
   "cell_type": "code",
   "execution_count": 10,
   "id": "f05886b2",
   "metadata": {},
   "outputs": [],
   "source": [
    "chroma_client.delete_collection(name=collection_name)\n",
    "# collection.count()"
   ]
  },
  {
   "cell_type": "code",
   "execution_count": 13,
   "id": "3023cc62",
   "metadata": {},
   "outputs": [],
   "source": [
    "collection.add(ids = doc_ids, embeddings=all_embeddings, documents=texts, metadatas=metadatas)"
   ]
  },
  {
   "cell_type": "code",
   "execution_count": 49,
   "id": "74cffee3",
   "metadata": {},
   "outputs": [],
   "source": [
    "template = \"\"\"You are an expert in process optimization. Based on the user's question and the provided search results, \\\n",
    "    analyze the workstation and provide improvement suggestions using the ECRS framework (Eliminate, Combine, Rearrange, Simplify). \\\n",
    "        For each suggestion, explain how it improves efficiency, reduces cycle time, or enhances job saturation. \\\n",
    "            Include operation serial number while referring them.\n",
    "\n",
    "User's question: {query_texts}\n",
    "Search results: {results}\n",
    "\n",
    "Format your response as:\n",
    "- **Eliminate**: [Suggestions to remove unnecessary steps or operations]\n",
    "- **Combine**: [Suggestions to merge steps or operations]\n",
    "- **Rearrange**: [Suggestions to reorder steps for efficiency]\n",
    "- **Simplify**: [Suggestions to streamline processes or reduce complexity]\n",
    "\"\"\"\n",
    "template += \"\"\"\n",
    "Example ECRS suggestions:\n",
    "- Eliminate: Remove redundant manual inspections if automated tests are sufficient.\n",
    "- Combine: Merge two sequential tests into a single operation to reduce cycle time.\n",
    "- Rearrange: Perform high-variance operations first to stabilize downstream processes.\n",
    "- Simplify: Use standardized tools to reduce operator training time.\n",
    "\"\"\"\n",
    "template += \"\\nBefore providing suggestions, analyze the workstation's cycle time, job saturation, \\\n",
    "    and operations to identify inefficiencies. Explain your reasoning.\""
   ]
  },
  {
   "cell_type": "code",
   "execution_count": null,
   "id": "dc7fbe9d",
   "metadata": {},
   "outputs": [],
   "source": [
    "template = \"\"\"You are an expert in manufacturing process optimization, specializing in workstation efficiency. Based on the user's question and the provided search results, analyze the specified workstation and its operations to generate improvement suggestions that enhance productivity, with a focus on increasing job saturation (e.g., reducing operator idle time, balancing workload). Provide suggestions using the ECRS framework (Eliminate, Combine, Rearrange, Simplify), targeting inefficiencies at the operation level. For each suggestion, include the operation serial number, explain how it improves productivity (e.g., reduces cycle time, increases throughput, or enhances job saturation), and quantify the potential impact where possible (e.g., 'reduces cycle time by approximately 5 seconds'). If trade-offs exist (e.g., increased complexity), briefly note them.\n",
    "\n",
    "User's question: {query_texts}\n",
    "Search results: {results}\n",
    "\n",
    "**Instructions**:\n",
    "1. Analyze the workstation's cycle time, job saturation, number of operators, and operation details (manual and machine times, value judgment units) from the search results to identify inefficiencies. If specific metrics are missing, note assumptions and proceed with reasonable estimates.\n",
    "2. Prioritize suggestions that increase job saturation by minimizing idle time or optimizing operator tasks, while also considering cycle time reduction and throughput improvement.\n",
    "3. For each ECRS suggestion, reference the operation serial number and use data from the search results to justify the recommendation.\n",
    "4. If the search results lack sufficient data, provide general suggestions based on typical manufacturing inefficiencies and note the need for more data.\n",
    "\n",
    "**Format your response**:\n",
    "- **Analysis**: Summarize the workstation's key metrics (e.g., cycle time, job saturation, number of operators) and identify inefficiencies (e.g., low job saturation, high manual time).\n",
    "- **Eliminate**: [Suggestions to remove unnecessary steps or operations, with operation serial numbers and impact]\n",
    "- **Combine**: [Suggestions to merge steps or operations, with operation serial numbers and impact]\n",
    "- **Rearrange**: [Suggestions to reorder steps for efficiency, with operation serial numbers and impact]\n",
    "- **Simplify**: [Suggestions to streamline processes or reduce complexity, with operation serial numbers and impact]\n",
    "\n",
    "**Example ECRS suggestions for a workstation like 'Coplanarity test (retest)'**:\n",
    "- **Eliminate**: Remove operation OP123 (manual inspection) if automated testing (OP124) covers the same quality checks, reducing cycle time by 10 seconds and increasing job saturation by freeing operator time.\n",
    "- **Combine**: Merge operations OP125 and OP126 (sequential measurements) into a single operation using a multi-function tool, reducing cycle time by 8 seconds and improving job saturation by 5%.\n",
    "- **Rearrange**: Perform operation OP127 (high-variance setup) before OP128 (stable testing) to reduce setup variability, potentially decreasing cycle time by 5 seconds.\n",
    "- **Simplify**: Standardize tooling for operation OP129 to reduce operator training time, improving job saturation by minimizing errors and delays.\n",
    "\"\"\""
   ]
  },
  {
   "cell_type": "code",
   "execution_count": 65,
   "id": "f691c118",
   "metadata": {},
   "outputs": [],
   "source": [
    "template = \"\"\"You are an expert in manufacturing process optimization, specializing in workstation efficiency. Based on the user's question and the provided search results, analyze the specified workstation and its operations to generate improvement suggestions that enhance productivity, with a focus on increasing job saturation (e.g., reducing operator idle time, balancing workload) or throughput (e.g., increasing output per unit time). Provide suggestions using the ECRS framework (Eliminate, Combine, Rearrange, Simplify), targeting inefficiencies at the operation level. For each suggestion, include the operation serial number, explain how it improves productivity, and quantify the potential impact where possible (e.g., 'reduces cycle time by 5 seconds' or 'increases throughput by 10 units/hour'). If trade-offs exist (e.g., increased complexity), briefly note them.\n",
    "\n",
    "User's question: {query_texts}\n",
    "Search results: {results}\n",
    "\n",
    "**Instructions**:\n",
    "1. Summarize the workstation's key metrics (e.g., cycle time, job saturation, number of operators, throughput) and operation details (manual and machine times, value judgment units) from the search results to provide context.\n",
    "2. Identify inefficiencies (e.g., low job saturation, high manual time, bottlenecks) and propose general strategies to improve job saturation or throughput.\n",
    "3. Provide operation-specific ECRS suggestions, referencing operation serial numbers and using data from the search results to justify recommendations.\n",
    "4. If specific metrics are missing, note assumptions and provide reasonable estimates or general suggestions based on typical manufacturing inefficiencies.\n",
    "5. Ensure all suggestions are practical, actionable, and aligned with manufacturing best practices.\n",
    "\n",
    "**Response Format**:\n",
    "- **Section 1: Summary of the Workstation**:\n",
    "  - Describe the workstation's key metrics (e.g., cycle time, job saturation, number of operators, throughput).\n",
    "  - Summarize the operations (e.g., manual vs. machine time, value judgment units).\n",
    "  - Highlight any inefficiencies or bottlenecks based on the data.\n",
    "- **Section 2: How to Improve Job Saturation or Throughput**:\n",
    "  - Propose general strategies to increase job saturation (e.g., reducing idle time, balancing operator tasks) or throughput (e.g., reducing cycle time, optimizing bottlenecks).\n",
    "  - Explain how these strategies address inefficiencies identified in Section 1.\n",
    "  - Quantify potential improvements where possible.\n",
    "- **Section 3: ECRS Principle Suggestions**:\n",
    "  - **Eliminate**: Suggestions to remove unnecessary steps or operations, with operation serial numbers, impact, and trade-offs.\n",
    "  - **Combine**: Suggestions to merge steps or operations, with operation serial numbers, impact, and trade-offs.\n",
    "  - **Rearrange**: Suggestions to reorder steps for efficiency, with operation serial numbers, impact, and trade-offs.\n",
    "  - **Simplify**: Suggestions to streamline processes or reduce complexity, with operation serial numbers, impact, and trade-offs.\n",
    "\n",
    "**Standard Example Response** (for a workstation like 'Coplanarity test (retest)'):\n",
    "\n",
    "- **Section 1: Summary of the Workstation**:\n",
    "  - The 'Coplanarity test (retest)' workstation has a cycle time of 60 seconds, job saturation of 70%, 2 operators, and a throughput of 60 units/hour. It includes operations OP123 (manual inspection, 15 sec), OP124 (automated test, 10 sec), OP125 (measurement, 10 sec), and OP126 (setup, 15 sec). Inefficiencies include low job saturation (70%) indicating operator idle time during machine operations and potential redundancy between OP123 and OP124.\n",
    "- **Section 2: How to Improve Job Saturation or Throughput**:\n",
    "  - To increase job saturation, reduce operator idle time by redistributing manual tasks during machine operations, potentially increasing saturation to 85%. To improve throughput, eliminate redundant operations and optimize cycle time, aiming for 80 units/hour. Balancing manual and machine tasks can address the bottleneck in OP126 (setup).\n",
    "- **Section 3: ECRS Principle Suggestions**:\n",
    "  - **Eliminate**: Remove OP123 (manual inspection) as OP124 (automated test) covers the same quality checks, reducing cycle time by 15 seconds and increasing job saturation by 10%. *Trade-off*: Requires validation of automated test reliability.\n",
    "  - **Combine**: Merge OP125 and OP126 (measurement and setup) into a single operation using a multi-function tool, reducing cycle time by 10 seconds and improving throughput by 5 units/hour. *Trade-off*: May require investment in new equipment.\n",
    "  - **Rearrange**: Perform OP126 (setup) before OP125 (measurement) to reduce setup variability, decreasing cycle time by 5 seconds. *Trade-off*: Minimal, but requires operator retraining.\n",
    "  - **Simplify**: Standardize tooling for OP124 to reduce operator errors, improving job saturation by 5% and reducing defect-related delays. *Trade-off*: Initial training cost.\n",
    "\"\"\""
   ]
  },
  {
   "cell_type": "code",
   "execution_count": 69,
   "id": "73124e26",
   "metadata": {},
   "outputs": [],
   "source": [
    "template = \"\"\"You are an expert in manufacturing process optimization, specializing in workstation efficiency. Based on the user's question and the provided search results, analyze the specified workstation and its operations to generate improvement suggestions that enhance productivity, with a focus on increasing job saturation (e.g., reducing operator idle time, balancing workload) or throughput (e.g., increasing output per unit time). Provide suggestions using the ECRS framework (Eliminate, Combine, Rearrange, Simplify), targeting inefficiencies at the operation level. For each suggestion, include the operation serial number, explain how it improves productivity, and quantify the potential impact where possible (e.g., 'reduces cycle time by 5 seconds' or 'increases throughput by 10 units/hour'). If trade-offs exist (e.g., increased complexity), briefly note them.\n",
    "\n",
    "**Value Judgment Units**: A measure of the complexity or criticality of a manual operation (e.g., 1 for simple assembly, 3 for intricate inspection).\n",
    "\n",
    "User's question: {query_texts}\n",
    "Search results: {results}\n",
    "\n",
    "**Instructions**:\n",
    "1. Summarize the workstation's key metrics (e.g., cycle time, job saturation, number of operators, throughput) and operation details (manual and machine times, value judgment units) from the search results to provide context.\n",
    "2. Identify inefficiencies (e.g., low job saturation, high manual time, bottlenecks) and propose general strategies to improve job saturation or throughput.\n",
    "3. Provide operation-specific ECRS suggestions, referencing operation serial numbers and using data from the search results to justify recommendations. **Ensure all analysis and suggestions are directly supported by the information found in the 'Search results'. Explicitly mention the data points used to justify your recommendations.**\n",
    "4. If specific metrics are missing, note assumptions and provide reasonable estimates or general suggestions based on typical manufacturing inefficiencies.\n",
    "5. Ensure all suggestions are practical, actionable, and aligned with manufacturing best practices. **If the 'Search results' contain conflicting information, prioritize data that appears most recent or is attributed to a reliable source. Briefly note any significant discrepancies and how they were addressed in your analysis.**\n",
    "\n",
    "**Response Format**:\n",
    "- **Section 1: Summary of the Workstation**:\n",
    "  - Describe the workstation's key metrics (e.g., cycle time, job saturation, number of operators, throughput).\n",
    "  - Summarize the operations (e.g., manual vs. machine time, value judgment units).\n",
    "  - Highlight any inefficiencies or bottlenecks based on the data.\n",
    "- **Section 2: How to Improve Job Saturation or Throughput**:\n",
    "  - Propose general strategies to increase job saturation (e.g., reducing idle time, balancing operator tasks) or throughput (e.g., reducing cycle time, optimizing bottlenecks).\n",
    "  - Explain how these strategies address inefficiencies identified in Section 1.\n",
    "  - Quantify potential improvements where possible **(in terms of seconds, units per hour, or percentage change, as appropriate)**.\n",
    "- **Section 3: ECRS Principle Suggestions**:\n",
    "  - **Eliminate**: Suggestions to remove unnecessary steps or operations, with operation serial numbers, impact, and trade-offs.\n",
    "  - **Combine**: Suggestions to merge steps or operations, with operation serial numbers, impact, and trade-offs.\n",
    "  - **Rearrange**: Suggestions to reorder steps for efficiency, with operation serial numbers, impact, and trade-offs.\n",
    "  - **Simplify**: Suggestions to streamline processes or reduce complexity, with operation serial numbers, impact, and trade-offs.\n",
    "\n",
    "**Standard Example Response** (for a workstation like 'Coplanarity test (retest)'):\n",
    "\n",
    "- **Section 1: Summary of the Workstation**:\n",
    "  - The 'Coplanarity test (retest)' workstation has a cycle time of 60 seconds, job saturation of 70%, 2 operators, and a throughput of 60 units/hour. It includes operations OP123 (manual inspection, 15 sec, 2 VJU), OP124 (automated test, 10 sec), OP125 (measurement, 10 sec, 1 VJU), and OP126 (setup, 15 sec). Inefficiencies include low job saturation (70%) indicating operator idle time during machine operations and potential redundancy between OP123 and OP124.\n",
    "- **Section 2: How to Improve Job Saturation or Throughput**:\n",
    "  - To increase job saturation, reduce operator idle time by redistributing manual tasks during machine operations, potentially increasing saturation to 85%. To improve throughput, eliminate redundant operations and optimize cycle time, aiming for 80 units/hour. Balancing manual and machine tasks can address the bottleneck in OP126 (setup).\n",
    "- **Section 3: ECRS Principle Suggestions**:\n",
    "  - **Eliminate**: Remove OP123 (manual inspection) as OP124 (automated test) covers the same quality checks (based on search result data indicating 99.9% correlation), reducing cycle time by 15 seconds and increasing job saturation by 10%. *Trade-off*: Requires validation of automated test reliability and potential for missing subjective defects.\n",
    "  - **Combine**: Merge OP125 and OP126 (measurement and setup) into a single operation using a multi-function tool (as suggested by search result indicating availability of such tools), reducing cycle time by 10 seconds and improving throughput by 5 units/hour. *Trade-off*: May require investment in new equipment and operator training.\n",
    "  - **Rearrange**: Perform OP126 (setup) before OP125 (measurement) to reduce setup variability (as indicated by search result data showing high setup time variation after measurement), decreasing cycle time by 5 seconds. *Trade-off*: Minimal, but requires operator retraining.\n",
    "  - **Simplify**: Standardize tooling for OP124 to reduce operator errors (as mentioned in a search result regarding common causes of defects), improving job saturation by 5% and reducing defect-related delays. *Trade-off*: Initial training cost and potential resistance to change.\n",
    "\"\"\"\n",
    "\n"
   ]
  },
  {
   "cell_type": "code",
   "execution_count": 70,
   "id": "10a5bf77",
   "metadata": {},
   "outputs": [
    {
     "name": "stdout",
     "output_type": "stream",
     "text": [
      "You are an expert in manufacturing process optimization, specializing in workstation efficiency. Based on the user's question and the provided search results, analyze the specified workstation and its operations to generate improvement suggestions that enhance productivity, with a focus on increasing job saturation (e.g., reducing operator idle time, balancing workload) or throughput (e.g., increasing output per unit time). Provide suggestions using the ECRS framework (Eliminate, Combine, Rearrange, Simplify), targeting inefficiencies at the operation level. For each suggestion, include the operation serial number, explain how it improves productivity, and quantify the potential impact where possible (e.g., 'reduces cycle time by 5 seconds' or 'increases throughput by 10 units/hour'). If trade-offs exist (e.g., increased complexity), briefly note them.\n",
      "\n",
      "**Value Judgment Units**: A measure of the complexity or criticality of a manual operation (e.g., 1 for simple assembly, 3 for intricate inspection).\n",
      "\n",
      "User's question: {query_texts}\n",
      "Search results: {results}\n",
      "\n",
      "**Instructions**:\n",
      "1. Summarize the workstation's key metrics (e.g., cycle time, job saturation, number of operators, throughput) and operation details (manual and machine times, value judgment units) from the search results to provide context.\n",
      "2. Identify inefficiencies (e.g., low job saturation, high manual time, bottlenecks) and propose general strategies to improve job saturation or throughput.\n",
      "3. Provide operation-specific ECRS suggestions, referencing operation serial numbers and using data from the search results to justify recommendations. **Ensure all analysis and suggestions are directly supported by the information found in the 'Search results'. Explicitly mention the data points used to justify your recommendations.**\n",
      "4. If specific metrics are missing, note assumptions and provide reasonable estimates or general suggestions based on typical manufacturing inefficiencies.\n",
      "5. Ensure all suggestions are practical, actionable, and aligned with manufacturing best practices. **If the 'Search results' contain conflicting information, prioritize data that appears most recent or is attributed to a reliable source. Briefly note any significant discrepancies and how they were addressed in your analysis.**\n",
      "\n",
      "**Response Format**:\n",
      "- **Section 1: Summary of the Workstation**:\n",
      "  - Describe the workstation's key metrics (e.g., cycle time, job saturation, number of operators, throughput).\n",
      "  - Summarize the operations (e.g., manual vs. machine time, value judgment units).\n",
      "  - Highlight any inefficiencies or bottlenecks based on the data.\n",
      "- **Section 2: How to Improve Job Saturation or Throughput**:\n",
      "  - Propose general strategies to increase job saturation (e.g., reducing idle time, balancing operator tasks) or throughput (e.g., reducing cycle time, optimizing bottlenecks).\n",
      "  - Explain how these strategies address inefficiencies identified in Section 1.\n",
      "  - Quantify potential improvements where possible **(in terms of seconds, units per hour, or percentage change, as appropriate)**.\n",
      "- **Section 3: ECRS Principle Suggestions**:\n",
      "  - **Eliminate**: Suggestions to remove unnecessary steps or operations, with operation serial numbers, impact, and trade-offs.\n",
      "  - **Combine**: Suggestions to merge steps or operations, with operation serial numbers, impact, and trade-offs.\n",
      "  - **Rearrange**: Suggestions to reorder steps for efficiency, with operation serial numbers, impact, and trade-offs.\n",
      "  - **Simplify**: Suggestions to streamline processes or reduce complexity, with operation serial numbers, impact, and trade-offs.\n",
      "\n",
      "**Standard Example Response** (for a workstation like 'Coplanarity test (retest)'):\n",
      "\n",
      "- **Section 1: Summary of the Workstation**:\n",
      "  - The 'Coplanarity test (retest)' workstation has a cycle time of 60 seconds, job saturation of 70%, 2 operators, and a throughput of 60 units/hour. It includes operations OP123 (manual inspection, 15 sec, 2 VJU), OP124 (automated test, 10 sec), OP125 (measurement, 10 sec, 1 VJU), and OP126 (setup, 15 sec). Inefficiencies include low job saturation (70%) indicating operator idle time during machine operations and potential redundancy between OP123 and OP124.\n",
      "- **Section 2: How to Improve Job Saturation or Throughput**:\n",
      "  - To increase job saturation, reduce operator idle time by redistributing manual tasks during machine operations, potentially increasing saturation to 85%. To improve throughput, eliminate redundant operations and optimize cycle time, aiming for 80 units/hour. Balancing manual and machine tasks can address the bottleneck in OP126 (setup).\n",
      "- **Section 3: ECRS Principle Suggestions**:\n",
      "  - **Eliminate**: Remove OP123 (manual inspection) as OP124 (automated test) covers the same quality checks (based on search result data indicating 99.9% correlation), reducing cycle time by 15 seconds and increasing job saturation by 10%. *Trade-off*: Requires validation of automated test reliability and potential for missing subjective defects.\n",
      "  - **Combine**: Merge OP125 and OP126 (measurement and setup) into a single operation using a multi-function tool (as suggested by search result indicating availability of such tools), reducing cycle time by 10 seconds and improving throughput by 5 units/hour. *Trade-off*: May require investment in new equipment and operator training.\n",
      "  - **Rearrange**: Perform OP126 (setup) before OP125 (measurement) to reduce setup variability (as indicated by search result data showing high setup time variation after measurement), decreasing cycle time by 5 seconds. *Trade-off*: Minimal, but requires operator retraining.\n",
      "  - **Simplify**: Standardize tooling for OP124 to reduce operator errors (as mentioned in a search result regarding common causes of defects), improving job saturation by 5% and reducing defect-related delays. *Trade-off*: Initial training cost and potential resistance to change.\n",
      "\n"
     ]
    }
   ],
   "source": [
    "print(template)"
   ]
  },
  {
   "cell_type": "code",
   "execution_count": 51,
   "id": "b61c2156",
   "metadata": {},
   "outputs": [],
   "source": [
    "from langchain_openai import ChatOpenAI\n",
    "from langchain.prompts import PromptTemplate\n",
    "from langchain_core.output_parsers import StrOutputParser, JsonOutputParser\n",
    "from langchain_core.runnables import RunnablePassthrough\n",
    "import textwrap\n",
    "llm = ChatOpenAI(temperature = 0.4, model = \"gpt-4o\")\n",
    "\n",
    "\n",
    "# template =\"\"\"You will recieve the user's question along with the search results of that question \\\n",
    "# over a database. Give the user the proper answer.\n",
    "# User's question: {query_texts} \n",
    "# Search results: {results}\n",
    "# When a question is involved regarding an operation, please fully mention that in your answer.\n",
    "# \"\"\"\n"
   ]
  },
  {
   "cell_type": "code",
   "execution_count": 71,
   "id": "c36fec62",
   "metadata": {},
   "outputs": [
    {
     "name": "stderr",
     "output_type": "stream",
     "text": [
      "Number of requested results 10 is greater than number of elements in index 9, updating n_results = 9\n"
     ]
    },
    {
     "name": "stdout",
     "output_type": "stream",
     "text": [
      "### Section 1: Summary of the Workstation\n",
      "\n",
      "- **Workstation Overview**: The 'Internal GAP inspection (CCD inspection)' workstation is identified as Workstation Number 13. It operates with a cycle time of 6.14 seconds and is managed by a single operator. The job saturation is at 76.75%, indicating some level of operator idle time.\n",
      "- **Operations**: The workstation involves three main operations:\n",
      "  - **Serial Number 1**: Taking a product and placing it on the CCD holder (1.88 seconds, Non-Value Added (NVA), Transport).\n",
      "  - **Serial Number 2**: Shaking the product to confirm baseline alignment (2.49 seconds, Value Added (VA), Operation).\n",
      "  - **Serial Number 3**: Removing the product and placing it on the flow line (1.77 seconds, NVA, Transport).\n",
      "- **Inefficiencies**: The job saturation rate suggests potential for optimization, particularly in reducing idle time. The manual times for operations, especially the transport actions, indicate room for efficiency improvements.\n",
      "\n",
      "### Section 2: How to Improve Job Saturation or Throughput\n",
      "\n",
      "- **General Strategies**:\n",
      "  - **Increase Job Saturation**: Redistribute tasks to minimize idle time by overlapping manual operations with machine operations where possible. Aim to increase job saturation to over 85%.\n",
      "  - **Increase Throughput**: Reduce cycle time by optimizing or automating transport operations, potentially increasing throughput by 10-15% (approximately 1 additional unit per minute).\n",
      "- **Addressing Inefficiencies**:\n",
      "  - By focusing on the transport operations (Serial Numbers 1 and 3), which are currently non-value added, we can streamline the process and reduce manual handling time.\n",
      "\n",
      "### Section 3: ECRS Principle Suggestions\n",
      "\n",
      "- **Eliminate**:\n",
      "  - **Operation 1**: Consider automating the placement of the product on the CCD holder to eliminate manual handling time (1.88 seconds). This could reduce the cycle time by approximately 30%, leading to higher throughput.\n",
      "  - *Trade-off*: Initial cost for automation equipment and potential maintenance needs.\n",
      "\n",
      "- **Combine**:\n",
      "  - **Operations 1 and 3**: Combine the tasks of placing and removing the product into a single automated operation. This could reduce overall handling time by 1.77 seconds.\n",
      "  - *Trade-off*: Requires investment in automation technology and training for operators.\n",
      "\n",
      "- **Rearrange**:\n",
      "  - **Operation Sequence**: Rearrange the sequence to allow for simultaneous operations where possible, such as shaking the product while the next product is being placed on the holder. This could improve job saturation by utilizing operator time more effectively.\n",
      "  - *Trade-off*: May require changes in workstation layout and operator workflow.\n",
      "\n",
      "- **Simplify**:\n",
      "  - **Operation 2**: Simplify the shaking and confirmation process by introducing semi-automated tools that assist in baseline confirmation, reducing manual effort and potential for error.\n",
      "  - *Trade-off*: Potential need for operator training on new tools.\n",
      "\n",
      "By implementing these ECRS suggestions, the workstation can achieve higher efficiency, reduced cycle times, and improved job saturation, leading to increased productivity and throughput.\n"
     ]
    }
   ],
   "source": [
    "prompt = PromptTemplate.from_template(template=template)\n",
    "chain = prompt | llm | StrOutputParser()\n",
    "\n",
    "query_texts = \"Please analyze the operations of workstation 'Internal GAP inspection (CCD inspection)' and provide improvement suggestions.\"\n",
    "query_embeddings = embed_model.embed_query(query_texts)\n",
    "# Load the chromadb collection for vector search\n",
    "vectordb = chroma_client.get_collection(name=\"improvement_suggestions\")\n",
    "# Retrieve relevant chunk\n",
    "results = vectordb.query(\n",
    "    query_embeddings = query_embeddings,\n",
    "    # n_results=1 #top_k\n",
    ")\n",
    "response = chain.invoke({'query_texts': query_texts, 'results': results})\n",
    "print(response)"
   ]
  },
  {
   "cell_type": "code",
   "execution_count": 68,
   "id": "24432c23",
   "metadata": {},
   "outputs": [
    {
     "data": {
      "text/plain": [
       "[[0.605694183322796,\n",
       "  0.6199018911398201,\n",
       "  0.7903752371278352,\n",
       "  0.794047400634398,\n",
       "  0.8125527545319149,\n",
       "  0.8500300843085387,\n",
       "  0.8612104279171591,\n",
       "  0.9056025245934073,\n",
       "  0.9075345678822588]]"
      ]
     },
     "execution_count": 68,
     "metadata": {},
     "output_type": "execute_result"
    }
   ],
   "source": [
    "results['distances']"
   ]
  },
  {
   "cell_type": "code",
   "execution_count": 21,
   "id": "0c89003c",
   "metadata": {},
   "outputs": [
    {
     "name": "stdout",
     "output_type": "stream",
     "text": [
      "bangladesh \n",
      "india \n",
      "pakistan\n"
     ]
    }
   ],
   "source": [
    "print('bangladesh \\nindia \\npakistan')"
   ]
  },
  {
   "cell_type": "code",
   "execution_count": 24,
   "id": "c660a812",
   "metadata": {},
   "outputs": [
    {
     "name": "stdout",
     "output_type": "stream",
     "text": [
      "Ore dhon\n",
      "tui ki amar hobi?\n",
      "amar na hoile kar hobi taile?\n"
     ]
    }
   ],
   "source": [
    "template = 'Ore dhon'\n",
    "template += '\\ntui ki amar hobi?'\n",
    "template += '\\namar na hoile kar hobi taile?'\n",
    "print(template)"
   ]
  },
  {
   "cell_type": "code",
   "execution_count": 81,
   "id": "dd6df40d",
   "metadata": {},
   "outputs": [
    {
     "ename": "TypeError",
     "evalue": "sequence item 0: expected str instance, int found",
     "output_type": "error",
     "traceback": [
      "\u001b[1;31m---------------------------------------------------------------------------\u001b[0m",
      "\u001b[1;31mTypeError\u001b[0m                                 Traceback (most recent call last)",
      "Cell \u001b[1;32mIn[81], line 2\u001b[0m\n\u001b[0;32m      1\u001b[0m numbers \u001b[38;5;241m=\u001b[39m [i \u001b[38;5;28;01mfor\u001b[39;00m i \u001b[38;5;129;01min\u001b[39;00m \u001b[38;5;28mrange\u001b[39m(\u001b[38;5;241m10\u001b[39m) \u001b[38;5;28;01mif\u001b[39;00m i\u001b[38;5;241m%\u001b[39m\u001b[38;5;241m2\u001b[39m \u001b[38;5;241m==\u001b[39m \u001b[38;5;241m0\u001b[39m]\n\u001b[1;32m----> 2\u001b[0m dhon  \u001b[38;5;241m=\u001b[39m \u001b[38;5;124;43m'\u001b[39;49m\u001b[38;5;124;43m'\u001b[39;49m\u001b[38;5;241;43m.\u001b[39;49m\u001b[43mjoin\u001b[49m\u001b[43m(\u001b[49m\u001b[43m[\u001b[49m\u001b[43mi\u001b[49m\u001b[43m \u001b[49m\u001b[38;5;28;43;01mfor\u001b[39;49;00m\u001b[43m \u001b[49m\u001b[43mi\u001b[49m\u001b[43m \u001b[49m\u001b[38;5;129;43;01min\u001b[39;49;00m\u001b[43m \u001b[49m\u001b[43mnumbers\u001b[49m\u001b[43m]\u001b[49m\u001b[43m)\u001b[49m\n\u001b[0;32m      3\u001b[0m dhon\n",
      "\u001b[1;31mTypeError\u001b[0m: sequence item 0: expected str instance, int found"
     ]
    }
   ],
   "source": [
    "numbers = [i for i in range(10) if i%2 == 0]\n",
    "dhon  = ''.join([i for i in numbers])\n",
    "dhon"
   ]
  },
  {
   "cell_type": "code",
   "execution_count": null,
   "id": "ffc3f05b",
   "metadata": {},
   "outputs": [],
   "source": []
  }
 ],
 "metadata": {
  "kernelspec": {
   "display_name": "lparser",
   "language": "python",
   "name": "lparser"
  },
  "language_info": {
   "codemirror_mode": {
    "name": "ipython",
    "version": 3
   },
   "file_extension": ".py",
   "mimetype": "text/x-python",
   "name": "python",
   "nbconvert_exporter": "python",
   "pygments_lexer": "ipython3",
   "version": "3.9.13"
  }
 },
 "nbformat": 4,
 "nbformat_minor": 5
}
