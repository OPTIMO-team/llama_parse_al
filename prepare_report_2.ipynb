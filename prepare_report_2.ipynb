{
 "cells": [
  {
   "cell_type": "code",
   "execution_count": 1,
   "metadata": {},
   "outputs": [
    {
     "data": {
      "text/plain": [
       "True"
      ]
     },
     "execution_count": 1,
     "metadata": {},
     "output_type": "execute_result"
    }
   ],
   "source": [
    "from dotenv import load_dotenv\n",
    "load_dotenv()"
   ]
  },
  {
   "cell_type": "code",
   "execution_count": 2,
   "metadata": {},
   "outputs": [],
   "source": [
    "import nest_asyncio\n",
    "nest_asyncio.apply()"
   ]
  },
  {
   "cell_type": "code",
   "execution_count": 3,
   "metadata": {},
   "outputs": [],
   "source": [
    "from typing import List\n",
    "from pydantic import BaseModel\n",
    "import os\n",
    "import json\n",
    "import csv\n",
    "\n",
    "from llama_parse import LlamaParse\n",
    "from llama_index.core.schema import Document\n",
    "from llama_index.llms.openai import OpenAI\n",
    "import nest_asyncio\n",
    "\n",
    "nest_asyncio.apply()"
   ]
  },
  {
   "cell_type": "code",
   "execution_count": 4,
   "metadata": {},
   "outputs": [],
   "source": [
    "## Parse the Form Filing File\n",
    "def parse_file(file_path: str) -> List[Document]:\n",
    "    llama_parse = LlamaParse(\n",
    "        api_key=os.environ['LLAMA_CLOUD_API_KEY'],\n",
    "        result_type='markdown',\n",
    "        target_pages=\"0\"\n",
    "    )\n",
    "    result = llama_parse.load_data(\n",
    "        file_path,\n",
    "    )\n",
    "    return result"
   ]
  },
  {
   "cell_type": "code",
   "execution_count": 5,
   "metadata": {},
   "outputs": [
    {
     "name": "stdout",
     "output_type": "stream",
     "text": [
      "Started parsing the file under job_id 79c04060-47e8-44f8-9c6e-bd414c4be17d\n"
     ]
    }
   ],
   "source": [
    "documents = parse_file('data/Report_format_2.xlsx')"
   ]
  },
  {
   "cell_type": "code",
   "execution_count": 6,
   "metadata": {},
   "outputs": [
    {
     "name": "stdout",
     "output_type": "stream",
     "text": [
      "Doc length: <class 'list'>\n",
      "1\n"
     ]
    }
   ],
   "source": [
    "print(f'Doc length: {type(documents)}')\n",
    "print(len(documents))"
   ]
  },
  {
   "cell_type": "code",
   "execution_count": 7,
   "metadata": {},
   "outputs": [
    {
     "name": "stdout",
     "output_type": "stream",
     "text": [
      "Doc length: 1\n",
      "|Items to be improved                                                                         |Description|Improvement Parameters|                  |                   |                 |                        |                      |                   |            |        |\n",
      "|---------------------------------------------------------------------------------------------|---------------------------------------------------------------------------------------------------------------------------------------------------------------------------------------------------------------------------------------|----------------------|------------------|-------------------|-----------------|------------------------|----------------------|-------------------|------------|--------|\n",
      "|                                                                                             | |Improvement direction |Person responsible|Expected start date|Actual start date|Expected completion date|Actual completion date|Improve immediately|Confirmation|appendix|\n",
      "|The saturation of the lower glass point Xiaoli Pill is 65%                                   |Low job saturation(lower than95%)|                      |                  |                   |                 |                        |                      |                   |            |        |\n",
      "|Bottom glass electrophoresis tank+UVFixed baking operation saturation79.2%                   |Low job saturation(lower than95%)|                      |                  |                   |                 |                        |                      |                   |            |        |\n",
      "|Xiaoliwan wax+Paste conductive foam+Lower glass glue frame dispensing operation saturation75%|Low job saturation(lower than95%)|                      |                  |                   |                 |                        |                      |                   |            |        |\n",
      "|The upper and lower glass bonding saturation is 67.5%                                        |Low job saturation(lower than95%)|                      |                  |                   |                 |                        |                      |                   |            |        |\n",
      "|Five-in-one front&back saturation53.2%                                                       |Low job saturation(lower than95%)|                      |                  |                   |                 |                        |                      |                   |            |        |\n",
      "|CellstickFPCsaturation61.9%                                                                  |Low job saturation(lower than95%)|                      |                  |                   |                 |                        |                      |                   |            |        |\n",
      "|FPCFoam resistance test saturation40.8%                                                      |Low job saturation(lower than95%)|                      |                  |                   |                 |                        |                      |                   |            |        |\n",
      "|The saturation of amplified pills and sports cars is 73.3%                                   |Low job saturation(lower than95%)|                      |                  |                   |                 |                        |                      |                   |            |        |\n",
      "|pointUVglue,UVsolidify&Check saturation33.3%                                                 |Low job saturation(lower than95%)|                      |                  |                   |                 |                        |                      |                   |            |        |\n",
      "|Electrophoresis tank noteBufferliquid saturation79.2%                                        |Low job saturation(lower than95%)|                      |                  |                   |                 |                        |                      |                   |            |        |\n",
      "|BufferLiquid injection port sealing and solidification+Water leakage test saturation60.3%    |Low job saturation(lower than95%)|                      |                  |                   |                 |                        |                      |                   |            |        |\n",
      "|Silicone oil saturation 50.7%                                                                |Low job saturation(lower than95%)|                      |                  |                   |                 |                        |                      |                   |            |        |\n",
      "|Silicone oil port sealing + dispensing + curing saturation 58%                               |Low job saturation(lower than95%)|                      |                  |                   |                 |                        |                      |                   |            |        |\n",
      "|Set Conn & lower cover + paste QR CODE saturation 41%                                        |Low job saturation(lower than95%)|                      |                  |                   |                 |                        |                      |                   |            |        |\n",
      "|Lock the lid + label the saturation 81.7%                                                    |Low job saturation(lower than95%)|                      |                  |                   |                 |                        |                      |                   |            |        |\n",
      "|Glass module test saturation 100%                                                            |Job saturation 100%|                      |                  |                   |                 |                        |                      |                   |            |        |\n",
      "|Visual inspection of UV glue + pull tape is the bottleneck station                           |Bottleneck station (the average C/T of the station is the largest)|                      |                  |                   |                 |                        |                      |                   |            |        |\n",
      "|Measuring oil leakage is the bottleneck station                                              |Bottleneck station (the average C/T of the station is the largest)|                      |                  |                   |                 |                        |                      |                   |            |        |\n",
      "|The next glass point Xiaoli Pill exists in Renwai Machine 2S                                 |Simultaneous working time of man and machine = manual time (39S) + automatic time (2S) - process standard C/T (41S) = 0S Time of man waiting for machine = automatic time (2S) - simultaneous working time of man and machine (0S) = 2S|                      |                  |                   |                 |                        |                      |                   |            |        |\n",
      "|Dispensing UV glue, UV curing & checking the existence of human machine 22S                  |Simultaneous working time of man and machine = manual time (39S) + automatic time (2S) - process standard C/T (41S) = 0S Time of man waiting for machine = automatic time (2S) - simultaneous working time of man and machine (0S) = 2S|                      |                  |                   |                 |                        |                      |                   |            |        |\n",
      "|The sum of the saturations of two adjacent processes is less than or equal to 95%            |The sum of Sn process saturation and S(n+1) process saturation is less than or equal to 95%|                      |                  |                   |                 |                        |                      |                   |            |        |\n",
      "|Production line balance rate 75.2%                                                           |Balance rate is less than 90%|                      |                  |                   |                 |                        |                      |                   |            |        |\n",
      "\n"
     ]
    }
   ],
   "source": [
    "print(f'Doc length: {len(documents)}')\n",
    "print(documents[0].text)"
   ]
  },
  {
   "cell_type": "code",
   "execution_count": 8,
   "metadata": {},
   "outputs": [],
   "source": [
    "text = documents[0].text"
   ]
  },
  {
   "cell_type": "code",
   "execution_count": 9,
   "metadata": {},
   "outputs": [],
   "source": [
    "## Structured Extraction\n",
    "prompt = f\"\"\"\n",
    "You are an AI assistant specializing in Industrial Engineering problem solving. You've been given an Excel spreadsheet containing items to be improved. \\ \n",
    "and improvement parameters. Your task is to extract and structure this information in a clear, organized format.\n",
    "\n",
    "The Excel sheet contains the following:\n",
    "1. Items to be improved (rows)\n",
    "2. Description (columns)\n",
    "3. Improvement parameters and dates (columns)\n",
    "\n",
    "Input Excel data:\n",
    "{text}\n",
    "\n",
    "Please present the extracted and structured information in a clear, easy-to-read format.\n",
    "\"\"\"\n"
   ]
  },
  {
   "cell_type": "code",
   "execution_count": 10,
   "metadata": {},
   "outputs": [],
   "source": [
    "class ReportParameters(BaseModel):\n",
    "    \"\"\"Data model for IE problem solving analysis.\"\"\"\n",
    "    ItemsToBeImproved: List[str]\n",
    "    Description: List[str]\n",
    "    ImprovementParameters: List[str]"
   ]
  },
  {
   "cell_type": "code",
   "execution_count": 11,
   "metadata": {},
   "outputs": [],
   "source": [
    "llm = OpenAI(model='gpt-4o-mini')"
   ]
  },
  {
   "cell_type": "code",
   "execution_count": 12,
   "metadata": {},
   "outputs": [
    {
     "data": {
      "text/plain": [
       "'I’m called ChatGPT. How can I assist you today?'"
      ]
     },
     "execution_count": 12,
     "metadata": {},
     "output_type": "execute_result"
    }
   ],
   "source": [
    "from llama_index.core.llms import ChatMessage\n",
    "input_msg = ChatMessage.from_str('What is your name?')\n",
    "output = llm.chat([input_msg])\n",
    "output.message.content"
   ]
  },
  {
   "cell_type": "code",
   "execution_count": 14,
   "metadata": {},
   "outputs": [],
   "source": [
    "from llama_index.core.llms import ChatMessage\n",
    "sllm = llm.as_structured_llm(output_cls=ReportParameters)\n",
    "input_msg = ChatMessage.from_str(prompt)"
   ]
  },
  {
   "cell_type": "code",
   "execution_count": 15,
   "metadata": {},
   "outputs": [
    {
     "data": {
      "text/plain": [
       "ReportParameters(ItemsToBeImproved=['The saturation of the lower glass point Xiaoli Pill is 65%', 'Bottom glass electrophoresis tank+UVFixed baking operation saturation79.2%', 'Xiaoliwan wax+Paste conductive foam+Lower glass glue frame dispensing operation saturation75%', 'The upper and lower glass bonding saturation is 67.5%', 'Five-in-one front&back saturation53.2%', 'CellstickFPCsaturation61.9%', 'FPCFoam resistance test saturation40.8%', 'The saturation of amplified pills and sports cars is 73.3%', 'pointUVglue,UVsolidify&Check saturation33.3%', 'Electrophoresis tank noteBufferliquid saturation79.2%', 'BufferLiquid injection port sealing and solidification+Water leakage test saturation60.3%', 'Silicone oil saturation 50.7%', 'Silicone oil port sealing + dispensing + curing saturation 58%', 'Set Conn & lower cover + paste QR CODE saturation 41%', 'Lock the lid + label the saturation 81.7%', 'Glass module test saturation 100%', 'Visual inspection of UV glue + pull tape is the bottleneck station', 'Measuring oil leakage is the bottleneck station', 'The next glass point Xiaoli Pill exists in Renwai Machine 2S', 'Dispensing UV glue, UV curing & checking the existence of human machine 22S', 'The sum of the saturations of two adjacent processes is less than or equal to 95%', 'Production line balance rate 75.2%'], Description=['Low job saturation(lower than95%)', 'Low job saturation(lower than95%)', 'Low job saturation(lower than95%)', 'Low job saturation(lower than95%)', 'Low job saturation(lower than95%)', 'Low job saturation(lower than95%)', 'Low job saturation(lower than95%)', 'Low job saturation(lower than95%)', 'Low job saturation(lower than95%)', 'Low job saturation(lower than95%)', 'Low job saturation(lower than95%)', 'Low job saturation(lower than95%)', 'Low job saturation(lower than95%)', 'Low job saturation(lower than95%)', 'Low job saturation(lower than95%)', 'Job saturation 100%', 'Bottleneck station (the average C/T of the station is the largest)', 'Bottleneck station (the average C/T of the station is the largest)', 'Simultaneous working time of man and machine = manual time (39S) + automatic time (2S) - process standard C/T (41S) = 0S Time of man waiting for machine = automatic time (2S) - simultaneous working time of man and machine (0S) = 2S', 'Simultaneous working time of man and machine = manual time (39S) + automatic time (2S) - process standard C/T (41S) = 0S Time of man waiting for machine = automatic time (2S) - simultaneous working time of man and machine (0S) = 2S', 'The sum of Sn process saturation and S(n+1) process saturation is less than or equal to 95%', 'Balance rate is less than 90%'], ImprovementParameters=['', 'Improvement direction', 'Person responsible', 'Expected start date', 'Actual start date', 'Expected completion date', 'Actual completion date', 'Improve immediately', 'Confirmation', 'appendix'])"
      ]
     },
     "execution_count": 15,
     "metadata": {},
     "output_type": "execute_result"
    }
   ],
   "source": [
    "output = sllm.chat([input_msg])\n",
    "output_obj = output.raw\n",
    "output_obj"
   ]
  },
  {
   "cell_type": "code",
   "execution_count": 16,
   "metadata": {},
   "outputs": [
    {
     "name": "stdout",
     "output_type": "stream",
     "text": [
      "22\n",
      "22\n",
      "10\n"
     ]
    },
    {
     "data": {
      "text/plain": [
       "['',\n",
       " 'Improvement direction',\n",
       " 'Person responsible',\n",
       " 'Expected start date',\n",
       " 'Actual start date',\n",
       " 'Expected completion date',\n",
       " 'Actual completion date',\n",
       " 'Improve immediately',\n",
       " 'Confirmation',\n",
       " 'appendix']"
      ]
     },
     "execution_count": 16,
     "metadata": {},
     "output_type": "execute_result"
    }
   ],
   "source": [
    "#print out the items based on the data model\n",
    "print(len(output_obj.ItemsToBeImproved))\n",
    "print(len(output_obj.Description))\n",
    "print(len(output_obj.ImprovementParameters))\n",
    "output_obj.ImprovementParameters"
   ]
  },
  {
   "cell_type": "code",
   "execution_count": 17,
   "metadata": {},
   "outputs": [],
   "source": [
    "ItemsToBeImproved = output_obj.ItemsToBeImproved\n",
    "Description = output_obj.Description\n",
    "ImprovementParameters = output_obj.ImprovementParameters[1:]"
   ]
  },
  {
   "cell_type": "code",
   "execution_count": 18,
   "metadata": {},
   "outputs": [
    {
     "data": {
      "text/plain": [
       "['Improvement direction',\n",
       " 'Person responsible',\n",
       " 'Expected start date',\n",
       " 'Actual start date',\n",
       " 'Expected completion date',\n",
       " 'Actual completion date',\n",
       " 'Improve immediately',\n",
       " 'Confirmation',\n",
       " 'appendix']"
      ]
     },
     "execution_count": 18,
     "metadata": {},
     "output_type": "execute_result"
    }
   ],
   "source": [
    "ImprovementParameters"
   ]
  },
  {
   "cell_type": "code",
   "execution_count": 19,
   "metadata": {},
   "outputs": [],
   "source": [
    "from llama_index.indices.managed.llama_cloud import LlamaCloudIndex\n",
    "# pip install llama-index-indices-managed-llama-cloud\n",
    "index = LlamaCloudIndex(\n",
    "  name=\"objective-wildfowl-2024-11-24\", \n",
    "  project_name=\"Default\",\n",
    "  organization_id=\"2033a7fc-187e-48e4-a172-5079c4ee2bbf\",\n",
    "  api_key=os.environ['LLAMA_CLOUD_API_KEY']\n",
    ")"
   ]
  },
  {
   "cell_type": "code",
   "execution_count": 20,
   "metadata": {},
   "outputs": [],
   "source": [
    "query_engine = index.as_query_engine(\n",
    "    dense_similarity_top_k=10,\n",
    "    sparse_similarity_top_k=10,\n",
    "    alpha=0.5,\n",
    "    enable_reranking=True,\n",
    "    rerank_top_n=5,\n",
    ")"
   ]
  },
  {
   "cell_type": "code",
   "execution_count": 22,
   "metadata": {},
   "outputs": [
    {
     "data": {
      "text/plain": [
       "['Low job saturation(higher than95%)',\n",
       " 'Low job saturation(higher than99%)',\n",
       " 'Low job saturation(lower than90%)']"
      ]
     },
     "execution_count": 22,
     "metadata": {},
     "output_type": "execute_result"
    }
   ],
   "source": [
    "# sllm.chat(['What is your name?'])\n",
    "Description = ['Low job saturation(higher than95%)',\n",
    " 'Low job saturation(higher than99%)',\n",
    " 'Low job saturation(lower than90%)']\n",
    "Description"
   ]
  },
  {
   "cell_type": "code",
   "execution_count": 23,
   "metadata": {},
   "outputs": [
    {
     "name": "stdout",
     "output_type": "stream",
     "text": [
      "0 , Low job saturation(higher than95%) , NO\n",
      "1 , Low job saturation(higher than99%) , NO\n",
      "2 , Low job saturation(lower than90%) , YES\n"
     ]
    }
   ],
   "source": [
    "#Generate query and test if it generating them correctly\n",
    "from tqdm import tqdm\n",
    "items_to_be_improved = {}\n",
    "\n",
    "for index, item in enumerate(ItemsToBeImproved[:3]):\n",
    "    text_info = Description[index]\n",
    "    job_saturation = (\n",
    "    f\"Analyze the following text and determine whether the job saturation value mentioned is lower than 95%.\\n\\n\"\n",
    "    f\"Text: \\\"{text_info}\\\"\\n\\n\"\n",
    "    f\"If a job saturation value is explicitly mentioned, check if it is lower than 95%. If so, respond with 'YES'. \"\n",
    "    f\"If it is 95% or higher, respond with 'NO'. If no job saturation value is mentioned, respond with 'NO INFORMATION'.\"\n",
    ")\n",
    "    input_msg = ChatMessage.from_str(job_saturation)\n",
    "    output = llm.chat([input_msg])\n",
    "    answer = output.message.content\n",
    "    \n",
    "    print(index,',',text_info,',',answer)\n",
    "    \n",
    "    # for (index, parameter) in enumerate(ImprovementParameters):\n",
    "    #     des = Description[index]\n",
    "    #     job_saturation = f\"Is the job saturation value lower than 95% for:'{des}'? Your response should be boolean. Either YES or NO?\"\n",
    "    #     # query = f\"What is the '{parameter}' for '{item}'? If you don't know the answer then say 'NA'\"\n",
    "    #     answer = str(query_engine.query(job_saturation))\n",
    "    #     # items_to_be_improved[item][parameter] = answer\n",
    "    #     print(des,',',answer)\n",
    "    #     index +=1"
   ]
  },
  {
   "cell_type": "code",
   "execution_count": 24,
   "metadata": {},
   "outputs": [
    {
     "name": "stdout",
     "output_type": "stream",
     "text": [
      "NO INFORMATION\n"
     ]
    }
   ],
   "source": [
    "text_info = 'My country name is Bangladsh. I do not know the value of job saturation at this point of time!'\n",
    "# text_info = 'low job saturation (lower than 99%)'\n",
    "# text_info = 'Simultaneous working time of man and machine = manual time (39S) + automatic time (2S) - process standard C/T (41S) = 0S Time of man waiting for machine = automatic time (2S) - simultaneous working time of man and machine (0S)'\n",
    "job_saturation = (\n",
    "    f\"Analyze the following text and determine whether the job saturation value mentioned is lower than 95%.\\n\\n\"\n",
    "    f\"Text: \\\"{text_info}\\\"\\n\\n\"\n",
    "    f\"If a job saturation value is explicitly mentioned, check if it is lower than 95%. If so, respond with 'YES'. \"\n",
    "    f\"If it is 95% or higher, respond with 'NO'. If no job saturation value is mentioned, respond with 'NO INFORMATION'.\"\n",
    ")\n",
    "input_msg = ChatMessage.from_str(job_saturation)\n",
    "output = llm.chat([input_msg])\n",
    "answer = output.message.content\n",
    "\n",
    "print(answer)"
   ]
  },
  {
   "cell_type": "code",
   "execution_count": 25,
   "metadata": {},
   "outputs": [
    {
     "name": "stderr",
     "output_type": "stream",
     "text": [
      "100%|████████████████████████████████████████████████████████████████████████████████████████████████████████████████████████████████████████████████████████████████████████████████████████████████| 9/9 [00:00<?, ?it/s]\n",
      "100%|████████████████████████████████████████████████████████████████████████████████████████████████████████████████████████████████████████████████████████████████████████████████████████████████| 9/9 [00:00<?, ?it/s]\n"
     ]
    },
    {
     "data": {
      "text/plain": [
       "{'The saturation of the lower glass point Xiaoli Pill is 65%': {'Description': 'Low job saturation(higher than95%)',\n",
       "  'Improvement direction': '1',\n",
       "  'Person responsible': '1',\n",
       "  'Expected start date': '1',\n",
       "  'Actual start date': '1',\n",
       "  'Expected completion date': '1',\n",
       "  'Actual completion date': '1',\n",
       "  'Improve immediately': '1',\n",
       "  'Confirmation': '1',\n",
       "  'appendix': '1'},\n",
       " 'Bottom glass electrophoresis tank+UVFixed baking operation saturation79.2%': {'Description': 'Low job saturation(higher than99%)',\n",
       "  'Improvement direction': '1',\n",
       "  'Person responsible': '1',\n",
       "  'Expected start date': '1',\n",
       "  'Actual start date': '1',\n",
       "  'Expected completion date': '1',\n",
       "  'Actual completion date': '1',\n",
       "  'Improve immediately': '1',\n",
       "  'Confirmation': '1',\n",
       "  'appendix': '1'}}"
      ]
     },
     "execution_count": 25,
     "metadata": {},
     "output_type": "execute_result"
    }
   ],
   "source": [
    "# ItemsToBeImproved: List[str], Description,ImprovementParameters: List[str]) -> List[str]:\n",
    "items_to_be_improved = {}\n",
    "for index, item in enumerate(ItemsToBeImproved[:2]):\n",
    "    items_to_be_improved[item] = {}\n",
    "    for parameter in tqdm(ImprovementParameters):\n",
    "        query = (\n",
    "            f\"For the problem '{item}', provide a detailed and concise value or description for the improvement parameter '{parameter}'.\\n\"\n",
    "            f\"If the parameter is not applicable or no information is available, respond explicitly with 'NA'.\\n\\n\"\n",
    "            f\"Ensure your response is clear, contextually relevant, and avoids ambiguity.\"\n",
    "            )\n",
    "        # answer = str(query_engine.query(query))\n",
    "        # answer = str(query_engine.query(query))\n",
    "        items_to_be_improved[item]['Description'] = Description[index]\n",
    "        items_to_be_improved[item][parameter] = '1'\n",
    "items_to_be_improved        "
   ]
  },
  {
   "cell_type": "code",
   "execution_count": 26,
   "metadata": {},
   "outputs": [],
   "source": [
    "job_saturation = (\n",
    "    f\"Analyze the following text and determine whether the job saturation value mentioned is lower than 95%.\\n\\n\"\n",
    "    f\"Text: \\\"{text_info}\\\"\\n\\n\"\n",
    "    f\"If a job saturation value is explicitly mentioned, check if it is lower than 95%. If so, respond with 'YES'. \"\n",
    "    f\"If it is 95% or higher, respond with 'NO'. If no job saturation value is mentioned, respond with 'NO INFORMATION'.\"\n",
    ")\n",
    "input_msg = ChatMessage.from_str(job_saturation)\n",
    "output = llm.chat([input_msg])\n",
    "answer = output.message.content"
   ]
  },
  {
   "cell_type": "code",
   "execution_count": 27,
   "metadata": {},
   "outputs": [],
   "source": [
    "Description = ['Low job saturation(higher than95%)',\n",
    " 'Low job saturation(lower than95%)',\n",
    " 'Low job saturation(lower than95%)']"
   ]
  },
  {
   "cell_type": "code",
   "execution_count": 28,
   "metadata": {},
   "outputs": [],
   "source": [
    "from tqdm import tqdm\n",
    "def generate_answers(ItemsToBeImproved: List[str],Description: List[str], ImprovementParameters: List[str]) -> List[str]:\n",
    "    items_to_be_improved = {}\n",
    "    for index, item in enumerate(ItemsToBeImproved[:3]):\n",
    "        items_to_be_improved[item] = {}\n",
    "        for parameter in tqdm(ImprovementParameters):\n",
    "            job_saturation = (\n",
    "                f\"Analyze the following text and determine whether the job saturation value mentioned is lower than 95%.\\n\\n\"\n",
    "                f\"Text: \\\"{Description[index]}\\\"\\n\\n\"\n",
    "                f\"If a job saturation value is explicitly mentioned, check if it is lower than 95%. If so, respond with 'YES'. \"\n",
    "                f\"If it is 95% or higher, respond with 'NO'. If no job saturation value is mentioned, respond with 'NO INFORMATION'.\"\n",
    "            )\n",
    "            input_msg = ChatMessage.from_str(job_saturation)\n",
    "            output = llm.chat([input_msg])\n",
    "            answer = output.message.content\n",
    "            print(Description[index], answer)\n",
    "            if answer == 'YES':\n",
    "                query = (\n",
    "                    f\"For the problem '{item}', provide a detailed and concise value or description for the improvement parameter '{parameter}'.\\n\"\n",
    "                    f\"If the parameter is not applicable or no information is available, respond explicitly with 'NA'.\\n\\n\"\n",
    "                    f\"Ensure your response is clear, contextually relevant, and avoids ambiguity.\"\n",
    "                    )\n",
    "                answer = str(query_engine.query(query))\n",
    "                items_to_be_improved[item]['Description'] = Description[index]\n",
    "                items_to_be_improved[item][parameter] = answer\n",
    "    return items_to_be_improved"
   ]
  },
  {
   "cell_type": "code",
   "execution_count": null,
   "metadata": {},
   "outputs": [],
   "source": [
    "# ItemsToBeImproved = output_obj.ItemsToBeImproved\n",
    "# ImprovementParameters = output_obj.TrueCause"
   ]
  },
  {
   "cell_type": "code",
   "execution_count": 29,
   "metadata": {},
   "outputs": [
    {
     "name": "stderr",
     "output_type": "stream",
     "text": [
      " 11%|████████████████████▍                                                                                                                                                                   | 1/9 [00:01<00:11,  1.41s/it]"
     ]
    },
    {
     "name": "stdout",
     "output_type": "stream",
     "text": [
      "Low job saturation(higher than95%) NO\n"
     ]
    },
    {
     "name": "stderr",
     "output_type": "stream",
     "text": [
      " 22%|████████████████████████████████████████▉                                                                                                                                               | 2/9 [00:02<00:08,  1.24s/it]"
     ]
    },
    {
     "name": "stdout",
     "output_type": "stream",
     "text": [
      "Low job saturation(higher than95%) NO\n"
     ]
    },
    {
     "name": "stderr",
     "output_type": "stream",
     "text": [
      " 33%|█████████████████████████████████████████████████████████████▎                                                                                                                          | 3/9 [00:03<00:07,  1.29s/it]"
     ]
    },
    {
     "name": "stdout",
     "output_type": "stream",
     "text": [
      "Low job saturation(higher than95%) NO\n"
     ]
    },
    {
     "name": "stderr",
     "output_type": "stream",
     "text": [
      " 44%|█████████████████████████████████████████████████████████████████████████████████▊                                                                                                      | 4/9 [00:05<00:07,  1.43s/it]"
     ]
    },
    {
     "name": "stdout",
     "output_type": "stream",
     "text": [
      "Low job saturation(higher than95%) NO\n"
     ]
    },
    {
     "name": "stderr",
     "output_type": "stream",
     "text": [
      " 56%|██████████████████████████████████████████████████████████████████████████████████████████████████████▏                                                                                 | 5/9 [00:06<00:05,  1.27s/it]"
     ]
    },
    {
     "name": "stdout",
     "output_type": "stream",
     "text": [
      "Low job saturation(higher than95%) NO\n"
     ]
    },
    {
     "name": "stderr",
     "output_type": "stream",
     "text": [
      " 67%|██████████████████████████████████████████████████████████████████████████████████████████████████████████████████████████▋                                                             | 6/9 [00:07<00:03,  1.31s/it]"
     ]
    },
    {
     "name": "stdout",
     "output_type": "stream",
     "text": [
      "Low job saturation(higher than95%) NO\n"
     ]
    },
    {
     "name": "stderr",
     "output_type": "stream",
     "text": [
      " 78%|███████████████████████████████████████████████████████████████████████████████████████████████████████████████████████████████████████████████                                         | 7/9 [00:09<00:02,  1.28s/it]"
     ]
    },
    {
     "name": "stdout",
     "output_type": "stream",
     "text": [
      "Low job saturation(higher than95%) NO\n"
     ]
    },
    {
     "name": "stderr",
     "output_type": "stream",
     "text": [
      " 89%|███████████████████████████████████████████████████████████████████████████████████████████████████████████████████████████████████████████████████████████████████▌                    | 8/9 [00:09<00:01,  1.11s/it]"
     ]
    },
    {
     "name": "stdout",
     "output_type": "stream",
     "text": [
      "Low job saturation(higher than95%) NO\n"
     ]
    },
    {
     "name": "stderr",
     "output_type": "stream",
     "text": [
      "100%|████████████████████████████████████████████████████████████████████████████████████████████████████████████████████████████████████████████████████████████████████████████████████████| 9/9 [00:10<00:00,  1.18s/it]\n"
     ]
    },
    {
     "name": "stdout",
     "output_type": "stream",
     "text": [
      "Low job saturation(higher than95%) NO\n"
     ]
    },
    {
     "name": "stderr",
     "output_type": "stream",
     "text": [
      "  0%|                                                                                                                                                                                                | 0/9 [00:00<?, ?it/s]"
     ]
    },
    {
     "name": "stdout",
     "output_type": "stream",
     "text": [
      "Low job saturation(lower than95%) YES\n"
     ]
    },
    {
     "name": "stderr",
     "output_type": "stream",
     "text": [
      " 11%|████████████████████▍                                                                                                                                                                   | 1/9 [00:04<00:33,  4.21s/it]"
     ]
    },
    {
     "name": "stdout",
     "output_type": "stream",
     "text": [
      "Low job saturation(lower than95%) YES\n"
     ]
    },
    {
     "name": "stderr",
     "output_type": "stream",
     "text": [
      " 22%|████████████████████████████████████████▉                                                                                                                                               | 2/9 [00:07<00:26,  3.83s/it]"
     ]
    },
    {
     "name": "stdout",
     "output_type": "stream",
     "text": [
      "Low job saturation(lower than95%) YES\n"
     ]
    },
    {
     "name": "stderr",
     "output_type": "stream",
     "text": [
      " 33%|█████████████████████████████████████████████████████████████▎                                                                                                                          | 3/9 [00:10<00:20,  3.47s/it]"
     ]
    },
    {
     "name": "stdout",
     "output_type": "stream",
     "text": [
      "Low job saturation(lower than95%) YES\n"
     ]
    },
    {
     "name": "stderr",
     "output_type": "stream",
     "text": [
      " 44%|█████████████████████████████████████████████████████████████████████████████████▊                                                                                                      | 4/9 [00:14<00:18,  3.62s/it]"
     ]
    },
    {
     "name": "stdout",
     "output_type": "stream",
     "text": [
      "Low job saturation(lower than95%) YES\n"
     ]
    },
    {
     "name": "stderr",
     "output_type": "stream",
     "text": [
      " 56%|██████████████████████████████████████████████████████████████████████████████████████████████████████▏                                                                                 | 5/9 [00:18<00:15,  3.81s/it]"
     ]
    },
    {
     "name": "stdout",
     "output_type": "stream",
     "text": [
      "Low job saturation(lower than95%) YES\n"
     ]
    },
    {
     "name": "stderr",
     "output_type": "stream",
     "text": [
      " 67%|██████████████████████████████████████████████████████████████████████████████████████████████████████████████████████████▋                                                             | 6/9 [00:22<00:11,  3.80s/it]"
     ]
    },
    {
     "name": "stdout",
     "output_type": "stream",
     "text": [
      "Low job saturation(lower than95%) YES\n"
     ]
    },
    {
     "name": "stderr",
     "output_type": "stream",
     "text": [
      " 78%|███████████████████████████████████████████████████████████████████████████████████████████████████████████████████████████████████████████████                                         | 7/9 [00:25<00:07,  3.56s/it]"
     ]
    },
    {
     "name": "stdout",
     "output_type": "stream",
     "text": [
      "Low job saturation(lower than95%) YES\n"
     ]
    },
    {
     "name": "stderr",
     "output_type": "stream",
     "text": [
      " 89%|███████████████████████████████████████████████████████████████████████████████████████████████████████████████████████████████████████████████████████████████████▌                    | 8/9 [00:28<00:03,  3.49s/it]"
     ]
    },
    {
     "name": "stdout",
     "output_type": "stream",
     "text": [
      "Low job saturation(lower than95%) YES\n"
     ]
    },
    {
     "name": "stderr",
     "output_type": "stream",
     "text": [
      "100%|████████████████████████████████████████████████████████████████████████████████████████████████████████████████████████████████████████████████████████████████████████████████████████| 9/9 [00:32<00:00,  3.58s/it]\n",
      "  0%|                                                                                                                                                                                                | 0/9 [00:00<?, ?it/s]"
     ]
    },
    {
     "name": "stdout",
     "output_type": "stream",
     "text": [
      "Low job saturation(lower than95%) YES\n"
     ]
    },
    {
     "name": "stderr",
     "output_type": "stream",
     "text": [
      " 11%|████████████████████▍                                                                                                                                                                   | 1/9 [00:05<00:40,  5.11s/it]"
     ]
    },
    {
     "name": "stdout",
     "output_type": "stream",
     "text": [
      "Low job saturation(lower than95%) YES\n"
     ]
    },
    {
     "name": "stderr",
     "output_type": "stream",
     "text": [
      " 22%|████████████████████████████████████████▉                                                                                                                                               | 2/9 [00:07<00:25,  3.66s/it]"
     ]
    },
    {
     "name": "stdout",
     "output_type": "stream",
     "text": [
      "Low job saturation(lower than95%) YES\n"
     ]
    },
    {
     "name": "stderr",
     "output_type": "stream",
     "text": [
      " 33%|█████████████████████████████████████████████████████████████▎                                                                                                                          | 3/9 [00:13<00:27,  4.57s/it]"
     ]
    },
    {
     "name": "stdout",
     "output_type": "stream",
     "text": [
      "Low job saturation(lower than95%) YES\n"
     ]
    },
    {
     "name": "stderr",
     "output_type": "stream",
     "text": [
      " 44%|█████████████████████████████████████████████████████████████████████████████████▊                                                                                                      | 4/9 [00:16<00:18,  3.80s/it]"
     ]
    },
    {
     "name": "stdout",
     "output_type": "stream",
     "text": [
      "Low job saturation(lower than95%) YES\n"
     ]
    },
    {
     "name": "stderr",
     "output_type": "stream",
     "text": [
      " 56%|██████████████████████████████████████████████████████████████████████████████████████████████████████▏                                                                                 | 5/9 [00:19<00:14,  3.74s/it]"
     ]
    },
    {
     "name": "stdout",
     "output_type": "stream",
     "text": [
      "Low job saturation(lower than95%) YES\n"
     ]
    },
    {
     "name": "stderr",
     "output_type": "stream",
     "text": [
      " 67%|██████████████████████████████████████████████████████████████████████████████████████████████████████████████████████████▋                                                             | 6/9 [00:23<00:11,  3.69s/it]"
     ]
    },
    {
     "name": "stdout",
     "output_type": "stream",
     "text": [
      "Low job saturation(lower than95%) YES\n"
     ]
    },
    {
     "name": "stderr",
     "output_type": "stream",
     "text": [
      " 78%|███████████████████████████████████████████████████████████████████████████████████████████████████████████████████████████████████████████████                                         | 7/9 [00:27<00:07,  3.81s/it]"
     ]
    },
    {
     "name": "stdout",
     "output_type": "stream",
     "text": [
      "Low job saturation(lower than95%) YES\n"
     ]
    },
    {
     "name": "stderr",
     "output_type": "stream",
     "text": [
      " 89%|███████████████████████████████████████████████████████████████████████████████████████████████████████████████████████████████████████████████████████████████████▌                    | 8/9 [00:31<00:03,  3.82s/it]"
     ]
    },
    {
     "name": "stdout",
     "output_type": "stream",
     "text": [
      "Low job saturation(lower than95%) YES\n"
     ]
    },
    {
     "name": "stderr",
     "output_type": "stream",
     "text": [
      "100%|████████████████████████████████████████████████████████████████████████████████████████████████████████████████████████████████████████████████████████████████████████████████████████| 9/9 [00:33<00:00,  3.70s/it]\n"
     ]
    }
   ],
   "source": [
    "answers = generate_answers(ItemsToBeImproved, Description, ImprovementParameters)"
   ]
  },
  {
   "cell_type": "code",
   "execution_count": 30,
   "metadata": {},
   "outputs": [
    {
     "data": {
      "text/plain": [
       "{'The saturation of the lower glass point Xiaoli Pill is 65%': {},\n",
       " 'Bottom glass electrophoresis tank+UVFixed baking operation saturation79.2%': {'Description': 'Low job saturation(lower than95%)',\n",
       "  'Improvement direction': 'Judgment of value and reduce tasks without added value, Inspection of movement quality and human engineering hazards, Automated level inspection, Merge and rearrange new job elements.',\n",
       "  'Person responsible': 'LiXX',\n",
       "  'Expected start date': '10/8/24',\n",
       "  'Actual start date': '10/8/24',\n",
       "  'Expected completion date': '10/15/24',\n",
       "  'Actual completion date': '10/15/24',\n",
       "  'Improve immediately': 'yes',\n",
       "  'Confirmation': 'LiXX',\n",
       "  'appendix': 'LiXX'},\n",
       " 'Xiaoliwan wax+Paste conductive foam+Lower glass glue frame dispensing operation saturation75%': {'Description': 'Low job saturation(lower than95%)',\n",
       "  'Improvement direction': \"The improvement direction for the problem 'Xiaoliwan wax+Paste conductive foam+Lower glass glue frame dispensing operation saturation75%' is as follows: 1. Judgment of value and reduce tasks without added value 2. Inspection of movement quality and human engineering hazards: Reduce the number of movements, work with both hands at the same time, shorten the distance of movements, and make movements easier; eliminate human engineering hazards 3. Automated level inspection: simple and automated import 4. Merge and rearrange new job elements.\",\n",
       "  'Person responsible': 'LiXX',\n",
       "  'Expected start date': '10/8/24',\n",
       "  'Actual start date': '10/8/24',\n",
       "  'Expected completion date': '10/15/24',\n",
       "  'Actual completion date': '10/15/24',\n",
       "  'Improve immediately': 'yes',\n",
       "  'Confirmation': \"The improvement parameter 'Confirmation' for the problem 'Xiaoliwan wax+Paste conductive foam+Lower glass glue frame dispensing operation saturation75%' is 'yes'.\",\n",
       "  'appendix': 'LiXX'}}"
      ]
     },
     "execution_count": 30,
     "metadata": {},
     "output_type": "execute_result"
    }
   ],
   "source": [
    "answers"
   ]
  },
  {
   "cell_type": "code",
   "execution_count": 31,
   "metadata": {},
   "outputs": [],
   "source": [
    "def flatten_dict(d, parent_key='', sep='_'):\n",
    "    items = []\n",
    "    for k, v in d.items():\n",
    "        new_key = f\"{parent_key}{sep}{k}\" if parent_key else k\n",
    "        if isinstance(v, dict):\n",
    "            items.extend(flatten_dict(v, new_key, sep=sep).items())\n",
    "        else:\n",
    "            items.append((new_key, v))\n",
    "    return dict(items)\n",
    "flat_data = []\n",
    "for parameter, metrics in answers.items():\n",
    "    flat_metrics = flatten_dict(metrics)\n",
    "    flat_data.append(flat_metrics)"
   ]
  },
  {
   "cell_type": "code",
   "execution_count": null,
   "metadata": {},
   "outputs": [],
   "source": [
    "# flat_metrics"
   ]
  },
  {
   "cell_type": "code",
   "execution_count": null,
   "metadata": {},
   "outputs": [],
   "source": [
    "# flat_data"
   ]
  },
  {
   "cell_type": "code",
   "execution_count": null,
   "metadata": {},
   "outputs": [],
   "source": [
    "# answers = json.loads(\"\"\"\n",
    "# {'The saturation of the lower glass point Xiaoli Pill is 65%': 'Judgment of value and reduce tasks without added value, Inspection of movement quality and human engineering hazards: Reduce the number of movements, work with both hands at the same time, shorten the distance of movements, and make movements easier; eliminate human engineering hazards, Automated level inspection: simple and automated import, Merge and rearrange new job elements.',\n",
    "#  'Bottom glass electrophoresis tank+UVFixed baking operation saturation 79.2%': 'The improvement direction for Bottom glass electrophoresis tank+UVFixed baking operation saturation 79.2% is to reduce tasks without added value, inspect movement quality and human engineering hazards, conduct automated level inspection, and merge and rearrange new job elements.',\n",
    "#  'Xiaoliwan wax+Paste conductive foam+Lower glass glue frame dispensing operation saturation75%': 'The improvement direction for Xiaoliwan wax+Paste conductive foam+Lower glass glue frame dispensing operation saturation75% is to reduce the number of movements, work with both hands at the same time, shorten the distance of movements, and make movements easier; eliminate human engineering hazards.'}\n",
    "# \"\"\")"
   ]
  },
  {
   "cell_type": "code",
   "execution_count": null,
   "metadata": {},
   "outputs": [],
   "source": [
    "flat_data"
   ]
  },
  {
   "cell_type": "code",
   "execution_count": 32,
   "metadata": {},
   "outputs": [],
   "source": [
    "def flatten_dict(d, parent_key='', sep='_'):\n",
    "    items = []\n",
    "    for k, v in d.items():\n",
    "        new_key = f\"{parent_key}{sep}{k}\" if parent_key else k\n",
    "        if isinstance(v, dict):\n",
    "            items.extend(flatten_dict(v, new_key, sep=sep).items())\n",
    "        else:\n",
    "            items.append((new_key, v))\n",
    "    return dict(items)\n",
    "\n",
    "# Flatten the nested dictionary\n",
    "flat_data = []\n",
    "for parameter, metrics in answers.items():\n",
    "    flat_metrics = flatten_dict(metrics)\n",
    "    flat_metrics['Items to be improved'] = parameter \n",
    "    flat_data.append(flat_metrics)\n",
    "\n",
    "# Get all unique keys to use as CSV headers\n",
    "headers = set()\n",
    "for item in flat_data:\n",
    "    headers.update(item.keys())\n",
    "\n",
    "# Sort headers to ensure 'Items to be improved' comes first\n",
    "headers = sorted(headers)\n",
    "headers.insert(0, headers.pop(headers.index('Items to be improved')))\n",
    "headers.insert(1, headers.pop(headers.index('Description')))\n",
    "headers.insert(2, headers.pop(headers.index('Improvement direction')))\n",
    "headers.insert(3, headers.pop(headers.index('Person responsible')))\n",
    "headers.insert(4, headers.pop(headers.index('Expected start date')))\n",
    "headers.insert(5, headers.pop(headers.index('Actual start date')))\n",
    "headers.insert(6, headers.pop(headers.index('Expected completion date')))\n",
    "headers.insert(7, headers.pop(headers.index('Actual completion date')))\n",
    "headers.insert(8, headers.pop(headers.index('Improve immediately')))\n",
    "headers.insert(9, headers.pop(headers.index('Confirmation')))\n",
    "headers.insert(10, headers.pop(headers.index('appendix')))\n",
    "\n",
    "# Write to CSV\n",
    "with open('Report_format_2_complete.csv', 'w', newline='', encoding='utf-8') as csvfile:\n",
    "    writer = csv.DictWriter(csvfile, fieldnames=headers)\n",
    "    writer.writeheader()\n",
    "    for row in flat_data:\n",
    "        writer.writerow(row)"
   ]
  },
  {
   "cell_type": "code",
   "execution_count": 33,
   "metadata": {},
   "outputs": [
    {
     "data": {
      "text/html": [
       "<table border=\"1\" class=\"dataframe\">\n",
       "  <thead>\n",
       "    <tr style=\"text-align: right;\">\n",
       "      <th></th>\n",
       "      <th>Items to be improved</th>\n",
       "      <th>Description</th>\n",
       "      <th>Improvement direction</th>\n",
       "      <th>Person responsible</th>\n",
       "      <th>Expected start date</th>\n",
       "      <th>Actual start date</th>\n",
       "      <th>Expected completion date</th>\n",
       "      <th>Actual completion date</th>\n",
       "      <th>Improve immediately</th>\n",
       "      <th>Confirmation</th>\n",
       "      <th>appendix</th>\n",
       "    </tr>\n",
       "  </thead>\n",
       "  <tbody>\n",
       "    <tr>\n",
       "      <th>0</th>\n",
       "      <td>The saturation of the lower glass point Xiaoli Pill is 65%</td>\n",
       "      <td>NaN</td>\n",
       "      <td>NaN</td>\n",
       "      <td>NaN</td>\n",
       "      <td>NaN</td>\n",
       "      <td>NaN</td>\n",
       "      <td>NaN</td>\n",
       "      <td>NaN</td>\n",
       "      <td>NaN</td>\n",
       "      <td>NaN</td>\n",
       "      <td>NaN</td>\n",
       "    </tr>\n",
       "    <tr>\n",
       "      <th>1</th>\n",
       "      <td>Bottom glass electrophoresis tank+UVFixed baking operation saturation79.2%</td>\n",
       "      <td>Low job saturation(lower than95%)</td>\n",
       "      <td>Judgment of value and reduce tasks without added value, Inspection of movement quality and human engineering hazards, Automated level inspection, Merge and rearrange new job elements.</td>\n",
       "      <td>LiXX</td>\n",
       "      <td>10/8/24</td>\n",
       "      <td>10/8/24</td>\n",
       "      <td>10/15/24</td>\n",
       "      <td>10/15/24</td>\n",
       "      <td>yes</td>\n",
       "      <td>LiXX</td>\n",
       "      <td>LiXX</td>\n",
       "    </tr>\n",
       "    <tr>\n",
       "      <th>2</th>\n",
       "      <td>Xiaoliwan wax+Paste conductive foam+Lower glass glue frame dispensing operation saturation75%</td>\n",
       "      <td>Low job saturation(lower than95%)</td>\n",
       "      <td>The improvement direction for the problem 'Xiaoliwan wax+Paste conductive foam+Lower glass glue frame dispensing operation saturation75%' is as follows: 1. Judgment of value and reduce tasks without added value 2. Inspection of movement quality and human engineering hazards: Reduce the number of movements, work with both hands at the same time, shorten the distance of movements, and make movements easier; eliminate human engineering hazards 3. Automated level inspection: simple and automated import 4. Merge and rearrange new job elements.</td>\n",
       "      <td>LiXX</td>\n",
       "      <td>10/8/24</td>\n",
       "      <td>10/8/24</td>\n",
       "      <td>10/15/24</td>\n",
       "      <td>10/15/24</td>\n",
       "      <td>yes</td>\n",
       "      <td>The improvement parameter 'Confirmation' for the problem 'Xiaoliwan wax+Paste conductive foam+Lower glass glue frame dispensing operation saturation75%' is 'yes'.</td>\n",
       "      <td>LiXX</td>\n",
       "    </tr>\n",
       "  </tbody>\n",
       "</table>"
      ],
      "text/plain": [
       "<IPython.core.display.HTML object>"
      ]
     },
     "execution_count": 33,
     "metadata": {},
     "output_type": "execute_result"
    }
   ],
   "source": [
    "import pandas as pd\n",
    "from IPython.core.display import HTML\n",
    "pd.set_option('display.max_colwidth', 10)\n",
    "out_df = pd.read_csv(\"Report_format_2_complete.csv\")\n",
    "html = out_df.to_html()\n",
    "HTML(html)"
   ]
  },
  {
   "cell_type": "code",
   "execution_count": 34,
   "metadata": {},
   "outputs": [],
   "source": [
    "out_df.to_excel(\"Report_format_2_complete.xlsx\", index=False)"
   ]
  },
  {
   "cell_type": "code",
   "execution_count": null,
   "metadata": {},
   "outputs": [],
   "source": [
    "#Creating new duration column for plotting the Gantt Chart"
   ]
  },
  {
   "cell_type": "code",
   "execution_count": 35,
   "metadata": {},
   "outputs": [
    {
     "data": {
      "text/html": [
       "<div>\n",
       "<style scoped>\n",
       "    .dataframe tbody tr th:only-of-type {\n",
       "        vertical-align: middle;\n",
       "    }\n",
       "\n",
       "    .dataframe tbody tr th {\n",
       "        vertical-align: top;\n",
       "    }\n",
       "\n",
       "    .dataframe thead th {\n",
       "        text-align: right;\n",
       "    }\n",
       "</style>\n",
       "<table border=\"1\" class=\"dataframe\">\n",
       "  <thead>\n",
       "    <tr style=\"text-align: right;\">\n",
       "      <th></th>\n",
       "      <th>Items to be improved</th>\n",
       "      <th>Description</th>\n",
       "      <th>Improvement direction</th>\n",
       "      <th>Person responsible</th>\n",
       "      <th>Expected start date</th>\n",
       "      <th>Actual start date</th>\n",
       "      <th>Expected completion date</th>\n",
       "      <th>Actual completion date</th>\n",
       "      <th>Improve immediately</th>\n",
       "      <th>Confirmation</th>\n",
       "      <th>appendix</th>\n",
       "    </tr>\n",
       "  </thead>\n",
       "  <tbody>\n",
       "    <tr>\n",
       "      <th>0</th>\n",
       "      <td>The sa...</td>\n",
       "      <td>NaN</td>\n",
       "      <td>NaN</td>\n",
       "      <td>NaN</td>\n",
       "      <td>NaN</td>\n",
       "      <td>NaN</td>\n",
       "      <td>NaN</td>\n",
       "      <td>NaN</td>\n",
       "      <td>NaN</td>\n",
       "      <td>NaN</td>\n",
       "      <td>NaN</td>\n",
       "    </tr>\n",
       "    <tr>\n",
       "      <th>1</th>\n",
       "      <td>Bottom...</td>\n",
       "      <td>Low jo...</td>\n",
       "      <td>Judgme...</td>\n",
       "      <td>LiXX</td>\n",
       "      <td>10/8/24</td>\n",
       "      <td>10/8/24</td>\n",
       "      <td>10/15/24</td>\n",
       "      <td>10/15/24</td>\n",
       "      <td>yes</td>\n",
       "      <td>LiXX</td>\n",
       "      <td>LiXX</td>\n",
       "    </tr>\n",
       "    <tr>\n",
       "      <th>2</th>\n",
       "      <td>Xiaoli...</td>\n",
       "      <td>Low jo...</td>\n",
       "      <td>The im...</td>\n",
       "      <td>LiXX</td>\n",
       "      <td>10/8/24</td>\n",
       "      <td>10/8/24</td>\n",
       "      <td>10/15/24</td>\n",
       "      <td>10/15/24</td>\n",
       "      <td>yes</td>\n",
       "      <td>The im...</td>\n",
       "      <td>LiXX</td>\n",
       "    </tr>\n",
       "  </tbody>\n",
       "</table>\n",
       "</div>"
      ],
      "text/plain": [
       "  Items to be improved Description Improvement direction Person responsible  \\\n",
       "0  The sa...                  NaN         NaN                   NaN           \n",
       "1  Bottom...            Low jo...   Judgme...                  LiXX           \n",
       "2  Xiaoli...            Low jo...   The im...                  LiXX           \n",
       "\n",
       "  Expected start date Actual start date Expected completion date  \\\n",
       "0        NaN                 NaN               NaN                 \n",
       "1    10/8/24             10/8/24          10/15/24                 \n",
       "2    10/8/24             10/8/24          10/15/24                 \n",
       "\n",
       "  Actual completion date Improve immediately Confirmation appendix  \n",
       "0        NaN                    NaN                 NaN        NaN  \n",
       "1   10/15/24                    yes                LiXX       LiXX  \n",
       "2   10/15/24                    yes           The im...       LiXX  "
      ]
     },
     "execution_count": 35,
     "metadata": {},
     "output_type": "execute_result"
    }
   ],
   "source": [
    "import os\n",
    "import pandas as pd\n",
    "file_path = '../llama_parse_al/Report_format_2_complete.csv'\n",
    "df = pd.read_csv(file_path)\n",
    "df.head()"
   ]
  },
  {
   "cell_type": "code",
   "execution_count": 36,
   "metadata": {},
   "outputs": [
    {
     "name": "stderr",
     "output_type": "stream",
     "text": [
      "C:\\Users\\Muhammad Al-Amin\\AppData\\Local\\Temp\\ipykernel_23624\\4031733434.py:1: UserWarning: Could not infer format, so each element will be parsed individually, falling back to `dateutil`. To ensure parsing is consistent and as-expected, please specify a format.\n",
      "  df['duration'] = pd.to_datetime(df['Actual completion date']) - pd.to_datetime(df['Actual start date'])\n",
      "C:\\Users\\Muhammad Al-Amin\\AppData\\Local\\Temp\\ipykernel_23624\\4031733434.py:1: UserWarning: Could not infer format, so each element will be parsed individually, falling back to `dateutil`. To ensure parsing is consistent and as-expected, please specify a format.\n",
      "  df['duration'] = pd.to_datetime(df['Actual completion date']) - pd.to_datetime(df['Actual start date'])\n"
     ]
    }
   ],
   "source": [
    "df['duration'] = pd.to_datetime(df['Actual completion date']) - pd.to_datetime(df['Actual start date'])"
   ]
  },
  {
   "cell_type": "code",
   "execution_count": 37,
   "metadata": {},
   "outputs": [
    {
     "data": {
      "text/html": [
       "<div>\n",
       "<style scoped>\n",
       "    .dataframe tbody tr th:only-of-type {\n",
       "        vertical-align: middle;\n",
       "    }\n",
       "\n",
       "    .dataframe tbody tr th {\n",
       "        vertical-align: top;\n",
       "    }\n",
       "\n",
       "    .dataframe thead th {\n",
       "        text-align: right;\n",
       "    }\n",
       "</style>\n",
       "<table border=\"1\" class=\"dataframe\">\n",
       "  <thead>\n",
       "    <tr style=\"text-align: right;\">\n",
       "      <th></th>\n",
       "      <th>Items to be improved</th>\n",
       "      <th>Description</th>\n",
       "      <th>Improvement direction</th>\n",
       "      <th>Person responsible</th>\n",
       "      <th>Expected start date</th>\n",
       "      <th>Actual start date</th>\n",
       "      <th>Expected completion date</th>\n",
       "      <th>Actual completion date</th>\n",
       "      <th>Improve immediately</th>\n",
       "      <th>Confirmation</th>\n",
       "      <th>appendix</th>\n",
       "      <th>duration</th>\n",
       "    </tr>\n",
       "  </thead>\n",
       "  <tbody>\n",
       "    <tr>\n",
       "      <th>0</th>\n",
       "      <td>The sa...</td>\n",
       "      <td>NaN</td>\n",
       "      <td>NaN</td>\n",
       "      <td>NaN</td>\n",
       "      <td>NaN</td>\n",
       "      <td>NaN</td>\n",
       "      <td>NaN</td>\n",
       "      <td>NaN</td>\n",
       "      <td>NaN</td>\n",
       "      <td>NaN</td>\n",
       "      <td>NaN</td>\n",
       "      <td>NaT</td>\n",
       "    </tr>\n",
       "    <tr>\n",
       "      <th>1</th>\n",
       "      <td>Bottom...</td>\n",
       "      <td>Low jo...</td>\n",
       "      <td>Judgme...</td>\n",
       "      <td>LiXX</td>\n",
       "      <td>10/8/24</td>\n",
       "      <td>10/8/24</td>\n",
       "      <td>10/15/24</td>\n",
       "      <td>10/15/24</td>\n",
       "      <td>yes</td>\n",
       "      <td>LiXX</td>\n",
       "      <td>LiXX</td>\n",
       "      <td>7 days</td>\n",
       "    </tr>\n",
       "    <tr>\n",
       "      <th>2</th>\n",
       "      <td>Xiaoli...</td>\n",
       "      <td>Low jo...</td>\n",
       "      <td>The im...</td>\n",
       "      <td>LiXX</td>\n",
       "      <td>10/8/24</td>\n",
       "      <td>10/8/24</td>\n",
       "      <td>10/15/24</td>\n",
       "      <td>10/15/24</td>\n",
       "      <td>yes</td>\n",
       "      <td>The im...</td>\n",
       "      <td>LiXX</td>\n",
       "      <td>7 days</td>\n",
       "    </tr>\n",
       "  </tbody>\n",
       "</table>\n",
       "</div>"
      ],
      "text/plain": [
       "  Items to be improved Description Improvement direction Person responsible  \\\n",
       "0  The sa...                  NaN         NaN                   NaN           \n",
       "1  Bottom...            Low jo...   Judgme...                  LiXX           \n",
       "2  Xiaoli...            Low jo...   The im...                  LiXX           \n",
       "\n",
       "  Expected start date Actual start date Expected completion date  \\\n",
       "0        NaN                 NaN               NaN                 \n",
       "1    10/8/24             10/8/24          10/15/24                 \n",
       "2    10/8/24             10/8/24          10/15/24                 \n",
       "\n",
       "  Actual completion date Improve immediately Confirmation appendix duration  \n",
       "0        NaN                    NaN                 NaN        NaN      NaT  \n",
       "1   10/15/24                    yes                LiXX       LiXX   7 days  \n",
       "2   10/15/24                    yes           The im...       LiXX   7 days  "
      ]
     },
     "execution_count": 37,
     "metadata": {},
     "output_type": "execute_result"
    }
   ],
   "source": [
    "df.head()"
   ]
  },
  {
   "cell_type": "code",
   "execution_count": 38,
   "metadata": {},
   "outputs": [],
   "source": [
    "# Position a column to a specified place in pandas\n",
    "columns = list(df.columns)\n",
    "columns.remove('duration')\n",
    "insert_at = columns.index('Actual completion date') + 1\n",
    "columns.insert(insert_at, 'duration')\n",
    "df = df[columns]"
   ]
  },
  {
   "cell_type": "code",
   "execution_count": 39,
   "metadata": {},
   "outputs": [],
   "source": [
    "# Save the excel file after formatting is done\n",
    "df.to_excel('Report_format_2_complete_input.xlsx', index=False)"
   ]
  },
  {
   "cell_type": "code",
   "execution_count": 40,
   "metadata": {},
   "outputs": [
    {
     "data": {
      "text/html": [
       "<div>\n",
       "<style scoped>\n",
       "    .dataframe tbody tr th:only-of-type {\n",
       "        vertical-align: middle;\n",
       "    }\n",
       "\n",
       "    .dataframe tbody tr th {\n",
       "        vertical-align: top;\n",
       "    }\n",
       "\n",
       "    .dataframe thead th {\n",
       "        text-align: right;\n",
       "    }\n",
       "</style>\n",
       "<table border=\"1\" class=\"dataframe\">\n",
       "  <thead>\n",
       "    <tr style=\"text-align: right;\">\n",
       "      <th></th>\n",
       "      <th>Items to be improved</th>\n",
       "      <th>Description</th>\n",
       "      <th>Improvement direction</th>\n",
       "      <th>Person responsible</th>\n",
       "      <th>Expected start date</th>\n",
       "      <th>Actual start date</th>\n",
       "      <th>Expected completion date</th>\n",
       "      <th>Actual completion date</th>\n",
       "      <th>duration</th>\n",
       "      <th>Improve immediately</th>\n",
       "      <th>Confirmation</th>\n",
       "      <th>appendix</th>\n",
       "    </tr>\n",
       "  </thead>\n",
       "  <tbody>\n",
       "    <tr>\n",
       "      <th>0</th>\n",
       "      <td>The sa...</td>\n",
       "      <td>NaN</td>\n",
       "      <td>NaN</td>\n",
       "      <td>NaN</td>\n",
       "      <td>NaN</td>\n",
       "      <td>NaN</td>\n",
       "      <td>NaN</td>\n",
       "      <td>NaN</td>\n",
       "      <td>NaT</td>\n",
       "      <td>NaN</td>\n",
       "      <td>NaN</td>\n",
       "      <td>NaN</td>\n",
       "    </tr>\n",
       "    <tr>\n",
       "      <th>1</th>\n",
       "      <td>Bottom...</td>\n",
       "      <td>Low jo...</td>\n",
       "      <td>Judgme...</td>\n",
       "      <td>LiXX</td>\n",
       "      <td>10/8/24</td>\n",
       "      <td>10/8/24</td>\n",
       "      <td>10/15/24</td>\n",
       "      <td>10/15/24</td>\n",
       "      <td>7 days</td>\n",
       "      <td>yes</td>\n",
       "      <td>LiXX</td>\n",
       "      <td>LiXX</td>\n",
       "    </tr>\n",
       "    <tr>\n",
       "      <th>2</th>\n",
       "      <td>Xiaoli...</td>\n",
       "      <td>Low jo...</td>\n",
       "      <td>The im...</td>\n",
       "      <td>LiXX</td>\n",
       "      <td>10/8/24</td>\n",
       "      <td>10/8/24</td>\n",
       "      <td>10/15/24</td>\n",
       "      <td>10/15/24</td>\n",
       "      <td>7 days</td>\n",
       "      <td>yes</td>\n",
       "      <td>The im...</td>\n",
       "      <td>LiXX</td>\n",
       "    </tr>\n",
       "  </tbody>\n",
       "</table>\n",
       "</div>"
      ],
      "text/plain": [
       "  Items to be improved Description Improvement direction Person responsible  \\\n",
       "0  The sa...                  NaN         NaN                   NaN           \n",
       "1  Bottom...            Low jo...   Judgme...                  LiXX           \n",
       "2  Xiaoli...            Low jo...   The im...                  LiXX           \n",
       "\n",
       "  Expected start date Actual start date Expected completion date  \\\n",
       "0        NaN                 NaN               NaN                 \n",
       "1    10/8/24             10/8/24          10/15/24                 \n",
       "2    10/8/24             10/8/24          10/15/24                 \n",
       "\n",
       "  Actual completion date duration Improve immediately Confirmation appendix  \n",
       "0        NaN                  NaT        NaN                 NaN        NaN  \n",
       "1   10/15/24               7 days        yes                LiXX       LiXX  \n",
       "2   10/15/24               7 days        yes           The im...       LiXX  "
      ]
     },
     "execution_count": 40,
     "metadata": {},
     "output_type": "execute_result"
    }
   ],
   "source": [
    "df.head()"
   ]
  },
  {
   "cell_type": "code",
   "execution_count": 41,
   "metadata": {},
   "outputs": [
    {
     "data": {
      "text/plain": [
       "True"
      ]
     },
     "execution_count": 41,
     "metadata": {},
     "output_type": "execute_result"
    }
   ],
   "source": [
    "import os\n",
    "file_path = '../llama_parse_al/Report_format_2_complete_input.xlsx'\n",
    "os.path.exists(file_path)"
   ]
  },
  {
   "cell_type": "code",
   "execution_count": 42,
   "metadata": {},
   "outputs": [
    {
     "name": "stdout",
     "output_type": "stream",
     "text": [
      "Chart added to 'updated_data.xlsx'\n"
     ]
    }
   ],
   "source": [
    "from openpyxl import load_workbook\n",
    "from openpyxl.chart import BarChart, Reference\n",
    "from openpyxl.chart.label import DataLabelList\n",
    "# Step 1: Load the Excel file\n",
    "# file_path = \"data.xlsx\"  # Replace with your Excel file path\n",
    "workbook = load_workbook(file_path)\n",
    "sheet = workbook.active  # Use the active sheet (or specify by name: workbook['SheetName'])\n",
    "\n",
    "# Step 2: Identify the data range (e.g., A1:B5)\n",
    "# Assuming the first column has categories (e.g., tasks) and the second has values (e.g., counts)\n",
    "categories = Reference(sheet, min_col=1, min_row=2, max_row=sheet.max_row)  # Task names\n",
    "values = Reference(sheet, min_col=9, min_row=1, max_row=sheet.max_row)  # Values including header\n",
    "\n",
    "# Step 3: Create a horizontal bar chart\n",
    "chart = BarChart()\n",
    "chart.type = \"bar\"  # Horizontal bar chart\n",
    "chart.title = \"Timeline Chart\"\n",
    "chart.y_axis.title = \"Days\"\n",
    "chart.x_axis.title = \"Tasks\"\n",
    "# Add data and categories to the chart\n",
    "chart.add_data(values, titles_from_data=True)\n",
    "chart.set_categories(categories)\n",
    "# Step 5: Add data labels\n",
    "data_labels = DataLabelList()  # Create a DataLabelList object\n",
    "data_labels.showVal = True  # Show values on the bars\n",
    "data_labels.position = 'inBase'\n",
    "chart.dLbls = data_labels\n",
    "chart.legend = None\n",
    "\n",
    "# Step 4: Add the chart to the worksheet\n",
    "sheet.add_chart(chart, \"M2\")  # Place the chart in column D, row 2\n",
    "\n",
    "# Step 5: Save the updated Excel file\n",
    "workbook.save(\"updated_data.xlsx\")\n",
    "print(\"Chart added to 'updated_data.xlsx'\")"
   ]
  },
  {
   "cell_type": "code",
   "execution_count": null,
   "metadata": {},
   "outputs": [],
   "source": [
    "chart.dLbls"
   ]
  },
  {
   "cell_type": "code",
   "execution_count": 43,
   "metadata": {},
   "outputs": [],
   "source": [
    "from openpyxl import load_workbook\n",
    "workbook = load_workbook(\"Report_format_2_complete.xlsx\")"
   ]
  },
  {
   "cell_type": "code",
   "execution_count": 44,
   "metadata": {},
   "outputs": [
    {
     "name": "stdout",
     "output_type": "stream",
     "text": [
      "New row added at the beginning!\n"
     ]
    }
   ],
   "source": [
    "# Select the active worksheet (or specify the sheet by name)\n",
    "sheet = workbook.active  # or workbook[\"SheetName\"]\n",
    "\n",
    "# Insert a new row at the beginning\n",
    "sheet.insert_rows(1)  # Insert an empty row at the top\n",
    "\n",
    "# Merge two cells (e.g., A1 and B1)\n",
    "sheet.merge_cells(\"E1:F1\")\n",
    "\n",
    "# Write data into the merged cells\n",
    "sheet[\"E1\"] = \"Date\"\n",
    "\n",
    "# Save the workbook\n",
    "workbook.save(\"example.xlsx\")\n",
    "\n",
    "print(\"New row added at the beginning!\")\n"
   ]
  },
  {
   "cell_type": "code",
   "execution_count": 45,
   "metadata": {},
   "outputs": [
    {
     "ename": "ValueError",
     "evalue": "\nImage export using the \"kaleido\" engine requires the kaleido package,\nwhich can be installed using pip:\n    $ pip install -U kaleido\n",
     "output_type": "error",
     "traceback": [
      "\u001b[1;31m---------------------------------------------------------------------------\u001b[0m",
      "\u001b[1;31mValueError\u001b[0m                                Traceback (most recent call last)",
      "Cell \u001b[1;32mIn[45], line 43\u001b[0m\n\u001b[0;32m     41\u001b[0m \u001b[38;5;66;03m# Step 6: Save the chart as an image\u001b[39;00m\n\u001b[0;32m     42\u001b[0m image_file \u001b[38;5;241m=\u001b[39m \u001b[38;5;124m\"\u001b[39m\u001b[38;5;124mgantt_chart_with_custom_xaxis.png\u001b[39m\u001b[38;5;124m\"\u001b[39m\n\u001b[1;32m---> 43\u001b[0m \u001b[43mfig\u001b[49m\u001b[38;5;241;43m.\u001b[39;49m\u001b[43mwrite_image\u001b[49m\u001b[43m(\u001b[49m\u001b[43mimage_file\u001b[49m\u001b[43m)\u001b[49m  \u001b[38;5;66;03m# Requires kaleido library (install using `pip install kaleido`)\u001b[39;00m\n\u001b[0;32m     45\u001b[0m \u001b[38;5;66;03m# Step 7: Load the Excel file\u001b[39;00m\n\u001b[0;32m     46\u001b[0m wb \u001b[38;5;241m=\u001b[39m load_workbook(file_path)\n",
      "File \u001b[1;32m~\\Desktop\\Al-Amin\\llama_parse_al\\env\\lib\\site-packages\\plotly\\basedatatypes.py:3835\u001b[0m, in \u001b[0;36mBaseFigure.write_image\u001b[1;34m(self, *args, **kwargs)\u001b[0m\n\u001b[0;32m   3775\u001b[0m \u001b[38;5;250m\u001b[39m\u001b[38;5;124;03m\"\"\"\u001b[39;00m\n\u001b[0;32m   3776\u001b[0m \u001b[38;5;124;03mConvert a figure to a static image and write it to a file or writeable\u001b[39;00m\n\u001b[0;32m   3777\u001b[0m \u001b[38;5;124;03mobject\u001b[39;00m\n\u001b[1;32m   (...)\u001b[0m\n\u001b[0;32m   3831\u001b[0m \u001b[38;5;124;03mNone\u001b[39;00m\n\u001b[0;32m   3832\u001b[0m \u001b[38;5;124;03m\"\"\"\u001b[39;00m\n\u001b[0;32m   3833\u001b[0m \u001b[38;5;28;01mimport\u001b[39;00m \u001b[38;5;21;01mplotly\u001b[39;00m\u001b[38;5;21;01m.\u001b[39;00m\u001b[38;5;21;01mio\u001b[39;00m \u001b[38;5;28;01mas\u001b[39;00m \u001b[38;5;21;01mpio\u001b[39;00m\n\u001b[1;32m-> 3835\u001b[0m \u001b[38;5;28;01mreturn\u001b[39;00m pio\u001b[38;5;241m.\u001b[39mwrite_image(\u001b[38;5;28mself\u001b[39m, \u001b[38;5;241m*\u001b[39margs, \u001b[38;5;241m*\u001b[39m\u001b[38;5;241m*\u001b[39mkwargs)\n",
      "File \u001b[1;32m~\\Desktop\\Al-Amin\\llama_parse_al\\env\\lib\\site-packages\\plotly\\io\\_kaleido.py:266\u001b[0m, in \u001b[0;36mwrite_image\u001b[1;34m(fig, file, format, scale, width, height, validate, engine)\u001b[0m\n\u001b[0;32m    250\u001b[0m             \u001b[38;5;28;01mraise\u001b[39;00m \u001b[38;5;167;01mValueError\u001b[39;00m(\n\u001b[0;32m    251\u001b[0m \u001b[38;5;250m                \u001b[39m\u001b[38;5;124;03m\"\"\"\u001b[39;00m\n\u001b[0;32m    252\u001b[0m \u001b[38;5;124;03mCannot infer image type from output path '{file}'.\u001b[39;00m\n\u001b[1;32m   (...)\u001b[0m\n\u001b[0;32m    260\u001b[0m                 )\n\u001b[0;32m    261\u001b[0m             )\n\u001b[0;32m    263\u001b[0m     \u001b[38;5;66;03m# Request image\u001b[39;00m\n\u001b[0;32m    264\u001b[0m     \u001b[38;5;66;03m# -------------\u001b[39;00m\n\u001b[0;32m    265\u001b[0m     \u001b[38;5;66;03m# Do this first so we don't create a file if image conversion fails\u001b[39;00m\n\u001b[1;32m--> 266\u001b[0m     img_data \u001b[38;5;241m=\u001b[39m \u001b[43mto_image\u001b[49m\u001b[43m(\u001b[49m\n\u001b[0;32m    267\u001b[0m \u001b[43m        \u001b[49m\u001b[43mfig\u001b[49m\u001b[43m,\u001b[49m\n\u001b[0;32m    268\u001b[0m \u001b[43m        \u001b[49m\u001b[38;5;28;43mformat\u001b[39;49m\u001b[38;5;241;43m=\u001b[39;49m\u001b[38;5;28;43mformat\u001b[39;49m\u001b[43m,\u001b[49m\n\u001b[0;32m    269\u001b[0m \u001b[43m        \u001b[49m\u001b[43mscale\u001b[49m\u001b[38;5;241;43m=\u001b[39;49m\u001b[43mscale\u001b[49m\u001b[43m,\u001b[49m\n\u001b[0;32m    270\u001b[0m \u001b[43m        \u001b[49m\u001b[43mwidth\u001b[49m\u001b[38;5;241;43m=\u001b[39;49m\u001b[43mwidth\u001b[49m\u001b[43m,\u001b[49m\n\u001b[0;32m    271\u001b[0m \u001b[43m        \u001b[49m\u001b[43mheight\u001b[49m\u001b[38;5;241;43m=\u001b[39;49m\u001b[43mheight\u001b[49m\u001b[43m,\u001b[49m\n\u001b[0;32m    272\u001b[0m \u001b[43m        \u001b[49m\u001b[43mvalidate\u001b[49m\u001b[38;5;241;43m=\u001b[39;49m\u001b[43mvalidate\u001b[49m\u001b[43m,\u001b[49m\n\u001b[0;32m    273\u001b[0m \u001b[43m        \u001b[49m\u001b[43mengine\u001b[49m\u001b[38;5;241;43m=\u001b[39;49m\u001b[43mengine\u001b[49m\u001b[43m,\u001b[49m\n\u001b[0;32m    274\u001b[0m \u001b[43m    \u001b[49m\u001b[43m)\u001b[49m\n\u001b[0;32m    276\u001b[0m     \u001b[38;5;66;03m# Open file\u001b[39;00m\n\u001b[0;32m    277\u001b[0m     \u001b[38;5;66;03m# ---------\u001b[39;00m\n\u001b[0;32m    278\u001b[0m     \u001b[38;5;28;01mif\u001b[39;00m path \u001b[38;5;129;01mis\u001b[39;00m \u001b[38;5;28;01mNone\u001b[39;00m:\n\u001b[0;32m    279\u001b[0m         \u001b[38;5;66;03m# We previously failed to make sense of `file` as a pathlib object.\u001b[39;00m\n\u001b[0;32m    280\u001b[0m         \u001b[38;5;66;03m# Attempt to write to `file` as an open file descriptor.\u001b[39;00m\n",
      "File \u001b[1;32m~\\Desktop\\Al-Amin\\llama_parse_al\\env\\lib\\site-packages\\plotly\\io\\_kaleido.py:132\u001b[0m, in \u001b[0;36mto_image\u001b[1;34m(fig, format, width, height, scale, validate, engine)\u001b[0m\n\u001b[0;32m    130\u001b[0m     \u001b[38;5;66;03m# Raise informative error message if Kaleido is not installed\u001b[39;00m\n\u001b[0;32m    131\u001b[0m     \u001b[38;5;28;01mif\u001b[39;00m scope \u001b[38;5;129;01mis\u001b[39;00m \u001b[38;5;28;01mNone\u001b[39;00m:\n\u001b[1;32m--> 132\u001b[0m         \u001b[38;5;28;01mraise\u001b[39;00m \u001b[38;5;167;01mValueError\u001b[39;00m(\n\u001b[0;32m    133\u001b[0m \u001b[38;5;250m            \u001b[39m\u001b[38;5;124;03m\"\"\"\u001b[39;00m\n\u001b[0;32m    134\u001b[0m \u001b[38;5;124;03mImage export using the \"kaleido\" engine requires the kaleido package,\u001b[39;00m\n\u001b[0;32m    135\u001b[0m \u001b[38;5;124;03mwhich can be installed using pip:\u001b[39;00m\n\u001b[0;32m    136\u001b[0m \u001b[38;5;124;03m    $ pip install -U kaleido\u001b[39;00m\n\u001b[0;32m    137\u001b[0m \u001b[38;5;124;03m\"\"\"\u001b[39;00m\n\u001b[0;32m    138\u001b[0m         )\n\u001b[0;32m    140\u001b[0m     \u001b[38;5;66;03m# Validate figure\u001b[39;00m\n\u001b[0;32m    141\u001b[0m     \u001b[38;5;66;03m# ---------------\u001b[39;00m\n\u001b[0;32m    142\u001b[0m     fig_dict \u001b[38;5;241m=\u001b[39m validate_coerce_fig_to_dict(fig, validate)\n",
      "\u001b[1;31mValueError\u001b[0m: \nImage export using the \"kaleido\" engine requires the kaleido package,\nwhich can be installed using pip:\n    $ pip install -U kaleido\n"
     ]
    }
   ],
   "source": [
    "# Try improving the graph to make an interactive Gantt Chart\n",
    "## Final version of the graph of Gantt Chart\n",
    "\n",
    "import pandas as pd\n",
    "import plotly.express as px\n",
    "from openpyxl import load_workbook\n",
    "from openpyxl.drawing.image import Image\n",
    "\n",
    "# Step 1: Read Excel file\n",
    "file_path = './data/tasks.xlsx'\n",
    "df = pd.read_excel(file_path)\n",
    "\n",
    "# Step 2: Ensure columns are in the correct format\n",
    "df['Start'] = pd.to_datetime(df['Start'])\n",
    "df['Finish'] = pd.to_datetime(df['Finish'])\n",
    "\n",
    "# Step 3: Add a column for data labels (e.g., Task names or durations)\n",
    "df['Label'] =  (df['Finish'] - df['Start']).dt.days.astype(str)\n",
    "# df['Label'] = df['Task'] + \" (\" + ((df['Finish'] - df['Start']).dt.days.astype(str)) + \" days)\"\n",
    "\n",
    "# Step 4: Create a Gantt chart with data labels\n",
    "fig = px.timeline(\n",
    "    df,\n",
    "    x_start=\"Start\",\n",
    "    x_end=\"Finish\",\n",
    "    y=\"Task\",\n",
    "    color=\"Resource\",\n",
    "    text=\"Label\",  # Overlay Task names and durations\n",
    "    title=\"Gantt Chart with Custom X-Axis\"\n",
    ")\n",
    "\n",
    "# Step 5: Customize the x-axis\n",
    "fig.update_traces(textposition=\"auto\", textfont=dict(size=12, color=\"white\"))\n",
    "\n",
    "fig.update_yaxes(categoryorder=\"trace\")  # Optional: Sort tasks by total ascending\n",
    "fig.update_layout(\n",
    "    xaxis_title=\"Project Timeline (Dates)\",  # Custom x-axis label\n",
    "    title_x=0.5  # Center the chart title\n",
    ")\n",
    "\n",
    "# Step 6: Save the chart as an image\n",
    "image_file = \"gantt_chart_with_custom_xaxis.png\"\n",
    "fig.write_image(image_file)  # Requires kaleido library (install using `pip install kaleido`)\n",
    "\n",
    "# Step 7: Load the Excel file\n",
    "wb = load_workbook(file_path)\n",
    "ws = wb.active  # Use the first sheet (or specify a sheet name)\n",
    "\n",
    "# Step 8: Insert the image into the Excel file\n",
    "img = Image(image_file)\n",
    "img.anchor = \"E2\"  # Position to embed the image (e.g., cell E2)\n",
    "ws.add_image(img)\n",
    "\n",
    "# Step 9: Save the updated Excel file\n",
    "output_file = \"tasks_with_custom_xaxis.xlsx\"\n",
    "wb.save(output_file)\n",
    "\n",
    "print(f\"Gantt chart with custom x-axis embedded in {output_file}\")"
   ]
  },
  {
   "cell_type": "code",
   "execution_count": null,
   "metadata": {},
   "outputs": [],
   "source": []
  }
 ],
 "metadata": {
  "kernelspec": {
   "display_name": "lparser",
   "language": "python",
   "name": "lparser"
  },
  "language_info": {
   "codemirror_mode": {
    "name": "ipython",
    "version": 3
   },
   "file_extension": ".py",
   "mimetype": "text/x-python",
   "name": "python",
   "nbconvert_exporter": "python",
   "pygments_lexer": "ipython3",
   "version": "3.9.13"
  }
 },
 "nbformat": 4,
 "nbformat_minor": 2
}
